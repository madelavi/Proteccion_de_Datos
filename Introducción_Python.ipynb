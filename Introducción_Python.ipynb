{
  "nbformat": 4,
  "nbformat_minor": 0,
  "metadata": {
    "colab": {
      "provenance": [],
      "authorship_tag": "ABX9TyP2nKC0oWUkOetdejCgXnv/",
      "include_colab_link": true
    },
    "kernelspec": {
      "name": "python3",
      "display_name": "Python 3"
    },
    "language_info": {
      "name": "python"
    }
  },
  "cells": [
    {
      "cell_type": "markdown",
      "metadata": {
        "id": "view-in-github",
        "colab_type": "text"
      },
      "source": [
        "<a href=\"https://colab.research.google.com/github/madelavi/Proteccion_de_Datos/blob/main/Introducci%C3%B3n_Python.ipynb\" target=\"_parent\"><img src=\"https://colab.research.google.com/assets/colab-badge.svg\" alt=\"Open In Colab\"/></a>"
      ]
    },
    {
      "cell_type": "markdown",
      "source": [
        "# Ejercicio 1\n",
        "### Objetos y clases"
      ],
      "metadata": {
        "id": "Rbc1oU3eq0MS"
      }
    },
    {
      "cell_type": "markdown",
      "source": [
        "Vamos a escribir una clase que define una bicicleta y crearemos dos bicicletas, una roja y una azul."
      ],
      "metadata": {
        "id": "inwC44ouzKaI"
      }
    },
    {
      "cell_type": "code",
      "source": [
        "# Objetos_clases.py\n",
        "# Definimos la clase bicicleta\n",
        "class Bike:\n",
        "  def __init__(self, colour, frame_material):\n",
        "    self.colour = colour\n",
        "    self.frame_material = frame_material\n",
        "\n",
        "  def brake(self):\n",
        "      print(\"Braking!\")\n",
        "\n",
        "# Creamos un par de instancias\n",
        "red_bike = Bike('Red', 'Carbon fiber')\n",
        "blue_bike = Bike('Blue', 'Steel')\n",
        "\n",
        "# Inspeccionamos los objetos que tenemos, instancias de la clase Bike.\n",
        "print(red_bike.colour) # imprime: Red\n",
        "print(red_bike.frame_material) # imprime: Carbon fiber\n",
        "print(blue_bike.colour) # imprime: Blue\n",
        "print(blue_bike.frame_material) # imprime: Steel\n",
        "\n",
        "# Paramos\n",
        "red_bike.brake() # imprime: Braking! /Frenado"
      ],
      "metadata": {
        "colab": {
          "base_uri": "https://localhost:8080/"
        },
        "id": "EZtHP2QFrHQK",
        "outputId": "71c1f12b-6e5f-48c0-bfa5-3c4bbc03ed59"
      },
      "execution_count": null,
      "outputs": [
        {
          "output_type": "stream",
          "name": "stdout",
          "text": [
            "Red\n",
            "Carbon fiber\n",
            "Blue\n",
            "Steel\n",
            "Braking!\n"
          ]
        }
      ]
    },
    {
      "cell_type": "markdown",
      "source": [
        "La definición de una clase se realiza con la instrucción class. Después de haber definido la clase, estamos listos para crear algunas instancias. Puedes ver que el cuerpo de la clase alberga la definición de dos métodos. Un método es, básicamente (y simplificando), una función que pertenece a una clase.\n",
        "\n",
        "El primer método, init, es un inicializador.\n",
        "\n",
        "Así que creamos dos bicicletas: una tiene un color rojo y un marco de fibra de carbono, y la otra tiene un color azul y un marco de acero. Pasamos esos valores al crearlas; luego, imprimimos la propiedad color y tipo de marco de la bicicleta roja, y el tipo de marco de la bicicleta azul solo como ejemplo. También llamamos al método brake de red_bike."
      ],
      "metadata": {
        "id": "hMNltujbzMkt"
      }
    },
    {
      "cell_type": "code",
      "source": [],
      "metadata": {
        "id": "TZehnGZsz4q-"
      },
      "execution_count": null,
      "outputs": []
    },
    {
      "cell_type": "markdown",
      "source": [
        "# Ejercicio 2\n",
        "### Números complejos\n",
        "\n"
      ],
      "metadata": {
        "id": "43PgkVfbtri_"
      }
    },
    {
      "cell_type": "code",
      "source": [
        "#numeros_complejos.py\n",
        "c = 3.14 + 2.73j\n",
        "c = complex(3.14, 2.73) # misma operación de arriba\n",
        "print(c.real) # parte real\n",
        "\n",
        "print(c.imag) # parte imaginaria\n",
        "\n",
        "print(c.conjugate()) # conjugado de A + Bj es A - Bj\n",
        "\n",
        "print(c * 2) # se permite la multiplicación\n",
        "\n",
        "print(c ** 2 )# operación de potencia\n",
        "\n",
        "d = 1 + 1j # suma y resta\n",
        "c - d"
      ],
      "metadata": {
        "colab": {
          "base_uri": "https://localhost:8080/"
        },
        "id": "0J1CxtQ6vzye",
        "outputId": "53db6576-99e3-4f07-fd24-677067ad49dd"
      },
      "execution_count": null,
      "outputs": [
        {
          "output_type": "stream",
          "name": "stdout",
          "text": [
            "3.14\n",
            "2.73\n",
            "(3.14-2.73j)\n",
            "(6.28+5.46j)\n",
            "(2.4067000000000007+17.1444j)\n"
          ]
        },
        {
          "output_type": "execute_result",
          "data": {
            "text/plain": [
              "(2.14+1.73j)"
            ]
          },
          "metadata": {},
          "execution_count": 9
        }
      ]
    },
    {
      "cell_type": "markdown",
      "source": [
        "# Ejercicio 3\n",
        "### Indexación y cortes de cadenas"
      ],
      "metadata": {
        "id": "daIVdpze2djG"
      }
    },
    {
      "cell_type": "code",
      "source": [
        "#indexacion/cortes_cadenas.py\n",
        "s = \"The trouble is you think you have time.\"\n",
        "print(s[0]) # indexación en la posición 0, que es el primer carácter\n",
        "\n",
        "print(s[5]) # indexación en la posición 5, que es el sexto carácter\n",
        "\n",
        "print(s[:4]) # Al cortar, especificamos solo la posición de parada.\n",
        "\n",
        "print(s[4:]) # rebanando, especificamos solo la posición inicial\n",
        "\n",
        "print(s[2:14]) # Cortar, en ambas posiciones inicial y final.\n",
        "\n",
        "print(s[2:14:3]) # cortar, iniciar, detener y avanzar (cada 3 caracteres)\n",
        "\n",
        "print(s[:]) # forma rápida de hacer una copia\n"
      ],
      "metadata": {
        "colab": {
          "base_uri": "https://localhost:8080/"
        },
        "id": "3t6F-fEV2dK0",
        "outputId": "d1790136-1cb7-4aa4-8e93-4d11eab2b1cc"
      },
      "execution_count": null,
      "outputs": [
        {
          "output_type": "stream",
          "name": "stdout",
          "text": [
            "T\n",
            "r\n",
            "The \n",
            "trouble is you think you have time.\n",
            "e trouble is\n",
            "erb \n",
            "The trouble is you think you have time.\n"
          ]
        }
      ]
    },
    {
      "cell_type": "markdown",
      "source": [
        "La última línea es bastante interesante. Si no especificas ninguno de los parámetros, Python llenará los valores predeterminados por ti. En este caso, el inicio será el principio de la cadena, el fin será el final de la cadena y el paso será el predeterminado: 1. Esta es una forma fácil y rápida de obtener una copia de la cadena s (el mismo valor, pero un objeto diferente)."
      ],
      "metadata": {
        "id": "wSSfsHPX1hXI"
      }
    },
    {
      "cell_type": "markdown",
      "source": [
        "# Ejercicio 4\n",
        "### Listas"
      ],
      "metadata": {
        "id": "UxvFOCrP5S21"
      }
    },
    {
      "cell_type": "markdown",
      "source": [
        "Crear una lista"
      ],
      "metadata": {
        "id": "gwWWssKZ2I8j"
      }
    },
    {
      "cell_type": "code",
      "source": [
        "# crear_lista.py\n",
        "print([]) # lista vacía\n",
        "print(list()) # igual que []\n",
        "\n",
        "print([1, 2, 3]) # los elementos están separados por comas.\n",
        "\n",
        "print([x + 5 for x in [2, 3, 4]])\n",
        "\n",
        "print(list((1, 3, 5, 7, 9))) # list de una tupla\n",
        "\n",
        "list('hello') # lista de una cadena"
      ],
      "metadata": {
        "colab": {
          "base_uri": "https://localhost:8080/"
        },
        "id": "FvenUlPX5ZMd",
        "outputId": "824f1a6e-983a-41fb-9140-c9c9383a4591"
      },
      "execution_count": null,
      "outputs": [
        {
          "output_type": "stream",
          "name": "stdout",
          "text": [
            "[]\n",
            "[]\n",
            "[1, 2, 3]\n",
            "[7, 8, 9]\n",
            "[1, 3, 5, 7, 9]\n"
          ]
        },
        {
          "output_type": "execute_result",
          "data": {
            "text/plain": [
              "['h', 'e', 'l', 'l', 'o']"
            ]
          },
          "metadata": {},
          "execution_count": 28
        }
      ]
    },
    {
      "cell_type": "markdown",
      "source": [
        " Principales métodos que nos ofrecen:"
      ],
      "metadata": {
        "id": "U6CWouE32MOZ"
      }
    },
    {
      "cell_type": "code",
      "source": [
        "# metodos_lista.py\n",
        "a = [1, 2, 1, 3]\n",
        "a.append(13) # podemos añadir cualquier cosa al final.\n",
        "print(a)\n",
        "\n",
        "print(a.count(1)) # ¿Cuántos \"1\" hay en la lista?\n",
        "\n",
        "print(a.extend([5, 7]))\n",
        "\n",
        "print(a)\n",
        "[1, 2, 1, 3, 13, 5, 7]\n",
        "print(a.index(13)) # posición de `13` en la lista (indexación basada en 0)\n",
        "\n",
        "a.insert(0, 17) # inserte `17` en la posición 0\n",
        "print(a)\n",
        "\n",
        "print(a.pop()) # pop (eliminar y devolver) el último elemento\n",
        "\n",
        "print(a.pop(3)) # elemento pop en la posición 3\n",
        "\n",
        "print(a)\n",
        "\n",
        "a.remove(17) # eliminar `17` de la lista\n",
        "print(a)\n",
        "\n",
        "a.reverse() # invertir el orden de los elementos de la lista\n",
        "print(a)\n",
        "\n",
        "a.sort() # ordenar la lista\n",
        "print(a)\n",
        "\n",
        "a.clear() # eliminar todos los elementos de la lista\n",
        "print(a)"
      ],
      "metadata": {
        "colab": {
          "base_uri": "https://localhost:8080/"
        },
        "id": "-a0D7HXx6Zh4",
        "outputId": "19bb4d3d-6656-4fcc-8df0-8456b982833d"
      },
      "execution_count": null,
      "outputs": [
        {
          "output_type": "stream",
          "name": "stdout",
          "text": [
            "[1, 2, 1, 3, 13]\n",
            "2\n",
            "None\n",
            "[1, 2, 1, 3, 13, 5, 7]\n",
            "4\n",
            "[17, 1, 2, 1, 3, 13, 5, 7]\n",
            "7\n",
            "1\n",
            "[17, 1, 2, 3, 13, 5]\n",
            "[1, 2, 3, 13, 5]\n",
            "[5, 13, 3, 2, 1]\n",
            "[1, 2, 3, 5, 13]\n",
            "[]\n"
          ]
        }
      ]
    },
    {
      "cell_type": "markdown",
      "source": [
        "Operaciones más comunes que puedes realizar con listas:"
      ],
      "metadata": {
        "id": "H0DLo8Gv3QUE"
      }
    },
    {
      "cell_type": "code",
      "source": [
        "# operaciones_listas.py\n",
        "a = [1, 3, 5, 7]\n",
        "print(min(a)) # valor mínimo en la lista\n",
        "\n",
        "print(max(a)) # valor máximo en la lista\n",
        "\n",
        "print(sum(a)) # suma de todos los valores en la lista\n",
        "\n",
        "from math import prod\n",
        "print(prod(a)) # producto de todos los valores de la lista\n",
        "\n",
        "print(len(a)) # número de elementos en la lista\n",
        "\n",
        "b = [6, 7, 8]\n",
        "print(a + b) # `+`con lista significa concatenación\n",
        "\n",
        "a * 2 # `*` también tiene un significado especial"
      ],
      "metadata": {
        "colab": {
          "base_uri": "https://localhost:8080/"
        },
        "id": "8Ko2w4VP8Evn",
        "outputId": "0ce3fd56-d850-47ce-defd-bfd4acd95c70"
      },
      "execution_count": null,
      "outputs": [
        {
          "output_type": "stream",
          "name": "stdout",
          "text": [
            "1\n",
            "7\n",
            "16\n",
            "105\n",
            "4\n",
            "[1, 3, 5, 7, 6, 7, 8]\n"
          ]
        },
        {
          "output_type": "execute_result",
          "data": {
            "text/plain": [
              "[1, 3, 5, 7, 1, 3, 5, 7]"
            ]
          },
          "metadata": {},
          "execution_count": 32
        }
      ]
    },
    {
      "cell_type": "markdown",
      "source": [
        "# Ejercicio 5\n",
        "### Fechas y horarios"
      ],
      "metadata": {
        "id": "4-zSBz3u_m2p"
      }
    },
    {
      "cell_type": "markdown",
      "source": [
        "El primer ejemplo trata con fechas.\n",
        "\n",
        "Comenzamos obteniendo la fecha de hoy. Podemos ver que es una instancia de la clase datetime.date. Luego obtenemos dos representaciones diferentes para ella, siguiendo los estándares de formato C y ISO 8601, respectivamente. Después preguntamos qué día de la semana es y obtenemos el número 6. Los días se numeran del 0 al 6 (representando de lunes a domingo), por lo que tomamos el valor del sexto elemento en calendar.day_name (ten en cuenta que en el código hemos abreviado calendar como \"cal\" para mayor brevedad).\n",
        "\n",
        "Las dos últimas instrucciones muestran cómo obtener información detallada de un objeto de fecha. Podemos inspeccionar sus atributos de día, mes y año, o llamar al método timetuple() y obtener una gran cantidad de información. Dado que estamos tratando con un objeto de fecha, ten en cuenta que toda la información sobre la hora se ha establecido en 0."
      ],
      "metadata": {
        "id": "ONmskP444Q5e"
      }
    },
    {
      "cell_type": "code",
      "source": [
        "# fecha.py\n",
        "from datetime import date, datetime, timedelta, timezone\n",
        "import time\n",
        "import calendar as cal\n",
        "from zoneinfo import ZoneInfo\n",
        "\n",
        "today = date.today()\n",
        "print(today)\n",
        "\n",
        "print(today.ctime())\n",
        "\n",
        "print(today.isoformat())\n",
        "\n",
        "print(today.weekday())\n",
        "\n",
        "print(cal.day_name[today.weekday()])\n",
        "\n",
        "print(today.day, today.month, today.year)\n",
        "\n",
        "print(today.timetuple())"
      ],
      "metadata": {
        "colab": {
          "base_uri": "https://localhost:8080/"
        },
        "id": "YSCthoaZ_yNC",
        "outputId": "17129f9a-aabe-42aa-b6e5-efdf9f91d590"
      },
      "execution_count": null,
      "outputs": [
        {
          "output_type": "stream",
          "name": "stdout",
          "text": [
            "2023-09-13\n",
            "Wed Sep 13 00:00:00 2023\n",
            "2023-09-13\n",
            "2\n",
            "Wednesday\n",
            "13 9 2023\n",
            "time.struct_time(tm_year=2023, tm_mon=9, tm_mday=13, tm_hour=0, tm_min=0, tm_sec=0, tm_wday=2, tm_yday=256, tm_isdst=-1)\n"
          ]
        }
      ]
    },
    {
      "cell_type": "markdown",
      "source": [
        "Ahora veamos el tiempo:\n"
      ],
      "metadata": {
        "id": "L99XXBUl4I9u"
      }
    },
    {
      "cell_type": "code",
      "source": [
        "# horario.py\n",
        "print(time.ctime())\n",
        "\n",
        "print(time.daylight)\n",
        "\n",
        "print(time.gmtime())\n",
        "\n",
        "print(time.gmtime(0))\n",
        "\n",
        "print(time.localtime())\n",
        "\n",
        "print(time.time())"
      ],
      "metadata": {
        "colab": {
          "base_uri": "https://localhost:8080/"
        },
        "id": "oqlVNWjgBlqn",
        "outputId": "bf600abe-00be-49de-fb11-f6fa57611a1e"
      },
      "execution_count": null,
      "outputs": [
        {
          "output_type": "stream",
          "name": "stdout",
          "text": [
            "Wed Sep 13 05:33:35 2023\n",
            "0\n",
            "time.struct_time(tm_year=2023, tm_mon=9, tm_mday=13, tm_hour=5, tm_min=33, tm_sec=35, tm_wday=2, tm_yday=256, tm_isdst=0)\n",
            "time.struct_time(tm_year=1970, tm_mon=1, tm_mday=1, tm_hour=0, tm_min=0, tm_sec=0, tm_wday=3, tm_yday=1, tm_isdst=0)\n",
            "time.struct_time(tm_year=2023, tm_mon=9, tm_mday=13, tm_hour=5, tm_min=33, tm_sec=35, tm_wday=2, tm_yday=256, tm_isdst=0)\n",
            "1694583215.297989\n"
          ]
        }
      ]
    },
    {
      "cell_type": "markdown",
      "source": [
        "Este ejemplo es bastante similar al anterior, solo que aquí estamos tratando con el tiempo. Podemos ver cómo obtener una representación impresa del tiempo según el estándar de formato C, y luego cómo verificar si se está aplicando el horario de verano. La función gmtime convierte un número dado de segundos desde la época a un objeto struct_time en UTC. Si no le proporcionamos ningún número, usará el tiempo actual."
      ],
      "metadata": {
        "id": "AukuPYNA4zSo"
      }
    },
    {
      "cell_type": "markdown",
      "source": [
        "# Ejercicio 6\n",
        "### Programación condicional"
      ],
      "metadata": {
        "id": "lUycdVwkDOht"
      }
    },
    {
      "cell_type": "code",
      "source": [
        "# condicional.py\n",
        "late = False\n",
        "if late:\n",
        "  print('I need to call my manager!') #1\n",
        "else:\n",
        "  print('no need to call my manager...') #2"
      ],
      "metadata": {
        "colab": {
          "base_uri": "https://localhost:8080/"
        },
        "id": "FDZHjewADUta",
        "outputId": "7688fd55-43cf-48ae-dc2a-31207c73906e"
      },
      "execution_count": null,
      "outputs": [
        {
          "output_type": "stream",
          "name": "stdout",
          "text": [
            "no need to call my manager...\n"
          ]
        }
      ]
    },
    {
      "cell_type": "markdown",
      "source": [
        "\n",
        "El resultado de la evaluación de la expresión late determina qué bloque se ejecutará: si late es True, se ejecutará el bloque #1; si late es False, se ejecutará el bloque #2. Puedes probar asignando valores False/True a la variable late y observar cómo cambia la salida del código.\n",
        "\n",
        "Este ejemplo también introduce la cláusula else, que resulta muy útil cuando queremos proporcionar un conjunto alternativo de instrucciones que se ejecutarán cuando una expresión se evalúa como False dentro de una cláusula if. La cláusula else es opcional, como se evidencia al comparar los dos ejemplos anteriores."
      ],
      "metadata": {
        "id": "fqgSnrnQ5unC"
      }
    },
    {
      "cell_type": "code",
      "source": [
        "# else/if.py\n",
        "# Un else especializado: elif\n",
        "income = 15000\n",
        "if income < 10000:\n",
        "  tax_coefficient = 0.0 #1\n",
        "elif income < 30000:\n",
        "  tax_coefficient = 0.2 #2\n",
        "elif income < 100000:\n",
        "  tax_coefficient = 0.35 #3\n",
        "else:\n",
        "  tax_coefficient = 0.45 #4\n",
        "print(f'You will pay: ${income * tax_coefficient} in taxes')"
      ],
      "metadata": {
        "colab": {
          "base_uri": "https://localhost:8080/"
        },
        "id": "6zLIighFDyQv",
        "outputId": "420a19f9-55bf-4e21-a999-8cb45a62eeb7"
      },
      "execution_count": null,
      "outputs": [
        {
          "output_type": "stream",
          "name": "stdout",
          "text": [
            "You will pay: $3000.0 in taxes\n"
          ]
        }
      ]
    },
    {
      "cell_type": "markdown",
      "source": [
        "\n",
        "Este ejemplo introduce la cláusula elif, que es una abreviatura de \"else if\". Esta cláusula te permite proporcionar una condición adicional que se evalúa solo si las condiciones anteriores son False. Esto es útil cuando tienes más de dos opciones y necesitas elegir entre ellas."
      ],
      "metadata": {
        "id": "mfCCL2bn6jcL"
      }
    },
    {
      "cell_type": "markdown",
      "source": [
        "# Ejercicio 7\n",
        "### Bucle for\n"
      ],
      "metadata": {
        "id": "2wSfd7ngECTm"
      }
    },
    {
      "cell_type": "code",
      "source": [
        "# bucle_for.py\n",
        "#Iterando sobre un rango\n",
        "for number in range(5):\n",
        "  print(number)"
      ],
      "metadata": {
        "colab": {
          "base_uri": "https://localhost:8080/"
        },
        "id": "VH6GBqqHEhdL",
        "outputId": "afb964b0-c1e3-474d-c7fd-d829881d52df"
      },
      "execution_count": null,
      "outputs": [
        {
          "output_type": "stream",
          "name": "stdout",
          "text": [
            "0\n",
            "1\n",
            "2\n",
            "3\n",
            "4\n"
          ]
        }
      ]
    },
    {
      "cell_type": "markdown",
      "source": [
        "En el primer bucle for, usamos range(5). Esto generará una secuencia de números que comienza en 0 y llega hasta 4 (pero no incluye el 4). Por lo tanto, el bucle iterará sobre los números 0, 1, 2, 3 y 4."
      ],
      "metadata": {
        "id": "ePS2g22Z6zs4"
      }
    },
    {
      "cell_type": "code",
      "source": [
        "# bucle_for_2.py\n",
        "#Iterando sobre una secuencia\n",
        "surnames = ['Rivest', 'Shamir', 'Adleman']\n",
        "for position in range(len(surnames)):\n",
        "  print(position, surnames[position])"
      ],
      "metadata": {
        "colab": {
          "base_uri": "https://localhost:8080/"
        },
        "id": "Wp9nDr6xEpJA",
        "outputId": "bf56f37a-9054-45ba-80be-a2e65dd3ae78"
      },
      "execution_count": null,
      "outputs": [
        {
          "output_type": "stream",
          "name": "stdout",
          "text": [
            "0 Rivest\n",
            "1 Shamir\n",
            "2 Adleman\n"
          ]
        }
      ]
    },
    {
      "cell_type": "markdown",
      "source": [
        "Empezamos desde la parte más interna de lo que estamos tratando de entender y nos expandimos hacia afuera. Por lo tanto, len(surnames) es la longitud de la lista surnames: 3. Por lo tanto, range(len(surnames)) se transforma en range(3). Esto nos da el rango [0, 3), que básicamente es la secuencia (0, 1, 2). Esto significa que el bucle for se ejecutará tres veces. En la primera iteración, position tomará el valor 0, mientras que en la segunda tomará el valor 1 y el valor 2 en la tercera y última iteración. En la posición 0, encontramos 'Rivest'; en la posición 1, 'Shamir'; y en la posición 2, 'Adleman'."
      ],
      "metadata": {
        "id": "-7K4YS9D8AXr"
      }
    },
    {
      "cell_type": "code",
      "source": [
        "## bucle_for_3.py\n",
        "#Iterando sobre múltiples secuencias\n",
        "people = ['Nick', 'Rick', 'Roger', 'Syd']\n",
        "ages = [23, 24, 23, 21]\n",
        "for position in range(len(people)):\n",
        "  person = people[position]\n",
        "  age = ages[position]\n",
        "  print(person, age)"
      ],
      "metadata": {
        "colab": {
          "base_uri": "https://localhost:8080/"
        },
        "id": "lhgu76iqE7Js",
        "outputId": "09584104-294a-4da4-a7fa-ae44056edb50"
      },
      "execution_count": null,
      "outputs": [
        {
          "output_type": "stream",
          "name": "stdout",
          "text": [
            "Nick 23\n",
            "Rick 24\n",
            "Roger 23\n",
            "Syd 21\n"
          ]
        }
      ]
    },
    {
      "cell_type": "markdown",
      "source": [
        "Necesitamos iterar sobre la lista de posiciones (0, 1, 2, 3) porque queremos obtener elementos de dos listas diferentes.\n",
        "Queremos imprimir el par persona/edad en una línea para cada uno de ellos."
      ],
      "metadata": {
        "id": "iW9i7U6l9Tun"
      }
    },
    {
      "cell_type": "markdown",
      "source": [
        "# Ejercicio 8\n",
        "### Bucle while"
      ],
      "metadata": {
        "id": "AN_U63DDFJnE"
      }
    },
    {
      "cell_type": "code",
      "source": [
        "# bucle_while.py\n",
        "n = 39\n",
        "remainders = []\n",
        "while n > 0:\n",
        "  remainder = n % 2 # resto de la división por 2\n",
        "  remainders.append(remainder) # hacemos un seguimiento de los restos\n",
        "  n //= 2 # dividimos n por 2\n",
        "remainders.reverse()\n",
        "print(remainders)"
      ],
      "metadata": {
        "colab": {
          "base_uri": "https://localhost:8080/"
        },
        "id": "N3KM_QuwFVD8",
        "outputId": "76c59aab-3d2d-46af-99c5-76de96764c85"
      },
      "execution_count": null,
      "outputs": [
        {
          "output_type": "stream",
          "name": "stdout",
          "text": [
            "[1, 0, 0, 1, 1, 1]\n"
          ]
        }
      ]
    },
    {
      "cell_type": "markdown",
      "source": [
        "\n",
        "En el código anterior, destacamos n > 0, que es la condición para seguir iterando. Observa cómo el código coincide con el algoritmo que describimos: mientras n sea mayor que 0, lo dividimos por 2 y agregamos el residuo a una lista. Al final (cuando n haya llegado a 0), invertimos la lista de residuos para obtener la representación binaria del valor original de n."
      ],
      "metadata": {
        "id": "hrNJCNhy-Tyt"
      }
    },
    {
      "cell_type": "code",
      "source": [
        "# bucle_while_2.py\n",
        "#Sobre multiples secuencias\n",
        "people = ['Nick', 'Rick', 'Roger', 'Syd']\n",
        "ages = [23, 24, 23, 21]\n",
        "position = 0\n",
        "while position < len(people):\n",
        "  person = people[position]\n",
        "  age = ages[position]\n",
        "  print(person, age)\n",
        "  position += 1"
      ],
      "metadata": {
        "colab": {
          "base_uri": "https://localhost:8080/"
        },
        "id": "l-p8Xj_JGieS",
        "outputId": "ee1f8970-2b8a-4bef-9b31-f4a0d07e9114"
      },
      "execution_count": null,
      "outputs": [
        {
          "output_type": "stream",
          "name": "stdout",
          "text": [
            "Nick 23\n",
            "Rick 24\n",
            "Roger 23\n",
            "Syd 21\n"
          ]
        }
      ]
    },
    {
      "cell_type": "markdown",
      "source": [
        "El código destaca la inicialización, la condición y la actualización de la variable position, que permite simular el código equivalente de un bucle for manejando manualmente la variable de iteración. Esto significa que todo lo que se puede hacer con un bucle for también se puede hacer con un bucle while, aunque se observa que hay un poco más de trabajo adicional para lograr el mismo resultado.\n",
        "\n",
        "En resumen, se debe usar un bucle for cuando se necesita iterar sobre un iterable y un bucle while cuando se necesita iterar basado en una condición que se cumple o no."
      ],
      "metadata": {
        "id": "zyFg4hpPFbck"
      }
    },
    {
      "cell_type": "markdown",
      "source": [
        "# Ejercicio 9\n",
        "### Paso de argumentos"
      ],
      "metadata": {
        "id": "C9aO0CFrHVCV"
      }
    },
    {
      "cell_type": "code",
      "source": [
        "# paso_argumentos.py\n",
        "#puntos clave para el paso de argumentos\n",
        "x = 3\n",
        "def func(y):\n",
        "  print(y)\n",
        "func(x) # prints: 3"
      ],
      "metadata": {
        "colab": {
          "base_uri": "https://localhost:8080/"
        },
        "id": "9Xmdgi4cHY8L",
        "outputId": "dfd1e8ce-0150-4603-f373-44d5fd58b70f"
      },
      "execution_count": null,
      "outputs": [
        {
          "output_type": "stream",
          "name": "stdout",
          "text": [
            "3\n"
          ]
        }
      ]
    },
    {
      "cell_type": "markdown",
      "source": [
        "Declaramos un nombre, x, en el ámbito global, luego declaramos una función, func(y), y finalmente la llamamos, pasándole x."
      ],
      "metadata": {
        "id": "3pu31u2kHPTI"
      }
    },
    {
      "cell_type": "markdown",
      "source": [
        "# Ejercicio 10\n",
        "### Parámetros posicionales variables"
      ],
      "metadata": {
        "id": "ZAx1_JdgIWtG"
      }
    },
    {
      "cell_type": "code",
      "source": [
        "# parámetros_posicionales_variables.py\n",
        "def minimum(*n):\n",
        "  # print(type(n)) # n es una tupla\n",
        "  if n:\n",
        "      mn = n[0]\n",
        "      for value in n[1:]:\n",
        "          if value < mn:\n",
        "              mn = value\n",
        "      print(mn)\n",
        "minimum(1, 3, -7, 9) # n = (1, 3, -7, 9) - prints: -7\n",
        "minimum() # n = () - imprime: nothing"
      ],
      "metadata": {
        "colab": {
          "base_uri": "https://localhost:8080/"
        },
        "id": "Gpt3WsvVIdNB",
        "outputId": "c014309f-49e5-4aaa-9b1d-82a24bdf7e9d"
      },
      "execution_count": null,
      "outputs": [
        {
          "output_type": "stream",
          "name": "stdout",
          "text": [
            "-7\n"
          ]
        }
      ]
    },
    {
      "cell_type": "markdown",
      "source": [
        "Cuando definimos un parámetro con un asterisco, *, precediendo a su nombre, le estamos diciendo a Python que este parámetro recopilará un número variable de argumentos posicionales cuando se llame a la función.\n",
        "\n",
        "Ten en cuenta que una función puede tener como máximo un parámetro posicional variable, no tendría sentido tener más."
      ],
      "metadata": {
        "id": "5UKfd0ilH8YH"
      }
    }
  ]
}