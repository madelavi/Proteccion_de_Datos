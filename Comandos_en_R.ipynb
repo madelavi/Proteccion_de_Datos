{
  "nbformat": 4,
  "nbformat_minor": 0,
  "metadata": {
    "colab": {
      "provenance": [],
      "authorship_tag": "ABX9TyOlOdyoD168TaIMNR+GQvbI",
      "include_colab_link": true
    },
    "kernelspec": {
      "name": "ir",
      "display_name": "R"
    },
    "language_info": {
      "name": "R"
    }
  },
  "cells": [
    {
      "cell_type": "markdown",
      "metadata": {
        "id": "view-in-github",
        "colab_type": "text"
      },
      "source": [
        "<a href=\"https://colab.research.google.com/github/madelavi/Proteccion_de_Datos/blob/main/Comandos_en_R.ipynb\" target=\"_parent\"><img src=\"https://colab.research.google.com/assets/colab-badge.svg\" alt=\"Open In Colab\"/></a>"
      ]
    },
    {
      "cell_type": "markdown",
      "source": [
        "Valores numéricos y aritmética."
      ],
      "metadata": {
        "id": "1o2nuP857erp"
      }
    },
    {
      "cell_type": "code",
      "source": [
        "(3 + exp(2)) / sin(pi) # Calcula la expresión (3 + exp(2)) / sin(pi)."
      ],
      "metadata": {
        "colab": {
          "base_uri": "https://localhost:8080/",
          "height": 34
        },
        "id": "F1HOW8MT7gnp",
        "outputId": "088fc646-6d5d-4dea-c48e-bbceadd12417"
      },
      "execution_count": 9,
      "outputs": [
        {
          "output_type": "display_data",
          "data": {
            "text/html": [
              "84833080902705296"
            ],
            "text/markdown": "84833080902705296",
            "text/latex": "84833080902705296",
            "text/plain": [
              "[1] 8.483308e+16"
            ]
          },
          "metadata": {}
        }
      ]
    },
    {
      "cell_type": "code",
      "source": [
        "# Calcula la expresión: 1 + 2 * 3\n",
        "resultado1 <- 1 + 2 * 3\n",
        "\n",
        "# Calcula la expresión: 1 + (2 * 3)\n",
        "resultado2 <- 1 + (2 * 3)\n",
        "\n",
        "# Calcula la expresión: (1 + 2) * 3\n",
        "resultado3 <- (1 + 2) * 3"
      ],
      "metadata": {
        "colab": {
          "base_uri": "https://localhost:8080/",
          "height": 69
        },
        "id": "JE9Dx7Hf7lPo",
        "outputId": "18389fce-a455-437c-9388-e74aefb4b4c1"
      },
      "execution_count": 20,
      "outputs": [
        {
          "output_type": "display_data",
          "data": {
            "text/html": [
              "7"
            ],
            "text/markdown": "7",
            "text/latex": "7",
            "text/plain": [
              "[1] 7"
            ]
          },
          "metadata": {}
        },
        {
          "output_type": "display_data",
          "data": {
            "text/html": [
              "7"
            ],
            "text/markdown": "7",
            "text/latex": "7",
            "text/plain": [
              "[1] 7"
            ]
          },
          "metadata": {}
        },
        {
          "output_type": "display_data",
          "data": {
            "text/html": [
              "9"
            ],
            "text/markdown": "9",
            "text/latex": "9",
            "text/plain": [
              "[1] 9"
            ]
          },
          "metadata": {}
        }
      ]
    },
    {
      "cell_type": "code",
      "source": [
        "# Calcula la suma de 1 más 1.\n",
        "resultado1 <- 1 + 1\n",
        "\n",
        "# Calcula el producto de 2 por 2.\n",
        "resultado2 <- 2 * 2\n",
        "\n",
        "# Calcula la suma de 2 más la división de 10 entre 5.\n",
        "resultado3 <- 2 + 10 / 5\n",
        "\n",
        "# Calcula la división de la suma de 2 más 10 entre 5.\n",
        "resultado4 <- (2 + 10) / 5\n",
        "\n",
        "# Calcula el cuadrado de 10 más 1.\n",
        "resultado5 <- 10^2 + 1\n",
        "\n",
        "# Calcula la raíz cuadrada de 9.\n",
        "resultado6 <- sqrt(9)\n",
        "\n",
        "# El valor de pi, precisión completa no se muestra al imprimir.\n",
        "# Es una constante predefinida en R.\n",
        "pi\n",
        "\n",
        "# Muestra el valor de pi con 22 dígitos de precisión.\n",
        "print(pi, digits = 22)\n",
        "\n",
        "# ¡Oops! Aquí hay un error. 'sin(pi)' debería ser 'sin(pi/2)' para dar el resultado correcto.\n",
        "# 'sin(pi)' es aproximadamente cero debido a errores de redondeo.\n",
        "sin(pi)\n",
        "\n",
        "# Calcula el logaritmo natural de 100.\n",
        "logaritmo_natural <- log(100)\n",
        "\n",
        "# Calcula el logaritmo en base 10 de 100.\n",
        "logaritmo_base_10 <- log10(100)\n",
        "\n",
        "# Calcula el logaritmo en base 2 de 8.\n",
        "logaritmo_base_2 <- log2(8)\n",
        "\n",
        "# Calcula 'e' elevado a la potencia de 1.\n",
        "exponencial <- exp(1)"
      ],
      "metadata": {
        "colab": {
          "base_uri": "https://localhost:8080/",
          "height": 69
        },
        "id": "2cWDZ53p7thK",
        "outputId": "4dc4c1ee-915d-4ad7-eaa8-9b7dfabc1a01"
      },
      "execution_count": 126,
      "outputs": [
        {
          "output_type": "display_data",
          "data": {
            "text/html": [
              "3.14159265358979"
            ],
            "text/markdown": "3.14159265358979",
            "text/latex": "3.14159265358979",
            "text/plain": [
              "[1] 3.141593"
            ]
          },
          "metadata": {}
        },
        {
          "output_type": "stream",
          "name": "stdout",
          "text": [
            "[1] 3.141592653589793115998\n"
          ]
        },
        {
          "output_type": "display_data",
          "data": {
            "text/html": [
              "1.22464679914735e-16"
            ],
            "text/markdown": "1.22464679914735e-16",
            "text/latex": "1.22464679914735e-16",
            "text/plain": [
              "[1] 1.224647e-16"
            ]
          },
          "metadata": {}
        }
      ]
    },
    {
      "cell_type": "code",
      "source": [
        "a <- 1 # Asigna el valor 1 a la variable 'a'.\n",
        "a + 1\n",
        "a"
      ],
      "metadata": {
        "colab": {
          "base_uri": "https://localhost:8080/",
          "height": 52
        },
        "id": "yZfFdTRd7yro",
        "outputId": "40c3030b-3f73-4168-8fa8-d65f7ccc9f61"
      },
      "execution_count": 14,
      "outputs": [
        {
          "output_type": "display_data",
          "data": {
            "text/html": [
              "2"
            ],
            "text/markdown": "2",
            "text/latex": "2",
            "text/plain": [
              "[1] 2"
            ]
          },
          "metadata": {}
        },
        {
          "output_type": "display_data",
          "data": {
            "text/html": [
              "1"
            ],
            "text/markdown": "1",
            "text/latex": "1",
            "text/plain": [
              "[1] 1"
            ]
          },
          "metadata": {}
        }
      ]
    },
    {
      "cell_type": "code",
      "source": [
        "b <- 10 # Asigna el valor 10 a la variable 'b'.\n",
        "b <- a + b\n",
        "b"
      ],
      "metadata": {
        "colab": {
          "base_uri": "https://localhost:8080/",
          "height": 34
        },
        "id": "maOtg77a70bv",
        "outputId": "3cddbff7-4973-4780-8cf1-7ec6c464aa7b"
      },
      "execution_count": 15,
      "outputs": [
        {
          "output_type": "display_data",
          "data": {
            "text/html": [
              "11"
            ],
            "text/markdown": "11",
            "text/latex": "11",
            "text/plain": [
              "[1] 11"
            ]
          },
          "metadata": {}
        }
      ]
    },
    {
      "cell_type": "code",
      "source": [
        "3e-2 * 2.0"
      ],
      "metadata": {
        "colab": {
          "base_uri": "https://localhost:8080/",
          "height": 34
        },
        "id": "jYfyUL-G77gA",
        "outputId": "01bb45ed-eb2e-47de-e0ef-65a944ed2526"
      },
      "execution_count": 16,
      "outputs": [
        {
          "output_type": "display_data",
          "data": {
            "text/html": [
              "0.06"
            ],
            "text/markdown": "0.06",
            "text/latex": "0.06",
            "text/plain": [
              "[1] 0.06"
            ]
          },
          "metadata": {}
        }
      ]
    },
    {
      "cell_type": "code",
      "source": [
        "a\n",
        "print(a)\n",
        "a + 1\n",
        "print(a + 1)"
      ],
      "metadata": {
        "colab": {
          "base_uri": "https://localhost:8080/",
          "height": 86
        },
        "id": "wIDB0QII8LII",
        "outputId": "4c8b1953-6ef6-4f8c-a46d-c32a668c528e"
      },
      "execution_count": 17,
      "outputs": [
        {
          "output_type": "display_data",
          "data": {
            "text/html": [
              "1"
            ],
            "text/markdown": "1",
            "text/latex": "1",
            "text/plain": [
              "[1] 1"
            ]
          },
          "metadata": {}
        },
        {
          "output_type": "stream",
          "name": "stdout",
          "text": [
            "[1] 1\n"
          ]
        },
        {
          "output_type": "display_data",
          "data": {
            "text/html": [
              "2"
            ],
            "text/markdown": "2",
            "text/latex": "2",
            "text/plain": [
              "[1] 2"
            ]
          },
          "metadata": {}
        },
        {
          "output_type": "stream",
          "name": "stdout",
          "text": [
            "[1] 2\n"
          ]
        }
      ]
    },
    {
      "cell_type": "code",
      "source": [
        "a <- b <- c <- 0.0 # Asigna el valor 0.0 a las variables 'a', 'b' y 'c'.\n",
        "a\n",
        "b\n",
        "c\n",
        "1 -> a\n",
        "a\n",
        "a = 3\n",
        "a"
      ],
      "metadata": {
        "colab": {
          "base_uri": "https://localhost:8080/",
          "height": 104
        },
        "id": "knxtm3TI8NUv",
        "outputId": "4d8b61f8-bcb8-4e2a-c87e-dec8e470edba"
      },
      "execution_count": 21,
      "outputs": [
        {
          "output_type": "display_data",
          "data": {
            "text/html": [
              "0"
            ],
            "text/markdown": "0",
            "text/latex": "0",
            "text/plain": [
              "[1] 0"
            ]
          },
          "metadata": {}
        },
        {
          "output_type": "display_data",
          "data": {
            "text/html": [
              "0"
            ],
            "text/markdown": "0",
            "text/latex": "0",
            "text/plain": [
              "[1] 0"
            ]
          },
          "metadata": {}
        },
        {
          "output_type": "display_data",
          "data": {
            "text/html": [
              "0"
            ],
            "text/markdown": "0",
            "text/latex": "0",
            "text/plain": [
              "[1] 0"
            ]
          },
          "metadata": {}
        },
        {
          "output_type": "display_data",
          "data": {
            "text/html": [
              "1"
            ],
            "text/markdown": "1",
            "text/latex": "1",
            "text/plain": [
              "[1] 1"
            ]
          },
          "metadata": {}
        },
        {
          "output_type": "display_data",
          "data": {
            "text/html": [
              "3"
            ],
            "text/markdown": "3",
            "text/latex": "3",
            "text/plain": [
              "[1] 3"
            ]
          },
          "metadata": {}
        }
      ]
    },
    {
      "cell_type": "code",
      "source": [
        "# Llamada a una función 'ode' con el argumento '1'.\n",
        "# Nota: Sin información adicional sobre la función 'ode', no se puede proporcionar un comentario detallado sobre su funcionamiento.\n",
        "ode(1)\n",
        "\n",
        "# Asigna el valor 1 a la variable 'a'.\n",
        "a <- 1\n",
        "\n",
        "# Comprueba si el valor contenido en 'a' es de tipo numérico.\n",
        "is.numeric(a)"
      ],
      "metadata": {
        "colab": {
          "base_uri": "https://localhost:8080/",
          "height": 52
        },
        "id": "nkyhyjn28u64",
        "outputId": "8620d6da-2ae0-448d-d015-c3071a84b530"
      },
      "execution_count": 22,
      "outputs": [
        {
          "output_type": "display_data",
          "data": {
            "text/html": [
              "'numeric'"
            ],
            "text/markdown": "'numeric'",
            "text/latex": "'numeric'",
            "text/plain": [
              "[1] \"numeric\""
            ]
          },
          "metadata": {}
        },
        {
          "output_type": "display_data",
          "data": {
            "text/html": [
              "TRUE"
            ],
            "text/markdown": "TRUE",
            "text/latex": "TRUE",
            "text/plain": [
              "[1] TRUE"
            ]
          },
          "metadata": {}
        }
      ]
    },
    {
      "cell_type": "code",
      "source": [
        "# Comprueba si el número 1L es de tipo numérico.\n",
        "is.numeric(1L)\n",
        "\n",
        "# Comprueba si el número 1L es de tipo entero.\n",
        "is.integer(1L)\n",
        "\n",
        "# Comprueba si el número 1L es de tipo decimal (doble precisión).\n",
        "is.double(1L)"
      ],
      "metadata": {
        "colab": {
          "base_uri": "https://localhost:8080/",
          "height": 69
        },
        "id": "MrUTwkVz8ypK",
        "outputId": "1c8b0d8a-a1be-4fd2-adbf-cc76c682e038"
      },
      "execution_count": 127,
      "outputs": [
        {
          "output_type": "display_data",
          "data": {
            "text/html": [
              "TRUE"
            ],
            "text/markdown": "TRUE",
            "text/latex": "TRUE",
            "text/plain": [
              "[1] TRUE"
            ]
          },
          "metadata": {}
        },
        {
          "output_type": "display_data",
          "data": {
            "text/html": [
              "TRUE"
            ],
            "text/markdown": "TRUE",
            "text/latex": "TRUE",
            "text/plain": [
              "[1] TRUE"
            ]
          },
          "metadata": {}
        },
        {
          "output_type": "display_data",
          "data": {
            "text/html": [
              "FALSE"
            ],
            "text/markdown": "FALSE",
            "text/latex": "FALSE",
            "text/plain": [
              "[1] FALSE"
            ]
          },
          "metadata": {}
        }
      ]
    },
    {
      "cell_type": "code",
      "source": [
        "is.numeric(1)\n",
        "is.integer(1)\n",
        "is.double(1)"
      ],
      "metadata": {
        "colab": {
          "base_uri": "https://localhost:8080/",
          "height": 69
        },
        "id": "fQFaSD5r85Z0",
        "outputId": "6d4591bc-9db2-4477-bda2-338b30f5efa5"
      },
      "execution_count": 24,
      "outputs": [
        {
          "output_type": "display_data",
          "data": {
            "text/html": [
              "TRUE"
            ],
            "text/markdown": "TRUE",
            "text/latex": "TRUE",
            "text/plain": [
              "[1] TRUE"
            ]
          },
          "metadata": {}
        },
        {
          "output_type": "display_data",
          "data": {
            "text/html": [
              "FALSE"
            ],
            "text/markdown": "FALSE",
            "text/latex": "FALSE",
            "text/plain": [
              "[1] FALSE"
            ]
          },
          "metadata": {}
        },
        {
          "output_type": "display_data",
          "data": {
            "text/html": [
              "TRUE"
            ],
            "text/markdown": "TRUE",
            "text/latex": "TRUE",
            "text/plain": [
              "[1] TRUE"
            ]
          },
          "metadata": {}
        }
      ]
    },
    {
      "cell_type": "code",
      "source": [
        "# Crea un vector 'a' con los elementos 3, 1 y 2.\n",
        "a <- c(3, 1, 2)\n",
        "a\n",
        "\n",
        "# Imprime el vector 'a'.\n",
        "# El resultado será: [1] 3 1 2\n",
        "\n",
        "# Crea un vector 'b' con los elementos 4, 5 y 0.\n",
        "b <- c(4, 5, 0)\n",
        "b\n",
        "\n",
        "# Imprime el vector 'b'.\n",
        "# El resultado será: [1] 4 5 0\n",
        "\n",
        "# Concatena los vectores 'a' y 'b' en el vector 'c'.\n",
        "c <- c(a, b)\n",
        "c\n",
        "\n",
        "# Imprime el vector 'c'.\n",
        "# El resultado será: [1] 3 1 2 4 5 0\n",
        "\n",
        "# Concatena los vectores 'b' y 'a' en el vector 'd'.\n",
        "d <- c(b, a)\n",
        "d"
      ],
      "metadata": {
        "colab": {
          "base_uri": "https://localhost:8080/",
          "height": 86
        },
        "id": "mISAXs0K891a",
        "outputId": "a5e5488f-bd83-466e-9867-8d17c9d6c2d7"
      },
      "execution_count": 25,
      "outputs": [
        {
          "output_type": "display_data",
          "data": {
            "text/html": [
              "<style>\n",
              ".list-inline {list-style: none; margin:0; padding: 0}\n",
              ".list-inline>li {display: inline-block}\n",
              ".list-inline>li:not(:last-child)::after {content: \"\\00b7\"; padding: 0 .5ex}\n",
              "</style>\n",
              "<ol class=list-inline><li>3</li><li>1</li><li>2</li></ol>\n"
            ],
            "text/markdown": "1. 3\n2. 1\n3. 2\n\n\n",
            "text/latex": "\\begin{enumerate*}\n\\item 3\n\\item 1\n\\item 2\n\\end{enumerate*}\n",
            "text/plain": [
              "[1] 3 1 2"
            ]
          },
          "metadata": {}
        },
        {
          "output_type": "display_data",
          "data": {
            "text/html": [
              "<style>\n",
              ".list-inline {list-style: none; margin:0; padding: 0}\n",
              ".list-inline>li {display: inline-block}\n",
              ".list-inline>li:not(:last-child)::after {content: \"\\00b7\"; padding: 0 .5ex}\n",
              "</style>\n",
              "<ol class=list-inline><li>4</li><li>5</li><li>0</li></ol>\n"
            ],
            "text/markdown": "1. 4\n2. 5\n3. 0\n\n\n",
            "text/latex": "\\begin{enumerate*}\n\\item 4\n\\item 5\n\\item 0\n\\end{enumerate*}\n",
            "text/plain": [
              "[1] 4 5 0"
            ]
          },
          "metadata": {}
        },
        {
          "output_type": "display_data",
          "data": {
            "text/html": [
              "<style>\n",
              ".list-inline {list-style: none; margin:0; padding: 0}\n",
              ".list-inline>li {display: inline-block}\n",
              ".list-inline>li:not(:last-child)::after {content: \"\\00b7\"; padding: 0 .5ex}\n",
              "</style>\n",
              "<ol class=list-inline><li>3</li><li>1</li><li>2</li><li>4</li><li>5</li><li>0</li></ol>\n"
            ],
            "text/markdown": "1. 3\n2. 1\n3. 2\n4. 4\n5. 5\n6. 0\n\n\n",
            "text/latex": "\\begin{enumerate*}\n\\item 3\n\\item 1\n\\item 2\n\\item 4\n\\item 5\n\\item 0\n\\end{enumerate*}\n",
            "text/plain": [
              "[1] 3 1 2 4 5 0"
            ]
          },
          "metadata": {}
        },
        {
          "output_type": "display_data",
          "data": {
            "text/html": [
              "<style>\n",
              ".list-inline {list-style: none; margin:0; padding: 0}\n",
              ".list-inline>li {display: inline-block}\n",
              ".list-inline>li:not(:last-child)::after {content: \"\\00b7\"; padding: 0 .5ex}\n",
              "</style>\n",
              "<ol class=list-inline><li>4</li><li>5</li><li>0</li><li>3</li><li>1</li><li>2</li></ol>\n"
            ],
            "text/markdown": "1. 4\n2. 5\n3. 0\n4. 3\n5. 1\n6. 2\n\n\n",
            "text/latex": "\\begin{enumerate*}\n\\item 4\n\\item 5\n\\item 0\n\\item 3\n\\item 1\n\\item 2\n\\end{enumerate*}\n",
            "text/plain": [
              "[1] 4 5 0 3 1 2"
            ]
          },
          "metadata": {}
        }
      ]
    },
    {
      "cell_type": "code",
      "source": [
        "append(a, b) #crea un nuevo vector concatenando bal final de a"
      ],
      "metadata": {
        "colab": {
          "base_uri": "https://localhost:8080/",
          "height": 34
        },
        "id": "0yYtCQXD9F5O",
        "outputId": "63dad139-5049-4ae5-c0b0-2a36b42c6649"
      },
      "execution_count": 128,
      "outputs": [
        {
          "output_type": "display_data",
          "data": {
            "text/html": [
              "<style>\n",
              ".list-inline {list-style: none; margin:0; padding: 0}\n",
              ".list-inline>li {display: inline-block}\n",
              ".list-inline>li:not(:last-child)::after {content: \"\\00b7\"; padding: 0 .5ex}\n",
              "</style>\n",
              "<ol class=list-inline><li>9.99</li><li>9.99</li></ol>\n"
            ],
            "text/markdown": "1. 9.99\n2. 9.99\n\n\n",
            "text/latex": "\\begin{enumerate*}\n\\item 9.99\n\\item 9.99\n\\end{enumerate*}\n",
            "text/plain": [
              "[1] 9.99 9.99"
            ]
          },
          "metadata": {}
        }
      ]
    },
    {
      "cell_type": "code",
      "source": [
        "append(a, values = b, after = 2L)"
      ],
      "metadata": {
        "colab": {
          "base_uri": "https://localhost:8080/",
          "height": 34
        },
        "id": "hVv8-XoV9H5U",
        "outputId": "98e2041c-8492-4bfe-c043-637eebc2cee5"
      },
      "execution_count": 27,
      "outputs": [
        {
          "output_type": "display_data",
          "data": {
            "text/html": [
              "<style>\n",
              ".list-inline {list-style: none; margin:0; padding: 0}\n",
              ".list-inline>li {display: inline-block}\n",
              ".list-inline>li:not(:last-child)::after {content: \"\\00b7\"; padding: 0 .5ex}\n",
              "</style>\n",
              "<ol class=list-inline><li>3</li><li>1</li><li>4</li><li>5</li><li>0</li><li>2</li></ol>\n"
            ],
            "text/markdown": "1. 3\n2. 1\n3. 4\n4. 5\n5. 0\n6. 2\n\n\n",
            "text/latex": "\\begin{enumerate*}\n\\item 3\n\\item 1\n\\item 4\n\\item 5\n\\item 0\n\\item 2\n\\end{enumerate*}\n",
            "text/plain": [
              "[1] 3 1 4 5 0 2"
            ]
          },
          "metadata": {}
        }
      ]
    },
    {
      "cell_type": "code",
      "source": [
        "a <- -1:5 # Crea un vector 'a' que contiene los números del -1 al 5\n",
        "a\n",
        "b <- 5:-1 # Crea un vector 'b' que contiene los números del -1 al 5\n",
        "b\n",
        "c <- seq(from = -1, to = 1, by = 0.1) # Crea un vector 'c' que contiene una secuencia de -1 a 1, con incrementos de 0.1.\n",
        "c\n",
        "d <- rep(-5, 4)\n",
        "d"
      ],
      "metadata": {
        "colab": {
          "base_uri": "https://localhost:8080/",
          "height": 86
        },
        "id": "ATLf2l_99K9k",
        "outputId": "107a0aaf-e638-48d2-ea4e-b2e685d7456a"
      },
      "execution_count": 28,
      "outputs": [
        {
          "output_type": "display_data",
          "data": {
            "text/html": [
              "<style>\n",
              ".list-inline {list-style: none; margin:0; padding: 0}\n",
              ".list-inline>li {display: inline-block}\n",
              ".list-inline>li:not(:last-child)::after {content: \"\\00b7\"; padding: 0 .5ex}\n",
              "</style>\n",
              "<ol class=list-inline><li>-1</li><li>0</li><li>1</li><li>2</li><li>3</li><li>4</li><li>5</li></ol>\n"
            ],
            "text/markdown": "1. -1\n2. 0\n3. 1\n4. 2\n5. 3\n6. 4\n7. 5\n\n\n",
            "text/latex": "\\begin{enumerate*}\n\\item -1\n\\item 0\n\\item 1\n\\item 2\n\\item 3\n\\item 4\n\\item 5\n\\end{enumerate*}\n",
            "text/plain": [
              "[1] -1  0  1  2  3  4  5"
            ]
          },
          "metadata": {}
        },
        {
          "output_type": "display_data",
          "data": {
            "text/html": [
              "<style>\n",
              ".list-inline {list-style: none; margin:0; padding: 0}\n",
              ".list-inline>li {display: inline-block}\n",
              ".list-inline>li:not(:last-child)::after {content: \"\\00b7\"; padding: 0 .5ex}\n",
              "</style>\n",
              "<ol class=list-inline><li>5</li><li>4</li><li>3</li><li>2</li><li>1</li><li>0</li><li>-1</li></ol>\n"
            ],
            "text/markdown": "1. 5\n2. 4\n3. 3\n4. 2\n5. 1\n6. 0\n7. -1\n\n\n",
            "text/latex": "\\begin{enumerate*}\n\\item 5\n\\item 4\n\\item 3\n\\item 2\n\\item 1\n\\item 0\n\\item -1\n\\end{enumerate*}\n",
            "text/plain": [
              "[1]  5  4  3  2  1  0 -1"
            ]
          },
          "metadata": {}
        },
        {
          "output_type": "display_data",
          "data": {
            "text/html": [
              "<style>\n",
              ".list-inline {list-style: none; margin:0; padding: 0}\n",
              ".list-inline>li {display: inline-block}\n",
              ".list-inline>li:not(:last-child)::after {content: \"\\00b7\"; padding: 0 .5ex}\n",
              "</style>\n",
              "<ol class=list-inline><li>-1</li><li>-0.9</li><li>-0.8</li><li>-0.7</li><li>-0.6</li><li>-0.5</li><li>-0.4</li><li>-0.3</li><li>-0.2</li><li>-0.1</li><li>0</li><li>0.1</li><li>0.2</li><li>0.3</li><li>0.4</li><li>0.5</li><li>0.6</li><li>0.7</li><li>0.8</li><li>0.9</li><li>1</li></ol>\n"
            ],
            "text/markdown": "1. -1\n2. -0.9\n3. -0.8\n4. -0.7\n5. -0.6\n6. -0.5\n7. -0.4\n8. -0.3\n9. -0.2\n10. -0.1\n11. 0\n12. 0.1\n13. 0.2\n14. 0.3\n15. 0.4\n16. 0.5\n17. 0.6\n18. 0.7\n19. 0.8\n20. 0.9\n21. 1\n\n\n",
            "text/latex": "\\begin{enumerate*}\n\\item -1\n\\item -0.9\n\\item -0.8\n\\item -0.7\n\\item -0.6\n\\item -0.5\n\\item -0.4\n\\item -0.3\n\\item -0.2\n\\item -0.1\n\\item 0\n\\item 0.1\n\\item 0.2\n\\item 0.3\n\\item 0.4\n\\item 0.5\n\\item 0.6\n\\item 0.7\n\\item 0.8\n\\item 0.9\n\\item 1\n\\end{enumerate*}\n",
            "text/plain": [
              " [1] -1.0 -0.9 -0.8 -0.7 -0.6 -0.5 -0.4 -0.3 -0.2 -0.1  0.0  0.1  0.2  0.3  0.4\n",
              "[16]  0.5  0.6  0.7  0.8  0.9  1.0"
            ]
          },
          "metadata": {}
        },
        {
          "output_type": "display_data",
          "data": {
            "text/html": [
              "<style>\n",
              ".list-inline {list-style: none; margin:0; padding: 0}\n",
              ".list-inline>li {display: inline-block}\n",
              ".list-inline>li:not(:last-child)::after {content: \"\\00b7\"; padding: 0 .5ex}\n",
              "</style>\n",
              "<ol class=list-inline><li>-5</li><li>-5</li><li>-5</li><li>-5</li></ol>\n"
            ],
            "text/markdown": "1. -5\n2. -5\n3. -5\n4. -5\n\n\n",
            "text/latex": "\\begin{enumerate*}\n\\item -5\n\\item -5\n\\item -5\n\\item -5\n\\end{enumerate*}\n",
            "text/plain": [
              "[1] -5 -5 -5 -5"
            ]
          },
          "metadata": {}
        }
      ]
    },
    {
      "cell_type": "code",
      "source": [
        "a + 1 #agregamos uno al vector a definido arriba\n",
        "(a + 1) * 2\n",
        "a + b\n",
        "a - a"
      ],
      "metadata": {
        "colab": {
          "base_uri": "https://localhost:8080/",
          "height": 86
        },
        "id": "QGGn1O5R9N7E",
        "outputId": "c12dc5dc-9244-4bb6-bd4e-73972532a4f4"
      },
      "execution_count": 29,
      "outputs": [
        {
          "output_type": "display_data",
          "data": {
            "text/html": [
              "<style>\n",
              ".list-inline {list-style: none; margin:0; padding: 0}\n",
              ".list-inline>li {display: inline-block}\n",
              ".list-inline>li:not(:last-child)::after {content: \"\\00b7\"; padding: 0 .5ex}\n",
              "</style>\n",
              "<ol class=list-inline><li>0</li><li>1</li><li>2</li><li>3</li><li>4</li><li>5</li><li>6</li></ol>\n"
            ],
            "text/markdown": "1. 0\n2. 1\n3. 2\n4. 3\n5. 4\n6. 5\n7. 6\n\n\n",
            "text/latex": "\\begin{enumerate*}\n\\item 0\n\\item 1\n\\item 2\n\\item 3\n\\item 4\n\\item 5\n\\item 6\n\\end{enumerate*}\n",
            "text/plain": [
              "[1] 0 1 2 3 4 5 6"
            ]
          },
          "metadata": {}
        },
        {
          "output_type": "display_data",
          "data": {
            "text/html": [
              "<style>\n",
              ".list-inline {list-style: none; margin:0; padding: 0}\n",
              ".list-inline>li {display: inline-block}\n",
              ".list-inline>li:not(:last-child)::after {content: \"\\00b7\"; padding: 0 .5ex}\n",
              "</style>\n",
              "<ol class=list-inline><li>0</li><li>2</li><li>4</li><li>6</li><li>8</li><li>10</li><li>12</li></ol>\n"
            ],
            "text/markdown": "1. 0\n2. 2\n3. 4\n4. 6\n5. 8\n6. 10\n7. 12\n\n\n",
            "text/latex": "\\begin{enumerate*}\n\\item 0\n\\item 2\n\\item 4\n\\item 6\n\\item 8\n\\item 10\n\\item 12\n\\end{enumerate*}\n",
            "text/plain": [
              "[1]  0  2  4  6  8 10 12"
            ]
          },
          "metadata": {}
        },
        {
          "output_type": "display_data",
          "data": {
            "text/html": [
              "<style>\n",
              ".list-inline {list-style: none; margin:0; padding: 0}\n",
              ".list-inline>li {display: inline-block}\n",
              ".list-inline>li:not(:last-child)::after {content: \"\\00b7\"; padding: 0 .5ex}\n",
              "</style>\n",
              "<ol class=list-inline><li>4</li><li>4</li><li>4</li><li>4</li><li>4</li><li>4</li><li>4</li></ol>\n"
            ],
            "text/markdown": "1. 4\n2. 4\n3. 4\n4. 4\n5. 4\n6. 4\n7. 4\n\n\n",
            "text/latex": "\\begin{enumerate*}\n\\item 4\n\\item 4\n\\item 4\n\\item 4\n\\item 4\n\\item 4\n\\item 4\n\\end{enumerate*}\n",
            "text/plain": [
              "[1] 4 4 4 4 4 4 4"
            ]
          },
          "metadata": {}
        },
        {
          "output_type": "display_data",
          "data": {
            "text/html": [
              "<style>\n",
              ".list-inline {list-style: none; margin:0; padding: 0}\n",
              ".list-inline>li {display: inline-block}\n",
              ".list-inline>li:not(:last-child)::after {content: \"\\00b7\"; padding: 0 .5ex}\n",
              "</style>\n",
              "<ol class=list-inline><li>0</li><li>0</li><li>0</li><li>0</li><li>0</li><li>0</li><li>0</li></ol>\n"
            ],
            "text/markdown": "1. 0\n2. 0\n3. 0\n4. 0\n5. 0\n6. 0\n7. 0\n\n\n",
            "text/latex": "\\begin{enumerate*}\n\\item 0\n\\item 0\n\\item 0\n\\item 0\n\\item 0\n\\item 0\n\\item 0\n\\end{enumerate*}\n",
            "text/plain": [
              "[1] 0 0 0 0 0 0 0"
            ]
          },
          "metadata": {}
        }
      ]
    },
    {
      "cell_type": "code",
      "source": [
        "a <- rep(1, 6) # Crea un vector 'a' con 6 repeticiones del número 1.\n",
        "a\n",
        "a + 1:2\n",
        "a + 1:3\n",
        "a + 1:4"
      ],
      "metadata": {
        "colab": {
          "base_uri": "https://localhost:8080/",
          "height": 121
        },
        "id": "ngbl9sBU9Tru",
        "outputId": "2d5d8621-ebb9-427d-9803-62ae3961913c"
      },
      "execution_count": 129,
      "outputs": [
        {
          "output_type": "display_data",
          "data": {
            "text/html": [
              "<style>\n",
              ".list-inline {list-style: none; margin:0; padding: 0}\n",
              ".list-inline>li {display: inline-block}\n",
              ".list-inline>li:not(:last-child)::after {content: \"\\00b7\"; padding: 0 .5ex}\n",
              "</style>\n",
              "<ol class=list-inline><li>1</li><li>1</li><li>1</li><li>1</li><li>1</li><li>1</li></ol>\n"
            ],
            "text/markdown": "1. 1\n2. 1\n3. 1\n4. 1\n5. 1\n6. 1\n\n\n",
            "text/latex": "\\begin{enumerate*}\n\\item 1\n\\item 1\n\\item 1\n\\item 1\n\\item 1\n\\item 1\n\\end{enumerate*}\n",
            "text/plain": [
              "[1] 1 1 1 1 1 1"
            ]
          },
          "metadata": {}
        },
        {
          "output_type": "display_data",
          "data": {
            "text/html": [
              "<style>\n",
              ".list-inline {list-style: none; margin:0; padding: 0}\n",
              ".list-inline>li {display: inline-block}\n",
              ".list-inline>li:not(:last-child)::after {content: \"\\00b7\"; padding: 0 .5ex}\n",
              "</style>\n",
              "<ol class=list-inline><li>2</li><li>3</li><li>2</li><li>3</li><li>2</li><li>3</li></ol>\n"
            ],
            "text/markdown": "1. 2\n2. 3\n3. 2\n4. 3\n5. 2\n6. 3\n\n\n",
            "text/latex": "\\begin{enumerate*}\n\\item 2\n\\item 3\n\\item 2\n\\item 3\n\\item 2\n\\item 3\n\\end{enumerate*}\n",
            "text/plain": [
              "[1] 2 3 2 3 2 3"
            ]
          },
          "metadata": {}
        },
        {
          "output_type": "display_data",
          "data": {
            "text/html": [
              "<style>\n",
              ".list-inline {list-style: none; margin:0; padding: 0}\n",
              ".list-inline>li {display: inline-block}\n",
              ".list-inline>li:not(:last-child)::after {content: \"\\00b7\"; padding: 0 .5ex}\n",
              "</style>\n",
              "<ol class=list-inline><li>2</li><li>3</li><li>4</li><li>2</li><li>3</li><li>4</li></ol>\n"
            ],
            "text/markdown": "1. 2\n2. 3\n3. 4\n4. 2\n5. 3\n6. 4\n\n\n",
            "text/latex": "\\begin{enumerate*}\n\\item 2\n\\item 3\n\\item 4\n\\item 2\n\\item 3\n\\item 4\n\\end{enumerate*}\n",
            "text/plain": [
              "[1] 2 3 4 2 3 4"
            ]
          },
          "metadata": {}
        },
        {
          "output_type": "stream",
          "name": "stderr",
          "text": [
            "Warning message in a + 1:4:\n",
            "“longer object length is not a multiple of shorter object length”\n"
          ]
        },
        {
          "output_type": "display_data",
          "data": {
            "text/html": [
              "<style>\n",
              ".list-inline {list-style: none; margin:0; padding: 0}\n",
              ".list-inline>li {display: inline-block}\n",
              ".list-inline>li:not(:last-child)::after {content: \"\\00b7\"; padding: 0 .5ex}\n",
              "</style>\n",
              "<ol class=list-inline><li>2</li><li>3</li><li>4</li><li>5</li><li>2</li><li>3</li></ol>\n"
            ],
            "text/markdown": "1. 2\n2. 3\n3. 4\n4. 5\n5. 2\n6. 3\n\n\n",
            "text/latex": "\\begin{enumerate*}\n\\item 2\n\\item 3\n\\item 4\n\\item 5\n\\item 2\n\\item 3\n\\end{enumerate*}\n",
            "text/plain": [
              "[1] 2 3 4 5 2 3"
            ]
          },
          "metadata": {}
        }
      ]
    },
    {
      "cell_type": "code",
      "source": [
        "z <- numeric(0) # Crea un vector 'z' de longitud cero.\n",
        "z\n",
        "\n",
        "length(z)"
      ],
      "metadata": {
        "colab": {
          "base_uri": "https://localhost:8080/",
          "height": 34
        },
        "id": "U0dAaf6O9fFe",
        "outputId": "b3d111ab-1e5b-43e0-9cf6-0f95d37619bb"
      },
      "execution_count": 32,
      "outputs": [
        {
          "output_type": "display_data",
          "data": {
            "text/html": [],
            "text/markdown": "",
            "text/latex": "",
            "text/plain": [
              "numeric(0)"
            ]
          },
          "metadata": {}
        },
        {
          "output_type": "display_data",
          "data": {
            "text/html": [
              "0"
            ],
            "text/markdown": "0",
            "text/latex": "0",
            "text/plain": [
              "[1] 0"
            ]
          },
          "metadata": {}
        }
      ]
    },
    {
      "cell_type": "code",
      "source": [
        "# Calcula la longitud del vector resultante de concatenar 'a', un vector numérico vacío y 'b'.\n",
        "# Esto equivale a concatenar 'a' y 'b' sin modificar la longitud total.\n",
        "length(c(a, numeric(0), b))\n",
        "\n",
        "length(c(a, b))\n"
      ],
      "metadata": {
        "colab": {
          "base_uri": "https://localhost:8080/",
          "height": 52
        },
        "id": "LNMQWQdM9jJK",
        "outputId": "63f382c8-2adb-423c-ea64-d9a9a9b94a6c"
      },
      "execution_count": 33,
      "outputs": [
        {
          "output_type": "display_data",
          "data": {
            "text/html": [
              "13"
            ],
            "text/markdown": "13",
            "text/latex": "13",
            "text/plain": [
              "[1] 13"
            ]
          },
          "metadata": {}
        },
        {
          "output_type": "display_data",
          "data": {
            "text/html": [
              "13"
            ],
            "text/markdown": "13",
            "text/latex": "13",
            "text/plain": [
              "[1] 13"
            ]
          },
          "metadata": {}
        }
      ]
    },
    {
      "cell_type": "code",
      "source": [
        "log(numeric(0))\n",
        "\n",
        "5 + numeric(0)\n"
      ],
      "metadata": {
        "colab": {
          "base_uri": "https://localhost:8080/",
          "height": 17
        },
        "id": "umrAgsMO9oVV",
        "outputId": "218f2706-1779-4f88-d74d-c1d95af29218"
      },
      "execution_count": 34,
      "outputs": [
        {
          "output_type": "display_data",
          "data": {
            "text/html": [],
            "text/markdown": "",
            "text/latex": "",
            "text/plain": [
              "numeric(0)"
            ]
          },
          "metadata": {}
        },
        {
          "output_type": "display_data",
          "data": {
            "text/html": [],
            "text/markdown": "",
            "text/latex": "",
            "text/plain": [
              "numeric(0)"
            ]
          },
          "metadata": {}
        }
      ]
    },
    {
      "cell_type": "code",
      "source": [
        "ls(pattern=\"^z$\")# Lista los objetos cuyo nombre coincide exactamente con \"z\".\n",
        "\n",
        "rm(z)\n",
        "ls(pattern=\"^z$\")"
      ],
      "metadata": {
        "colab": {
          "base_uri": "https://localhost:8080/",
          "height": 34
        },
        "id": "njyrgqiF9r-g",
        "outputId": "2675ac82-990f-4b84-b84f-91330fbec08d"
      },
      "execution_count": 35,
      "outputs": [
        {
          "output_type": "display_data",
          "data": {
            "text/html": [
              "'z'"
            ],
            "text/markdown": "'z'",
            "text/latex": "'z'",
            "text/plain": [
              "[1] \"z\""
            ]
          },
          "metadata": {}
        },
        {
          "output_type": "display_data",
          "data": {
            "text/html": [],
            "text/markdown": "",
            "text/latex": "",
            "text/plain": [
              "character(0)"
            ]
          },
          "metadata": {}
        }
      ]
    },
    {
      "cell_type": "code",
      "source": [
        "a <- NA # Asigna el valor NA (Not Available) a la variable 'a'.\n",
        "a\n",
        "\n",
        "-1 / 0\n",
        "\n",
        "1 / 0\n",
        "\n",
        "Inf / Inf\n",
        "\n",
        "Inf + 4\n",
        "\n",
        "b <- -Inf # Asigna el valor -Inf (Infinito negativo) a la variable 'b'.\n",
        "b * -1"
      ],
      "metadata": {
        "colab": {
          "base_uri": "https://localhost:8080/",
          "height": 121
        },
        "id": "SaVcaJC_9vca",
        "outputId": "b9d4ec04-3e3c-4955-fa11-bb4b7578f744"
      },
      "execution_count": 38,
      "outputs": [
        {
          "output_type": "display_data",
          "data": {
            "text/html": [
              "&lt;NA&gt;"
            ],
            "text/markdown": "&lt;NA&gt;",
            "text/latex": "<NA>",
            "text/plain": [
              "[1] NA"
            ]
          },
          "metadata": {}
        },
        {
          "output_type": "display_data",
          "data": {
            "text/html": [
              "-Inf"
            ],
            "text/markdown": "-Inf",
            "text/latex": "-Inf",
            "text/plain": [
              "[1] -Inf"
            ]
          },
          "metadata": {}
        },
        {
          "output_type": "display_data",
          "data": {
            "text/html": [
              "Inf"
            ],
            "text/markdown": "Inf",
            "text/latex": "Inf",
            "text/plain": [
              "[1] Inf"
            ]
          },
          "metadata": {}
        },
        {
          "output_type": "display_data",
          "data": {
            "text/html": [
              "NaN"
            ],
            "text/markdown": "NaN",
            "text/latex": "NaN",
            "text/plain": [
              "[1] NaN"
            ]
          },
          "metadata": {}
        },
        {
          "output_type": "display_data",
          "data": {
            "text/html": [
              "Inf"
            ],
            "text/markdown": "Inf",
            "text/latex": "Inf",
            "text/plain": [
              "[1] Inf"
            ]
          },
          "metadata": {}
        },
        {
          "output_type": "display_data",
          "data": {
            "text/html": [
              "Inf"
            ],
            "text/markdown": "Inf",
            "text/latex": "Inf",
            "text/plain": [
              "[1] Inf"
            ]
          },
          "metadata": {}
        }
      ]
    },
    {
      "cell_type": "code",
      "source": [
        "A <- NA\n",
        "A\n",
        "\n",
        "A + 1\n",
        "\n",
        "A + Inf"
      ],
      "metadata": {
        "colab": {
          "base_uri": "https://localhost:8080/",
          "height": 69
        },
        "id": "YJ2jBZ23-BBL",
        "outputId": "193c5c0e-951a-448b-e9dc-4e7f8122618b"
      },
      "execution_count": 39,
      "outputs": [
        {
          "output_type": "display_data",
          "data": {
            "text/html": [
              "&lt;NA&gt;"
            ],
            "text/markdown": "&lt;NA&gt;",
            "text/latex": "<NA>",
            "text/plain": [
              "[1] NA"
            ]
          },
          "metadata": {}
        },
        {
          "output_type": "display_data",
          "data": {
            "text/html": [
              "&lt;NA&gt;"
            ],
            "text/markdown": "&lt;NA&gt;",
            "text/latex": "<NA>",
            "text/plain": [
              "[1] NA"
            ]
          },
          "metadata": {}
        },
        {
          "output_type": "display_data",
          "data": {
            "text/html": [
              "&lt;NA&gt;"
            ],
            "text/markdown": "&lt;NA&gt;",
            "text/latex": "<NA>",
            "text/plain": [
              "[1] NA"
            ]
          },
          "metadata": {}
        }
      ]
    },
    {
      "cell_type": "code",
      "source": [
        "123 + numeric() # Intenta sumar 123 a un vector numérico vacío.\n",
        "123 + NA"
      ],
      "metadata": {
        "colab": {
          "base_uri": "https://localhost:8080/",
          "height": 34
        },
        "id": "SVSsvKA2-GQI",
        "outputId": "9a0b50f7-7b01-46b1-fb23-afafe2fff67d"
      },
      "execution_count": 40,
      "outputs": [
        {
          "output_type": "display_data",
          "data": {
            "text/html": [],
            "text/markdown": "",
            "text/latex": "",
            "text/plain": [
              "numeric(0)"
            ]
          },
          "metadata": {}
        },
        {
          "output_type": "display_data",
          "data": {
            "text/html": [
              "&lt;NA&gt;"
            ],
            "text/markdown": "&lt;NA&gt;",
            "text/latex": "<NA>",
            "text/plain": [
              "[1] NA"
            ]
          },
          "metadata": {}
        }
      ]
    },
    {
      "cell_type": "code",
      "source": [
        "is.na(c(NA, 1))"
      ],
      "metadata": {
        "colab": {
          "base_uri": "https://localhost:8080/",
          "height": 34
        },
        "id": "LrhLwws8-IWA",
        "outputId": "af22fec9-4fff-478c-f510-9f001d845cd4"
      },
      "execution_count": 41,
      "outputs": [
        {
          "output_type": "display_data",
          "data": {
            "text/html": [
              "<style>\n",
              ".list-inline {list-style: none; margin:0; padding: 0}\n",
              ".list-inline>li {display: inline-block}\n",
              ".list-inline>li:not(:last-child)::after {content: \"\\00b7\"; padding: 0 .5ex}\n",
              "</style>\n",
              "<ol class=list-inline><li>TRUE</li><li>FALSE</li></ol>\n"
            ],
            "text/markdown": "1. TRUE\n2. FALSE\n\n\n",
            "text/latex": "\\begin{enumerate*}\n\\item TRUE\n\\item FALSE\n\\end{enumerate*}\n",
            "text/plain": [
              "[1]  TRUE FALSE"
            ]
          },
          "metadata": {}
        }
      ]
    },
    {
      "cell_type": "code",
      "source": [
        "1 - 1e-20 #representa una resta en la que se resta un número muy pequeño de 1."
      ],
      "metadata": {
        "colab": {
          "base_uri": "https://localhost:8080/",
          "height": 34
        },
        "id": "W3oZLcQq-KF9",
        "outputId": "ce49c504-fabb-43aa-d994-052b7f15f037"
      },
      "execution_count": 42,
      "outputs": [
        {
          "output_type": "display_data",
          "data": {
            "text/html": [
              "1"
            ],
            "text/markdown": "1",
            "text/latex": "1",
            "text/plain": [
              "[1] 1"
            ]
          },
          "metadata": {}
        }
      ]
    },
    {
      "cell_type": "code",
      "source": [
        "1L + 3L\n",
        "\n",
        "1L * 3L\n",
        "\n",
        "1L %/% 3L\n",
        "\n",
        "1L %% 3L\n",
        "\n",
        "1L / 3L"
      ],
      "metadata": {
        "colab": {
          "base_uri": "https://localhost:8080/",
          "height": 104
        },
        "id": "MfF16kDM-L85",
        "outputId": "b3585e82-4828-4d1e-b47c-34c642fac14d"
      },
      "execution_count": 43,
      "outputs": [
        {
          "output_type": "display_data",
          "data": {
            "text/html": [
              "4"
            ],
            "text/markdown": "4",
            "text/latex": "4",
            "text/plain": [
              "[1] 4"
            ]
          },
          "metadata": {}
        },
        {
          "output_type": "display_data",
          "data": {
            "text/html": [
              "3"
            ],
            "text/markdown": "3",
            "text/latex": "3",
            "text/plain": [
              "[1] 3"
            ]
          },
          "metadata": {}
        },
        {
          "output_type": "display_data",
          "data": {
            "text/html": [
              "0"
            ],
            "text/markdown": "0",
            "text/latex": "0",
            "text/plain": [
              "[1] 0"
            ]
          },
          "metadata": {}
        },
        {
          "output_type": "display_data",
          "data": {
            "text/html": [
              "1"
            ],
            "text/markdown": "1",
            "text/latex": "1",
            "text/plain": [
              "[1] 1"
            ]
          },
          "metadata": {}
        },
        {
          "output_type": "display_data",
          "data": {
            "text/html": [
              "0.333333333333333"
            ],
            "text/markdown": "0.333333333333333",
            "text/latex": "0.333333333333333",
            "text/plain": [
              "[1] 0.3333333"
            ]
          },
          "metadata": {}
        }
      ]
    },
    {
      "cell_type": "code",
      "source": [
        "1000000L * 1000000L"
      ],
      "metadata": {
        "colab": {
          "base_uri": "https://localhost:8080/",
          "height": 69
        },
        "id": "9DhxUbZ2-SSP",
        "outputId": "2a629aa2-2c07-4925-8212-196c5e9278b2"
      },
      "execution_count": 72,
      "outputs": [
        {
          "output_type": "stream",
          "name": "stderr",
          "text": [
            "Warning message in 1000000L * 1000000L:\n",
            "“NAs produced by integer overflow”\n"
          ]
        },
        {
          "output_type": "display_data",
          "data": {
            "text/html": [
              "&lt;NA&gt;"
            ],
            "text/markdown": "&lt;NA&gt;",
            "text/latex": "<NA>",
            "text/plain": [
              "[1] NA"
            ]
          },
          "metadata": {}
        }
      ]
    },
    {
      "cell_type": "code",
      "source": [
        "is.numeric(1L)\n",
        "\n",
        "is.integer(1L)\n",
        "\n",
        "is.double(1L)\n",
        "\n",
        "is.double(1L / 3L)\n",
        "\n",
        "is.numeric(1L / 3L)"
      ],
      "metadata": {
        "colab": {
          "base_uri": "https://localhost:8080/",
          "height": 104
        },
        "id": "yyrIJ3jR-VZA",
        "outputId": "0d05f4c6-5e5d-4c49-97e7-7614704ec14e"
      },
      "execution_count": 45,
      "outputs": [
        {
          "output_type": "display_data",
          "data": {
            "text/html": [
              "TRUE"
            ],
            "text/markdown": "TRUE",
            "text/latex": "TRUE",
            "text/plain": [
              "[1] TRUE"
            ]
          },
          "metadata": {}
        },
        {
          "output_type": "display_data",
          "data": {
            "text/html": [
              "TRUE"
            ],
            "text/markdown": "TRUE",
            "text/latex": "TRUE",
            "text/plain": [
              "[1] TRUE"
            ]
          },
          "metadata": {}
        },
        {
          "output_type": "display_data",
          "data": {
            "text/html": [
              "FALSE"
            ],
            "text/markdown": "FALSE",
            "text/latex": "FALSE",
            "text/plain": [
              "[1] FALSE"
            ]
          },
          "metadata": {}
        },
        {
          "output_type": "display_data",
          "data": {
            "text/html": [
              "TRUE"
            ],
            "text/markdown": "TRUE",
            "text/latex": "TRUE",
            "text/plain": [
              "[1] TRUE"
            ]
          },
          "metadata": {}
        },
        {
          "output_type": "display_data",
          "data": {
            "text/html": [
              "TRUE"
            ],
            "text/markdown": "TRUE",
            "text/latex": "TRUE",
            "text/plain": [
              "[1] TRUE"
            ]
          },
          "metadata": {}
        }
      ]
    },
    {
      "cell_type": "code",
      "source": [
        "1 * 1000000L * 1000000L\n",
        "1000000L * 1000000L * 1"
      ],
      "metadata": {
        "colab": {
          "base_uri": "https://localhost:8080/",
          "height": 86
        },
        "id": "jk4955CE_XgU",
        "outputId": "cbb739a1-666f-4578-a8ef-b49d7afdf59e"
      },
      "execution_count": 46,
      "outputs": [
        {
          "output_type": "display_data",
          "data": {
            "text/html": [
              "1e+12"
            ],
            "text/markdown": "1e+12",
            "text/latex": "1e+12",
            "text/plain": [
              "[1] 1e+12"
            ]
          },
          "metadata": {}
        },
        {
          "output_type": "stream",
          "name": "stderr",
          "text": [
            "Warning message in 1000000L * 1000000L:\n",
            "“NAs produced by integer overflow”\n"
          ]
        },
        {
          "output_type": "display_data",
          "data": {
            "text/html": [
              "&lt;NA&gt;"
            ],
            "text/markdown": "&lt;NA&gt;",
            "text/latex": "<NA>",
            "text/plain": [
              "[1] NA"
            ]
          },
          "metadata": {}
        }
      ]
    },
    {
      "cell_type": "code",
      "source": [
        "round(0.0124567, digits = 3) # Redondea el número 0.0124567 a tres dígitos significativos.\n",
        "\n",
        "signif(0.0124567, digits = 3) # Redondea el número 0.0124567 a tres dígitos significativos.\n",
        "\n",
        "round(1789.1234, digits = 3)\n",
        "\n",
        "signif(1789.1234, digits = 3)\n",
        "\n",
        "round(1789.1234, digits = -1)\n",
        "\n",
        "a <- 0.12345\n",
        "b <- round(a, digits = 2) # Redondea 'a' a dos decimales y asigna el resultado a la variable 'b'.\n",
        "a == b\n",
        "\n",
        "a - b\n",
        "\n",
        "b"
      ],
      "metadata": {
        "colab": {
          "base_uri": "https://localhost:8080/",
          "height": 156
        },
        "id": "gTMyvSfG_aSP",
        "outputId": "175bd848-2bb0-4d75-9c11-03b73f8cc919"
      },
      "execution_count": 48,
      "outputs": [
        {
          "output_type": "display_data",
          "data": {
            "text/html": [
              "0.012"
            ],
            "text/markdown": "0.012",
            "text/latex": "0.012",
            "text/plain": [
              "[1] 0.012"
            ]
          },
          "metadata": {}
        },
        {
          "output_type": "display_data",
          "data": {
            "text/html": [
              "0.0125"
            ],
            "text/markdown": "0.0125",
            "text/latex": "0.0125",
            "text/plain": [
              "[1] 0.0125"
            ]
          },
          "metadata": {}
        },
        {
          "output_type": "display_data",
          "data": {
            "text/html": [
              "1789.123"
            ],
            "text/markdown": "1789.123",
            "text/latex": "1789.123",
            "text/plain": [
              "[1] 1789.123"
            ]
          },
          "metadata": {}
        },
        {
          "output_type": "display_data",
          "data": {
            "text/html": [
              "1790"
            ],
            "text/markdown": "1790",
            "text/latex": "1790",
            "text/plain": [
              "[1] 1790"
            ]
          },
          "metadata": {}
        },
        {
          "output_type": "display_data",
          "data": {
            "text/html": [
              "1790"
            ],
            "text/markdown": "1790",
            "text/latex": "1790",
            "text/plain": [
              "[1] 1790"
            ]
          },
          "metadata": {}
        },
        {
          "output_type": "display_data",
          "data": {
            "text/html": [
              "FALSE"
            ],
            "text/markdown": "FALSE",
            "text/latex": "FALSE",
            "text/plain": [
              "[1] FALSE"
            ]
          },
          "metadata": {}
        },
        {
          "output_type": "display_data",
          "data": {
            "text/html": [
              "0.00345000000000001"
            ],
            "text/markdown": "0.00345000000000001",
            "text/latex": "0.00345000000000001",
            "text/plain": [
              "[1] 0.00345"
            ]
          },
          "metadata": {}
        },
        {
          "output_type": "display_data",
          "data": {
            "text/html": [
              "0.12"
            ],
            "text/markdown": "0.12",
            "text/latex": "0.12",
            "text/plain": [
              "[1] 0.12"
            ]
          },
          "metadata": {}
        }
      ]
    },
    {
      "cell_type": "code",
      "source": [
        "round(0.0124567, digits = 3)\n",
        "\n",
        "round(0.0124567, 3)"
      ],
      "metadata": {
        "colab": {
          "base_uri": "https://localhost:8080/",
          "height": 52
        },
        "id": "relMqguE_yx4",
        "outputId": "60be2855-0344-419d-fef8-543dcfdb6838"
      },
      "execution_count": 49,
      "outputs": [
        {
          "output_type": "display_data",
          "data": {
            "text/html": [
              "0.012"
            ],
            "text/markdown": "0.012",
            "text/latex": "0.012",
            "text/plain": [
              "[1] 0.012"
            ]
          },
          "metadata": {}
        },
        {
          "output_type": "display_data",
          "data": {
            "text/html": [
              "0.012"
            ],
            "text/markdown": "0.012",
            "text/latex": "0.012",
            "text/plain": [
              "[1] 0.012"
            ]
          },
          "metadata": {}
        }
      ]
    },
    {
      "cell_type": "markdown",
      "source": [
        "Logical values and Boolean algebra"
      ],
      "metadata": {
        "id": "5WoCyHO7BgbV"
      }
    },
    {
      "cell_type": "code",
      "source": [
        "a <- TRUE\n",
        "b <- FALSE\n",
        "mode(a)\n",
        "\n",
        "a\n",
        "\n",
        "!a # negacion\n",
        "\n",
        "a && b # logical AND\n",
        "\n",
        "a || b # logical OR\n",
        "\n",
        "xor(a, b) # exclusive OR"
      ],
      "metadata": {
        "colab": {
          "base_uri": "https://localhost:8080/",
          "height": 121
        },
        "id": "bCWHUvvX_13C",
        "outputId": "3ccd4212-2902-4ee4-a0d0-c9122ef6aa87"
      },
      "execution_count": 50,
      "outputs": [
        {
          "output_type": "display_data",
          "data": {
            "text/html": [
              "'logical'"
            ],
            "text/markdown": "'logical'",
            "text/latex": "'logical'",
            "text/plain": [
              "[1] \"logical\""
            ]
          },
          "metadata": {}
        },
        {
          "output_type": "display_data",
          "data": {
            "text/html": [
              "TRUE"
            ],
            "text/markdown": "TRUE",
            "text/latex": "TRUE",
            "text/plain": [
              "[1] TRUE"
            ]
          },
          "metadata": {}
        },
        {
          "output_type": "display_data",
          "data": {
            "text/html": [
              "FALSE"
            ],
            "text/markdown": "FALSE",
            "text/latex": "FALSE",
            "text/plain": [
              "[1] FALSE"
            ]
          },
          "metadata": {}
        },
        {
          "output_type": "display_data",
          "data": {
            "text/html": [
              "FALSE"
            ],
            "text/markdown": "FALSE",
            "text/latex": "FALSE",
            "text/plain": [
              "[1] FALSE"
            ]
          },
          "metadata": {}
        },
        {
          "output_type": "display_data",
          "data": {
            "text/html": [
              "TRUE"
            ],
            "text/markdown": "TRUE",
            "text/latex": "TRUE",
            "text/plain": [
              "[1] TRUE"
            ]
          },
          "metadata": {}
        },
        {
          "output_type": "display_data",
          "data": {
            "text/html": [
              "TRUE"
            ],
            "text/markdown": "TRUE",
            "text/latex": "TRUE",
            "text/plain": [
              "[1] TRUE"
            ]
          },
          "metadata": {}
        }
      ]
    },
    {
      "cell_type": "code",
      "source": [
        "a <- c(TRUE,FALSE)\n",
        "b <- c(TRUE,TRUE)\n",
        "a\n",
        "\n",
        "b\n",
        "\n",
        "a & b # vectorizado AND\n",
        "\n",
        "a | b # vectorizado OR\n",
        "\n",
        "\n"
      ],
      "metadata": {
        "colab": {
          "base_uri": "https://localhost:8080/",
          "height": 86
        },
        "id": "zIPKnDzv_9oF",
        "outputId": "a93a09c5-d954-4ff9-b499-4809c573ab43"
      },
      "execution_count": 53,
      "outputs": [
        {
          "output_type": "display_data",
          "data": {
            "text/html": [
              "<style>\n",
              ".list-inline {list-style: none; margin:0; padding: 0}\n",
              ".list-inline>li {display: inline-block}\n",
              ".list-inline>li:not(:last-child)::after {content: \"\\00b7\"; padding: 0 .5ex}\n",
              "</style>\n",
              "<ol class=list-inline><li>TRUE</li><li>FALSE</li></ol>\n"
            ],
            "text/markdown": "1. TRUE\n2. FALSE\n\n\n",
            "text/latex": "\\begin{enumerate*}\n\\item TRUE\n\\item FALSE\n\\end{enumerate*}\n",
            "text/plain": [
              "[1]  TRUE FALSE"
            ]
          },
          "metadata": {}
        },
        {
          "output_type": "display_data",
          "data": {
            "text/html": [
              "<style>\n",
              ".list-inline {list-style: none; margin:0; padding: 0}\n",
              ".list-inline>li {display: inline-block}\n",
              ".list-inline>li:not(:last-child)::after {content: \"\\00b7\"; padding: 0 .5ex}\n",
              "</style>\n",
              "<ol class=list-inline><li>TRUE</li><li>TRUE</li></ol>\n"
            ],
            "text/markdown": "1. TRUE\n2. TRUE\n\n\n",
            "text/latex": "\\begin{enumerate*}\n\\item TRUE\n\\item TRUE\n\\end{enumerate*}\n",
            "text/plain": [
              "[1] TRUE TRUE"
            ]
          },
          "metadata": {}
        },
        {
          "output_type": "display_data",
          "data": {
            "text/html": [
              "<style>\n",
              ".list-inline {list-style: none; margin:0; padding: 0}\n",
              ".list-inline>li {display: inline-block}\n",
              ".list-inline>li:not(:last-child)::after {content: \"\\00b7\"; padding: 0 .5ex}\n",
              "</style>\n",
              "<ol class=list-inline><li>TRUE</li><li>FALSE</li></ol>\n"
            ],
            "text/markdown": "1. TRUE\n2. FALSE\n\n\n",
            "text/latex": "\\begin{enumerate*}\n\\item TRUE\n\\item FALSE\n\\end{enumerate*}\n",
            "text/plain": [
              "[1]  TRUE FALSE"
            ]
          },
          "metadata": {}
        },
        {
          "output_type": "display_data",
          "data": {
            "text/html": [
              "<style>\n",
              ".list-inline {list-style: none; margin:0; padding: 0}\n",
              ".list-inline>li {display: inline-block}\n",
              ".list-inline>li:not(:last-child)::after {content: \"\\00b7\"; padding: 0 .5ex}\n",
              "</style>\n",
              "<ol class=list-inline><li>TRUE</li><li>TRUE</li></ol>\n"
            ],
            "text/markdown": "1. TRUE\n2. TRUE\n\n\n",
            "text/latex": "\\begin{enumerate*}\n\\item TRUE\n\\item TRUE\n\\end{enumerate*}\n",
            "text/plain": [
              "[1] TRUE TRUE"
            ]
          },
          "metadata": {}
        }
      ]
    },
    {
      "cell_type": "code",
      "source": [
        "any(a) # La función 'any' devuelve TRUE si al menos uno de los elementos en 'a' es verdadero, y FALSE si todos son falsos.\n",
        "\n",
        "all(a) # La función 'all' devuelve TRUE si todos los elementos en 'a' son verdaderos, y FALSE si al menos uno es falso.\n",
        "\n",
        " # La expresión 'a & b' realiza una operación lógica AND elemento a elemento entre los vectores 'a' y 'b'.\n",
        "any(a & b)# La función 'any' devuelve TRUE si al menos uno de los elementos en 'a & b' es verdadero, y FALSE si todos son falsos.\n",
        "\n",
        "all(a & b) # La función 'all' devuelve TRUE si todos los elementos en 'a & b' son verdaderos, y FALSE si al menos uno es falso."
      ],
      "metadata": {
        "colab": {
          "base_uri": "https://localhost:8080/",
          "height": 86
        },
        "id": "4M0e8TO9ARTC",
        "outputId": "1e8be888-6845-46e7-ca85-2229c463e61e"
      },
      "execution_count": 54,
      "outputs": [
        {
          "output_type": "display_data",
          "data": {
            "text/html": [
              "TRUE"
            ],
            "text/markdown": "TRUE",
            "text/latex": "TRUE",
            "text/plain": [
              "[1] TRUE"
            ]
          },
          "metadata": {}
        },
        {
          "output_type": "display_data",
          "data": {
            "text/html": [
              "FALSE"
            ],
            "text/markdown": "FALSE",
            "text/latex": "FALSE",
            "text/plain": [
              "[1] FALSE"
            ]
          },
          "metadata": {}
        },
        {
          "output_type": "display_data",
          "data": {
            "text/html": [
              "TRUE"
            ],
            "text/markdown": "TRUE",
            "text/latex": "TRUE",
            "text/plain": [
              "[1] TRUE"
            ]
          },
          "metadata": {}
        },
        {
          "output_type": "display_data",
          "data": {
            "text/html": [
              "FALSE"
            ],
            "text/markdown": "FALSE",
            "text/latex": "FALSE",
            "text/plain": [
              "[1] FALSE"
            ]
          },
          "metadata": {}
        }
      ]
    },
    {
      "cell_type": "code",
      "source": [
        "TRUE || NA # Operador '||' realiza una operación OR lógica, devolviendo TRUE si al menos uno de los operandos es TRUE.\n",
        "\n",
        "FALSE || NA # Si ambos operandos son FALSE o NA, el resultado es NA.\n",
        "\n",
        "TRUE && NA # Operador '&&' realiza una operación AND lógica, devolviendo TRUE solo si ambos operandos son TRUE.\n",
        "\n",
        "FALSE && NA\n",
        "\n",
        "TRUE && FALSE && NA\n",
        "\n",
        "TRUE && TRUE && NA"
      ],
      "metadata": {
        "colab": {
          "base_uri": "https://localhost:8080/",
          "height": 121
        },
        "id": "JZ9oodVJAU93",
        "outputId": "4edf7d58-a4a5-472e-8ffe-4ce68187019e"
      },
      "execution_count": 55,
      "outputs": [
        {
          "output_type": "display_data",
          "data": {
            "text/html": [
              "TRUE"
            ],
            "text/markdown": "TRUE",
            "text/latex": "TRUE",
            "text/plain": [
              "[1] TRUE"
            ]
          },
          "metadata": {}
        },
        {
          "output_type": "display_data",
          "data": {
            "text/html": [
              "&lt;NA&gt;"
            ],
            "text/markdown": "&lt;NA&gt;",
            "text/latex": "<NA>",
            "text/plain": [
              "[1] NA"
            ]
          },
          "metadata": {}
        },
        {
          "output_type": "display_data",
          "data": {
            "text/html": [
              "&lt;NA&gt;"
            ],
            "text/markdown": "&lt;NA&gt;",
            "text/latex": "<NA>",
            "text/plain": [
              "[1] NA"
            ]
          },
          "metadata": {}
        },
        {
          "output_type": "display_data",
          "data": {
            "text/html": [
              "FALSE"
            ],
            "text/markdown": "FALSE",
            "text/latex": "FALSE",
            "text/plain": [
              "[1] FALSE"
            ]
          },
          "metadata": {}
        },
        {
          "output_type": "display_data",
          "data": {
            "text/html": [
              "FALSE"
            ],
            "text/markdown": "FALSE",
            "text/latex": "FALSE",
            "text/plain": [
              "[1] FALSE"
            ]
          },
          "metadata": {}
        },
        {
          "output_type": "display_data",
          "data": {
            "text/html": [
              "&lt;NA&gt;"
            ],
            "text/markdown": "&lt;NA&gt;",
            "text/latex": "<NA>",
            "text/plain": [
              "[1] NA"
            ]
          },
          "metadata": {}
        }
      ]
    },
    {
      "cell_type": "code",
      "source": [
        "a & b & NA\n",
        "\n",
        "a & b & c(NA, NA)\n",
        "\n",
        "a | b | c(NA, NA)"
      ],
      "metadata": {
        "colab": {
          "base_uri": "https://localhost:8080/",
          "height": 69
        },
        "id": "XdQlDSfxAbHt",
        "outputId": "b6171cb7-5e08-4001-fe1b-92ba35725b08"
      },
      "execution_count": 56,
      "outputs": [
        {
          "output_type": "display_data",
          "data": {
            "text/html": [
              "<style>\n",
              ".list-inline {list-style: none; margin:0; padding: 0}\n",
              ".list-inline>li {display: inline-block}\n",
              ".list-inline>li:not(:last-child)::after {content: \"\\00b7\"; padding: 0 .5ex}\n",
              "</style>\n",
              "<ol class=list-inline><li>&lt;NA&gt;</li><li>FALSE</li></ol>\n"
            ],
            "text/markdown": "1. &lt;NA&gt;\n2. FALSE\n\n\n",
            "text/latex": "\\begin{enumerate*}\n\\item <NA>\n\\item FALSE\n\\end{enumerate*}\n",
            "text/plain": [
              "[1]    NA FALSE"
            ]
          },
          "metadata": {}
        },
        {
          "output_type": "display_data",
          "data": {
            "text/html": [
              "<style>\n",
              ".list-inline {list-style: none; margin:0; padding: 0}\n",
              ".list-inline>li {display: inline-block}\n",
              ".list-inline>li:not(:last-child)::after {content: \"\\00b7\"; padding: 0 .5ex}\n",
              "</style>\n",
              "<ol class=list-inline><li>&lt;NA&gt;</li><li>FALSE</li></ol>\n"
            ],
            "text/markdown": "1. &lt;NA&gt;\n2. FALSE\n\n\n",
            "text/latex": "\\begin{enumerate*}\n\\item <NA>\n\\item FALSE\n\\end{enumerate*}\n",
            "text/plain": [
              "[1]    NA FALSE"
            ]
          },
          "metadata": {}
        },
        {
          "output_type": "display_data",
          "data": {
            "text/html": [
              "<style>\n",
              ".list-inline {list-style: none; margin:0; padding: 0}\n",
              ".list-inline>li {display: inline-block}\n",
              ".list-inline>li:not(:last-child)::after {content: \"\\00b7\"; padding: 0 .5ex}\n",
              "</style>\n",
              "<ol class=list-inline><li>TRUE</li><li>TRUE</li></ol>\n"
            ],
            "text/markdown": "1. TRUE\n2. TRUE\n\n\n",
            "text/latex": "\\begin{enumerate*}\n\\item TRUE\n\\item TRUE\n\\end{enumerate*}\n",
            "text/plain": [
              "[1] TRUE TRUE"
            ]
          },
          "metadata": {}
        }
      ]
    },
    {
      "cell_type": "code",
      "source": [
        "x <- c(TRUE, FALSE, TRUE, NA)\n",
        "x & FALSE\n",
        "x | c(TRUE, FALSE)"
      ],
      "metadata": {
        "colab": {
          "base_uri": "https://localhost:8080/",
          "height": 52
        },
        "id": "d7AeQLnLAfcW",
        "outputId": "ce4b0802-8486-4bf4-ca2c-d81a973fa033"
      },
      "execution_count": 57,
      "outputs": [
        {
          "output_type": "display_data",
          "data": {
            "text/html": [
              "<style>\n",
              ".list-inline {list-style: none; margin:0; padding: 0}\n",
              ".list-inline>li {display: inline-block}\n",
              ".list-inline>li:not(:last-child)::after {content: \"\\00b7\"; padding: 0 .5ex}\n",
              "</style>\n",
              "<ol class=list-inline><li>FALSE</li><li>FALSE</li><li>FALSE</li><li>FALSE</li></ol>\n"
            ],
            "text/markdown": "1. FALSE\n2. FALSE\n3. FALSE\n4. FALSE\n\n\n",
            "text/latex": "\\begin{enumerate*}\n\\item FALSE\n\\item FALSE\n\\item FALSE\n\\item FALSE\n\\end{enumerate*}\n",
            "text/plain": [
              "[1] FALSE FALSE FALSE FALSE"
            ]
          },
          "metadata": {}
        },
        {
          "output_type": "display_data",
          "data": {
            "text/html": [
              "<style>\n",
              ".list-inline {list-style: none; margin:0; padding: 0}\n",
              ".list-inline>li {display: inline-block}\n",
              ".list-inline>li:not(:last-child)::after {content: \"\\00b7\"; padding: 0 .5ex}\n",
              "</style>\n",
              "<ol class=list-inline><li>TRUE</li><li>FALSE</li><li>TRUE</li><li>&lt;NA&gt;</li></ol>\n"
            ],
            "text/markdown": "1. TRUE\n2. FALSE\n3. TRUE\n4. &lt;NA&gt;\n\n\n",
            "text/latex": "\\begin{enumerate*}\n\\item TRUE\n\\item FALSE\n\\item TRUE\n\\item <NA>\n\\end{enumerate*}\n",
            "text/plain": [
              "[1]  TRUE FALSE  TRUE    NA"
            ]
          },
          "metadata": {}
        }
      ]
    },
    {
      "cell_type": "markdown",
      "source": [
        "Operadores y operaciones de comparación.\n",
        "\n",
        "\n"
      ],
      "metadata": {
        "id": "nYv1HaqbBmaA"
      }
    },
    {
      "cell_type": "code",
      "source": [
        "1.2 > 1.0\n",
        "\n",
        "1.2 >= 1.0\n",
        "\n",
        "1.2 == 1.0 # tenga en cuenta que aquí utilizamos dos símbolos =\n",
        "\n",
        "1.2 != 1.0\n",
        "\n",
        "1.2 <= 1.0\n",
        "\n",
        "1.2 < 1.0\n",
        "\n",
        "a <- 20\n",
        "a < 100 && a > 10"
      ],
      "metadata": {
        "colab": {
          "base_uri": "https://localhost:8080/",
          "height": 138
        },
        "id": "KZFRql29As1U",
        "outputId": "cabd019b-e5da-41f5-c1e3-b52b4e868770"
      },
      "execution_count": 58,
      "outputs": [
        {
          "output_type": "display_data",
          "data": {
            "text/html": [
              "TRUE"
            ],
            "text/markdown": "TRUE",
            "text/latex": "TRUE",
            "text/plain": [
              "[1] TRUE"
            ]
          },
          "metadata": {}
        },
        {
          "output_type": "display_data",
          "data": {
            "text/html": [
              "TRUE"
            ],
            "text/markdown": "TRUE",
            "text/latex": "TRUE",
            "text/plain": [
              "[1] TRUE"
            ]
          },
          "metadata": {}
        },
        {
          "output_type": "display_data",
          "data": {
            "text/html": [
              "FALSE"
            ],
            "text/markdown": "FALSE",
            "text/latex": "FALSE",
            "text/plain": [
              "[1] FALSE"
            ]
          },
          "metadata": {}
        },
        {
          "output_type": "display_data",
          "data": {
            "text/html": [
              "TRUE"
            ],
            "text/markdown": "TRUE",
            "text/latex": "TRUE",
            "text/plain": [
              "[1] TRUE"
            ]
          },
          "metadata": {}
        },
        {
          "output_type": "display_data",
          "data": {
            "text/html": [
              "FALSE"
            ],
            "text/markdown": "FALSE",
            "text/latex": "FALSE",
            "text/plain": [
              "[1] FALSE"
            ]
          },
          "metadata": {}
        },
        {
          "output_type": "display_data",
          "data": {
            "text/html": [
              "FALSE"
            ],
            "text/markdown": "FALSE",
            "text/latex": "FALSE",
            "text/plain": [
              "[1] FALSE"
            ]
          },
          "metadata": {}
        },
        {
          "output_type": "display_data",
          "data": {
            "text/html": [
              "TRUE"
            ],
            "text/markdown": "TRUE",
            "text/latex": "TRUE",
            "text/plain": [
              "[1] TRUE"
            ]
          },
          "metadata": {}
        }
      ]
    },
    {
      "cell_type": "code",
      "source": [
        "a <- 1:10\n",
        "a > 5\n",
        "\n",
        "a < 5\n",
        "\n",
        "a == 5\n",
        "\n",
        "all(a > 5)\n",
        "\n",
        "any(a > 5)\n",
        "\n",
        "b <- a > 5\n",
        "b\n",
        "\n",
        "any(b)\n",
        "\n",
        "all(b)"
      ],
      "metadata": {
        "colab": {
          "base_uri": "https://localhost:8080/",
          "height": 156
        },
        "id": "cud-3xCgA0QD",
        "outputId": "b4ddbbac-a716-4f74-a365-c1ab883993af"
      },
      "execution_count": 59,
      "outputs": [
        {
          "output_type": "display_data",
          "data": {
            "text/html": [
              "<style>\n",
              ".list-inline {list-style: none; margin:0; padding: 0}\n",
              ".list-inline>li {display: inline-block}\n",
              ".list-inline>li:not(:last-child)::after {content: \"\\00b7\"; padding: 0 .5ex}\n",
              "</style>\n",
              "<ol class=list-inline><li>FALSE</li><li>FALSE</li><li>FALSE</li><li>FALSE</li><li>FALSE</li><li>TRUE</li><li>TRUE</li><li>TRUE</li><li>TRUE</li><li>TRUE</li></ol>\n"
            ],
            "text/markdown": "1. FALSE\n2. FALSE\n3. FALSE\n4. FALSE\n5. FALSE\n6. TRUE\n7. TRUE\n8. TRUE\n9. TRUE\n10. TRUE\n\n\n",
            "text/latex": "\\begin{enumerate*}\n\\item FALSE\n\\item FALSE\n\\item FALSE\n\\item FALSE\n\\item FALSE\n\\item TRUE\n\\item TRUE\n\\item TRUE\n\\item TRUE\n\\item TRUE\n\\end{enumerate*}\n",
            "text/plain": [
              " [1] FALSE FALSE FALSE FALSE FALSE  TRUE  TRUE  TRUE  TRUE  TRUE"
            ]
          },
          "metadata": {}
        },
        {
          "output_type": "display_data",
          "data": {
            "text/html": [
              "<style>\n",
              ".list-inline {list-style: none; margin:0; padding: 0}\n",
              ".list-inline>li {display: inline-block}\n",
              ".list-inline>li:not(:last-child)::after {content: \"\\00b7\"; padding: 0 .5ex}\n",
              "</style>\n",
              "<ol class=list-inline><li>TRUE</li><li>TRUE</li><li>TRUE</li><li>TRUE</li><li>FALSE</li><li>FALSE</li><li>FALSE</li><li>FALSE</li><li>FALSE</li><li>FALSE</li></ol>\n"
            ],
            "text/markdown": "1. TRUE\n2. TRUE\n3. TRUE\n4. TRUE\n5. FALSE\n6. FALSE\n7. FALSE\n8. FALSE\n9. FALSE\n10. FALSE\n\n\n",
            "text/latex": "\\begin{enumerate*}\n\\item TRUE\n\\item TRUE\n\\item TRUE\n\\item TRUE\n\\item FALSE\n\\item FALSE\n\\item FALSE\n\\item FALSE\n\\item FALSE\n\\item FALSE\n\\end{enumerate*}\n",
            "text/plain": [
              " [1]  TRUE  TRUE  TRUE  TRUE FALSE FALSE FALSE FALSE FALSE FALSE"
            ]
          },
          "metadata": {}
        },
        {
          "output_type": "display_data",
          "data": {
            "text/html": [
              "<style>\n",
              ".list-inline {list-style: none; margin:0; padding: 0}\n",
              ".list-inline>li {display: inline-block}\n",
              ".list-inline>li:not(:last-child)::after {content: \"\\00b7\"; padding: 0 .5ex}\n",
              "</style>\n",
              "<ol class=list-inline><li>FALSE</li><li>FALSE</li><li>FALSE</li><li>FALSE</li><li>TRUE</li><li>FALSE</li><li>FALSE</li><li>FALSE</li><li>FALSE</li><li>FALSE</li></ol>\n"
            ],
            "text/markdown": "1. FALSE\n2. FALSE\n3. FALSE\n4. FALSE\n5. TRUE\n6. FALSE\n7. FALSE\n8. FALSE\n9. FALSE\n10. FALSE\n\n\n",
            "text/latex": "\\begin{enumerate*}\n\\item FALSE\n\\item FALSE\n\\item FALSE\n\\item FALSE\n\\item TRUE\n\\item FALSE\n\\item FALSE\n\\item FALSE\n\\item FALSE\n\\item FALSE\n\\end{enumerate*}\n",
            "text/plain": [
              " [1] FALSE FALSE FALSE FALSE  TRUE FALSE FALSE FALSE FALSE FALSE"
            ]
          },
          "metadata": {}
        },
        {
          "output_type": "display_data",
          "data": {
            "text/html": [
              "FALSE"
            ],
            "text/markdown": "FALSE",
            "text/latex": "FALSE",
            "text/plain": [
              "[1] FALSE"
            ]
          },
          "metadata": {}
        },
        {
          "output_type": "display_data",
          "data": {
            "text/html": [
              "TRUE"
            ],
            "text/markdown": "TRUE",
            "text/latex": "TRUE",
            "text/plain": [
              "[1] TRUE"
            ]
          },
          "metadata": {}
        },
        {
          "output_type": "display_data",
          "data": {
            "text/html": [
              "<style>\n",
              ".list-inline {list-style: none; margin:0; padding: 0}\n",
              ".list-inline>li {display: inline-block}\n",
              ".list-inline>li:not(:last-child)::after {content: \"\\00b7\"; padding: 0 .5ex}\n",
              "</style>\n",
              "<ol class=list-inline><li>FALSE</li><li>FALSE</li><li>FALSE</li><li>FALSE</li><li>FALSE</li><li>TRUE</li><li>TRUE</li><li>TRUE</li><li>TRUE</li><li>TRUE</li></ol>\n"
            ],
            "text/markdown": "1. FALSE\n2. FALSE\n3. FALSE\n4. FALSE\n5. FALSE\n6. TRUE\n7. TRUE\n8. TRUE\n9. TRUE\n10. TRUE\n\n\n",
            "text/latex": "\\begin{enumerate*}\n\\item FALSE\n\\item FALSE\n\\item FALSE\n\\item FALSE\n\\item FALSE\n\\item TRUE\n\\item TRUE\n\\item TRUE\n\\item TRUE\n\\item TRUE\n\\end{enumerate*}\n",
            "text/plain": [
              " [1] FALSE FALSE FALSE FALSE FALSE  TRUE  TRUE  TRUE  TRUE  TRUE"
            ]
          },
          "metadata": {}
        },
        {
          "output_type": "display_data",
          "data": {
            "text/html": [
              "TRUE"
            ],
            "text/markdown": "TRUE",
            "text/latex": "TRUE",
            "text/plain": [
              "[1] TRUE"
            ]
          },
          "metadata": {}
        },
        {
          "output_type": "display_data",
          "data": {
            "text/html": [
              "FALSE"
            ],
            "text/markdown": "FALSE",
            "text/latex": "FALSE",
            "text/plain": [
              "[1] FALSE"
            ]
          },
          "metadata": {}
        }
      ]
    },
    {
      "cell_type": "code",
      "source": [
        "a > 2 + 3\n",
        "\n",
        "(a > 2) + 3"
      ],
      "metadata": {
        "colab": {
          "base_uri": "https://localhost:8080/",
          "height": 52
        },
        "id": "yrZALfVBBJOb",
        "outputId": "12d3c4e1-a911-4784-beb8-f0ba048137c6"
      },
      "execution_count": 60,
      "outputs": [
        {
          "output_type": "display_data",
          "data": {
            "text/html": [
              "<style>\n",
              ".list-inline {list-style: none; margin:0; padding: 0}\n",
              ".list-inline>li {display: inline-block}\n",
              ".list-inline>li:not(:last-child)::after {content: \"\\00b7\"; padding: 0 .5ex}\n",
              "</style>\n",
              "<ol class=list-inline><li>FALSE</li><li>FALSE</li><li>FALSE</li><li>FALSE</li><li>FALSE</li><li>TRUE</li><li>TRUE</li><li>TRUE</li><li>TRUE</li><li>TRUE</li></ol>\n"
            ],
            "text/markdown": "1. FALSE\n2. FALSE\n3. FALSE\n4. FALSE\n5. FALSE\n6. TRUE\n7. TRUE\n8. TRUE\n9. TRUE\n10. TRUE\n\n\n",
            "text/latex": "\\begin{enumerate*}\n\\item FALSE\n\\item FALSE\n\\item FALSE\n\\item FALSE\n\\item FALSE\n\\item TRUE\n\\item TRUE\n\\item TRUE\n\\item TRUE\n\\item TRUE\n\\end{enumerate*}\n",
            "text/plain": [
              " [1] FALSE FALSE FALSE FALSE FALSE  TRUE  TRUE  TRUE  TRUE  TRUE"
            ]
          },
          "metadata": {}
        },
        {
          "output_type": "display_data",
          "data": {
            "text/html": [
              "<style>\n",
              ".list-inline {list-style: none; margin:0; padding: 0}\n",
              ".list-inline>li {display: inline-block}\n",
              ".list-inline>li:not(:last-child)::after {content: \"\\00b7\"; padding: 0 .5ex}\n",
              "</style>\n",
              "<ol class=list-inline><li>3</li><li>3</li><li>4</li><li>4</li><li>4</li><li>4</li><li>4</li><li>4</li><li>4</li><li>4</li></ol>\n"
            ],
            "text/markdown": "1. 3\n2. 3\n3. 4\n4. 4\n5. 4\n6. 4\n7. 4\n8. 4\n9. 4\n10. 4\n\n\n",
            "text/latex": "\\begin{enumerate*}\n\\item 3\n\\item 3\n\\item 4\n\\item 4\n\\item 4\n\\item 4\n\\item 4\n\\item 4\n\\item 4\n\\item 4\n\\end{enumerate*}\n",
            "text/plain": [
              " [1] 3 3 4 4 4 4 4 4 4 4"
            ]
          },
          "metadata": {}
        }
      ]
    },
    {
      "cell_type": "code",
      "source": [
        "c <- c(a, NA)\n",
        "c > 5"
      ],
      "metadata": {
        "colab": {
          "base_uri": "https://localhost:8080/",
          "height": 34
        },
        "id": "A_gKBiASBJR0",
        "outputId": "e017e99a-d0cb-41e0-d0fb-73a0404f9e95"
      },
      "execution_count": 61,
      "outputs": [
        {
          "output_type": "display_data",
          "data": {
            "text/html": [
              "<style>\n",
              ".list-inline {list-style: none; margin:0; padding: 0}\n",
              ".list-inline>li {display: inline-block}\n",
              ".list-inline>li:not(:last-child)::after {content: \"\\00b7\"; padding: 0 .5ex}\n",
              "</style>\n",
              "<ol class=list-inline><li>FALSE</li><li>FALSE</li><li>FALSE</li><li>FALSE</li><li>FALSE</li><li>TRUE</li><li>TRUE</li><li>TRUE</li><li>TRUE</li><li>TRUE</li><li>&lt;NA&gt;</li></ol>\n"
            ],
            "text/markdown": "1. FALSE\n2. FALSE\n3. FALSE\n4. FALSE\n5. FALSE\n6. TRUE\n7. TRUE\n8. TRUE\n9. TRUE\n10. TRUE\n11. &lt;NA&gt;\n\n\n",
            "text/latex": "\\begin{enumerate*}\n\\item FALSE\n\\item FALSE\n\\item FALSE\n\\item FALSE\n\\item FALSE\n\\item TRUE\n\\item TRUE\n\\item TRUE\n\\item TRUE\n\\item TRUE\n\\item <NA>\n\\end{enumerate*}\n",
            "text/plain": [
              " [1] FALSE FALSE FALSE FALSE FALSE  TRUE  TRUE  TRUE  TRUE  TRUE    NA"
            ]
          },
          "metadata": {}
        }
      ]
    },
    {
      "cell_type": "code",
      "source": [
        "all(c > 5)\n",
        "\n",
        "any(c > 5)\n",
        "\n",
        "all(c < 20)\n",
        "\n",
        "any(c > 20)\n",
        "\n",
        "is.na(a)\n",
        "\n",
        "is.na(c)\n",
        "\n",
        "any(is.na(c))\n",
        "\n",
        "all(is.na(c))"
      ],
      "metadata": {
        "colab": {
          "base_uri": "https://localhost:8080/",
          "height": 156
        },
        "id": "H6Dmx6lOB2Qv",
        "outputId": "d7bc8cd6-ac89-4837-cff2-c7673d51aeb4"
      },
      "execution_count": 62,
      "outputs": [
        {
          "output_type": "display_data",
          "data": {
            "text/html": [
              "FALSE"
            ],
            "text/markdown": "FALSE",
            "text/latex": "FALSE",
            "text/plain": [
              "[1] FALSE"
            ]
          },
          "metadata": {}
        },
        {
          "output_type": "display_data",
          "data": {
            "text/html": [
              "TRUE"
            ],
            "text/markdown": "TRUE",
            "text/latex": "TRUE",
            "text/plain": [
              "[1] TRUE"
            ]
          },
          "metadata": {}
        },
        {
          "output_type": "display_data",
          "data": {
            "text/html": [
              "&lt;NA&gt;"
            ],
            "text/markdown": "&lt;NA&gt;",
            "text/latex": "<NA>",
            "text/plain": [
              "[1] NA"
            ]
          },
          "metadata": {}
        },
        {
          "output_type": "display_data",
          "data": {
            "text/html": [
              "&lt;NA&gt;"
            ],
            "text/markdown": "&lt;NA&gt;",
            "text/latex": "<NA>",
            "text/plain": [
              "[1] NA"
            ]
          },
          "metadata": {}
        },
        {
          "output_type": "display_data",
          "data": {
            "text/html": [
              "<style>\n",
              ".list-inline {list-style: none; margin:0; padding: 0}\n",
              ".list-inline>li {display: inline-block}\n",
              ".list-inline>li:not(:last-child)::after {content: \"\\00b7\"; padding: 0 .5ex}\n",
              "</style>\n",
              "<ol class=list-inline><li>FALSE</li><li>FALSE</li><li>FALSE</li><li>FALSE</li><li>FALSE</li><li>FALSE</li><li>FALSE</li><li>FALSE</li><li>FALSE</li><li>FALSE</li></ol>\n"
            ],
            "text/markdown": "1. FALSE\n2. FALSE\n3. FALSE\n4. FALSE\n5. FALSE\n6. FALSE\n7. FALSE\n8. FALSE\n9. FALSE\n10. FALSE\n\n\n",
            "text/latex": "\\begin{enumerate*}\n\\item FALSE\n\\item FALSE\n\\item FALSE\n\\item FALSE\n\\item FALSE\n\\item FALSE\n\\item FALSE\n\\item FALSE\n\\item FALSE\n\\item FALSE\n\\end{enumerate*}\n",
            "text/plain": [
              " [1] FALSE FALSE FALSE FALSE FALSE FALSE FALSE FALSE FALSE FALSE"
            ]
          },
          "metadata": {}
        },
        {
          "output_type": "display_data",
          "data": {
            "text/html": [
              "<style>\n",
              ".list-inline {list-style: none; margin:0; padding: 0}\n",
              ".list-inline>li {display: inline-block}\n",
              ".list-inline>li:not(:last-child)::after {content: \"\\00b7\"; padding: 0 .5ex}\n",
              "</style>\n",
              "<ol class=list-inline><li>FALSE</li><li>FALSE</li><li>FALSE</li><li>FALSE</li><li>FALSE</li><li>FALSE</li><li>FALSE</li><li>FALSE</li><li>FALSE</li><li>FALSE</li><li>TRUE</li></ol>\n"
            ],
            "text/markdown": "1. FALSE\n2. FALSE\n3. FALSE\n4. FALSE\n5. FALSE\n6. FALSE\n7. FALSE\n8. FALSE\n9. FALSE\n10. FALSE\n11. TRUE\n\n\n",
            "text/latex": "\\begin{enumerate*}\n\\item FALSE\n\\item FALSE\n\\item FALSE\n\\item FALSE\n\\item FALSE\n\\item FALSE\n\\item FALSE\n\\item FALSE\n\\item FALSE\n\\item FALSE\n\\item TRUE\n\\end{enumerate*}\n",
            "text/plain": [
              " [1] FALSE FALSE FALSE FALSE FALSE FALSE FALSE FALSE FALSE FALSE  TRUE"
            ]
          },
          "metadata": {}
        },
        {
          "output_type": "display_data",
          "data": {
            "text/html": [
              "TRUE"
            ],
            "text/markdown": "TRUE",
            "text/latex": "TRUE",
            "text/plain": [
              "[1] TRUE"
            ]
          },
          "metadata": {}
        },
        {
          "output_type": "display_data",
          "data": {
            "text/html": [
              "FALSE"
            ],
            "text/markdown": "FALSE",
            "text/latex": "FALSE",
            "text/plain": [
              "[1] FALSE"
            ]
          },
          "metadata": {}
        }
      ]
    },
    {
      "cell_type": "code",
      "source": [
        "all(c < 20)\n",
        "\n",
        "any(c > 20)\n",
        "\n",
        "all(c < 20, na.rm=TRUE)\n",
        "\n",
        "any(c > 20, na.rm=TRUE)"
      ],
      "metadata": {
        "colab": {
          "base_uri": "https://localhost:8080/",
          "height": 86
        },
        "id": "FZiO-xuZB-3o",
        "outputId": "4203effa-a8f2-4b5e-93b5-383a0a9588de"
      },
      "execution_count": 63,
      "outputs": [
        {
          "output_type": "display_data",
          "data": {
            "text/html": [
              "&lt;NA&gt;"
            ],
            "text/markdown": "&lt;NA&gt;",
            "text/latex": "<NA>",
            "text/plain": [
              "[1] NA"
            ]
          },
          "metadata": {}
        },
        {
          "output_type": "display_data",
          "data": {
            "text/html": [
              "&lt;NA&gt;"
            ],
            "text/markdown": "&lt;NA&gt;",
            "text/latex": "<NA>",
            "text/plain": [
              "[1] NA"
            ]
          },
          "metadata": {}
        },
        {
          "output_type": "display_data",
          "data": {
            "text/html": [
              "TRUE"
            ],
            "text/markdown": "TRUE",
            "text/latex": "TRUE",
            "text/plain": [
              "[1] TRUE"
            ]
          },
          "metadata": {}
        },
        {
          "output_type": "display_data",
          "data": {
            "text/html": [
              "FALSE"
            ],
            "text/markdown": "FALSE",
            "text/latex": "FALSE",
            "text/plain": [
              "[1] FALSE"
            ]
          },
          "metadata": {}
        }
      ]
    },
    {
      "cell_type": "code",
      "source": [
        "1e20== 1+1e20\n",
        "\n",
        "1==1 - 1e-20\n",
        "\n",
        "0 == 1e-20"
      ],
      "metadata": {
        "colab": {
          "base_uri": "https://localhost:8080/",
          "height": 69
        },
        "id": "TmblqaAtCEFu",
        "outputId": "4266be19-b18d-4a6d-815f-f9c848a6fd6a"
      },
      "execution_count": 66,
      "outputs": [
        {
          "output_type": "display_data",
          "data": {
            "text/html": [
              "TRUE"
            ],
            "text/markdown": "TRUE",
            "text/latex": "TRUE",
            "text/plain": [
              "[1] TRUE"
            ]
          },
          "metadata": {}
        },
        {
          "output_type": "display_data",
          "data": {
            "text/html": [
              "TRUE"
            ],
            "text/markdown": "TRUE",
            "text/latex": "TRUE",
            "text/plain": [
              "[1] TRUE"
            ]
          },
          "metadata": {}
        },
        {
          "output_type": "display_data",
          "data": {
            "text/html": [
              "FALSE"
            ],
            "text/markdown": "FALSE",
            "text/latex": "FALSE",
            "text/plain": [
              "[1] FALSE"
            ]
          },
          "metadata": {}
        }
      ]
    },
    {
      "cell_type": "code",
      "source": [
        ".Machine$double.eps\n",
        "\n",
        ".Machine$double.neg.eps\n",
        "\n",
        ".Machine$double.max\n",
        "\n",
        ".Machine$double.min"
      ],
      "metadata": {
        "colab": {
          "base_uri": "https://localhost:8080/",
          "height": 86
        },
        "id": "xvSBR5dWCUTV",
        "outputId": "e925187e-7bac-4b52-e982-62b4affe54bb"
      },
      "execution_count": 67,
      "outputs": [
        {
          "output_type": "display_data",
          "data": {
            "text/html": [
              "2.22044604925031e-16"
            ],
            "text/markdown": "2.22044604925031e-16",
            "text/latex": "2.22044604925031e-16",
            "text/plain": [
              "[1] 2.220446e-16"
            ]
          },
          "metadata": {}
        },
        {
          "output_type": "display_data",
          "data": {
            "text/html": [
              "1.11022302462516e-16"
            ],
            "text/markdown": "1.11022302462516e-16",
            "text/latex": "1.11022302462516e-16",
            "text/plain": [
              "[1] 1.110223e-16"
            ]
          },
          "metadata": {}
        },
        {
          "output_type": "display_data",
          "data": {
            "text/html": [
              "1024"
            ],
            "text/markdown": "1024",
            "text/latex": "1024",
            "text/plain": [
              "[1] 1024"
            ]
          },
          "metadata": {}
        },
        {
          "output_type": "display_data",
          "data": {
            "text/html": [
              "-1022"
            ],
            "text/markdown": "-1022",
            "text/latex": "-1022",
            "text/plain": [
              "[1] -1022"
            ]
          },
          "metadata": {}
        }
      ]
    },
    {
      "cell_type": "code",
      "source": [
        "1e1026\n",
        "\n",
        "1e-1026\n",
        "\n",
        "Inf + 1\n",
        "\n",
        "-Inf + 1"
      ],
      "metadata": {
        "colab": {
          "base_uri": "https://localhost:8080/",
          "height": 86
        },
        "id": "u5lr4cL5CYKT",
        "outputId": "58453c9f-d2c5-41f3-deb0-4889d328d372"
      },
      "execution_count": 68,
      "outputs": [
        {
          "output_type": "display_data",
          "data": {
            "text/html": [
              "Inf"
            ],
            "text/markdown": "Inf",
            "text/latex": "Inf",
            "text/plain": [
              "[1] Inf"
            ]
          },
          "metadata": {}
        },
        {
          "output_type": "display_data",
          "data": {
            "text/html": [
              "0"
            ],
            "text/markdown": "0",
            "text/latex": "0",
            "text/plain": [
              "[1] 0"
            ]
          },
          "metadata": {}
        },
        {
          "output_type": "display_data",
          "data": {
            "text/html": [
              "Inf"
            ],
            "text/markdown": "Inf",
            "text/latex": "Inf",
            "text/plain": [
              "[1] Inf"
            ]
          },
          "metadata": {}
        },
        {
          "output_type": "display_data",
          "data": {
            "text/html": [
              "-Inf"
            ],
            "text/markdown": "-Inf",
            "text/latex": "-Inf",
            "text/plain": [
              "[1] -Inf"
            ]
          },
          "metadata": {}
        }
      ]
    },
    {
      "cell_type": "code",
      "source": [
        ".Machine$integer.max\n",
        "\n",
        "2147483699L"
      ],
      "metadata": {
        "colab": {
          "base_uri": "https://localhost:8080/",
          "height": 52
        },
        "id": "8WiqGpaACcuR",
        "outputId": "edd4d035-d731-4a4c-917e-8b81657b59cf"
      },
      "execution_count": 69,
      "outputs": [
        {
          "output_type": "display_data",
          "data": {
            "text/html": [
              "2147483647"
            ],
            "text/markdown": "2147483647",
            "text/latex": "2147483647",
            "text/plain": [
              "[1] 2147483647"
            ]
          },
          "metadata": {}
        },
        {
          "output_type": "display_data",
          "data": {
            "text/html": [
              "2147483699"
            ],
            "text/markdown": "2147483699",
            "text/latex": "2147483699",
            "text/plain": [
              "[1] 2147483699"
            ]
          },
          "metadata": {}
        }
      ]
    },
    {
      "cell_type": "code",
      "source": [
        "2147483600L + 99L\n",
        "\n",
        "2147483600L + 99\n",
        "\n",
        "2147483600L * 2147483600L\n",
        "\n",
        "2147483600L * 2147483600"
      ],
      "metadata": {
        "colab": {
          "base_uri": "https://localhost:8080/",
          "height": 156
        },
        "id": "Ss7c47VUCh2k",
        "outputId": "46fb4d8d-36b0-4ad6-a2f9-494502f88b5f"
      },
      "execution_count": 71,
      "outputs": [
        {
          "output_type": "stream",
          "name": "stderr",
          "text": [
            "Warning message in 2147483600L + 99L:\n",
            "“NAs produced by integer overflow”\n"
          ]
        },
        {
          "output_type": "display_data",
          "data": {
            "text/html": [
              "&lt;NA&gt;"
            ],
            "text/markdown": "&lt;NA&gt;",
            "text/latex": "<NA>",
            "text/plain": [
              "[1] NA"
            ]
          },
          "metadata": {}
        },
        {
          "output_type": "display_data",
          "data": {
            "text/html": [
              "2147483699"
            ],
            "text/markdown": "2147483699",
            "text/latex": "2147483699",
            "text/plain": [
              "[1] 2147483699"
            ]
          },
          "metadata": {}
        },
        {
          "output_type": "stream",
          "name": "stderr",
          "text": [
            "Warning message in 2147483600L * 2147483600L:\n",
            "“NAs produced by integer overflow”\n"
          ]
        },
        {
          "output_type": "display_data",
          "data": {
            "text/html": [
              "&lt;NA&gt;"
            ],
            "text/markdown": "&lt;NA&gt;",
            "text/latex": "<NA>",
            "text/plain": [
              "[1] NA"
            ]
          },
          "metadata": {}
        },
        {
          "output_type": "display_data",
          "data": {
            "text/html": [
              "4611685812268959744"
            ],
            "text/markdown": "4611685812268959744",
            "text/latex": "4611685812268959744",
            "text/plain": [
              "[1] 4.611686e+18"
            ]
          },
          "metadata": {}
        }
      ]
    },
    {
      "cell_type": "code",
      "source": [
        "2147483600L * 2147483600L\n",
        "\n",
        "2147483600L^2L"
      ],
      "metadata": {
        "colab": {
          "base_uri": "https://localhost:8080/",
          "height": 86
        },
        "id": "xPLeQxmyC-pW",
        "outputId": "d5f585f4-b6b5-4eeb-ac52-eb1c9db6e1ba"
      },
      "execution_count": 74,
      "outputs": [
        {
          "output_type": "stream",
          "name": "stderr",
          "text": [
            "Warning message in 2147483600L * 2147483600L:\n",
            "“NAs produced by integer overflow”\n"
          ]
        },
        {
          "output_type": "display_data",
          "data": {
            "text/html": [
              "&lt;NA&gt;"
            ],
            "text/markdown": "&lt;NA&gt;",
            "text/latex": "<NA>",
            "text/plain": [
              "[1] NA"
            ]
          },
          "metadata": {}
        },
        {
          "output_type": "display_data",
          "data": {
            "text/html": [
              "4611685812268959744"
            ],
            "text/markdown": "4611685812268959744",
            "text/latex": "4611685812268959744",
            "text/plain": [
              "[1] 4.611686e+18"
            ]
          },
          "metadata": {}
        }
      ]
    },
    {
      "cell_type": "code",
      "source": [
        "a == 0.0 # Puede que no siempre funcione\n",
        "\n",
        "abs(a) < 1e-15 # es mas segura"
      ],
      "metadata": {
        "id": "uSG7m4znDGSY"
      },
      "execution_count": null,
      "outputs": []
    },
    {
      "cell_type": "code",
      "source": [
        "sin(pi) == 0.0 # Ángulo en radianes, no en grados\n",
        "\n",
        "sin(2 * pi) == 0.0\n",
        "\n",
        "abs(sin(pi)) < 1e-15\n",
        "\n",
        "abs(sin(2 * pi)) < 1e-15\n",
        "\n",
        "sin(pi)\n",
        "\n",
        "sin(2 * pi)"
      ],
      "metadata": {
        "colab": {
          "base_uri": "https://localhost:8080/",
          "height": 121
        },
        "id": "XBMUhYTwDLeJ",
        "outputId": "cd952fdc-7ab4-42be-dceb-bad15fbe8232"
      },
      "execution_count": 75,
      "outputs": [
        {
          "output_type": "display_data",
          "data": {
            "text/html": [
              "FALSE"
            ],
            "text/markdown": "FALSE",
            "text/latex": "FALSE",
            "text/plain": [
              "[1] FALSE"
            ]
          },
          "metadata": {}
        },
        {
          "output_type": "display_data",
          "data": {
            "text/html": [
              "FALSE"
            ],
            "text/markdown": "FALSE",
            "text/latex": "FALSE",
            "text/plain": [
              "[1] FALSE"
            ]
          },
          "metadata": {}
        },
        {
          "output_type": "display_data",
          "data": {
            "text/html": [
              "TRUE"
            ],
            "text/markdown": "TRUE",
            "text/latex": "TRUE",
            "text/plain": [
              "[1] TRUE"
            ]
          },
          "metadata": {}
        },
        {
          "output_type": "display_data",
          "data": {
            "text/html": [
              "TRUE"
            ],
            "text/markdown": "TRUE",
            "text/latex": "TRUE",
            "text/plain": [
              "[1] TRUE"
            ]
          },
          "metadata": {}
        },
        {
          "output_type": "display_data",
          "data": {
            "text/html": [
              "1.22464679914735e-16"
            ],
            "text/markdown": "1.22464679914735e-16",
            "text/latex": "1.22464679914735e-16",
            "text/plain": [
              "[1] 1.224647e-16"
            ]
          },
          "metadata": {}
        },
        {
          "output_type": "display_data",
          "data": {
            "text/html": [
              "-2.44929359829471e-16"
            ],
            "text/markdown": "-2.44929359829471e-16",
            "text/latex": "-2.44929359829471e-16",
            "text/plain": [
              "[1] -2.449294e-16"
            ]
          },
          "metadata": {}
        }
      ]
    },
    {
      "cell_type": "markdown",
      "source": [
        "Conjuntos y operaciones de conjuntos"
      ],
      "metadata": {
        "id": "-TPEkk8xDQR2"
      }
    },
    {
      "cell_type": "code",
      "source": [
        "fruits <- c(\"apple\", \"pear\", \"orange\", \"lemon\", \"tangerine\")\n",
        "bakery <- c(\"bread\", \"buns\", \"cake\", \"cookies\")\n",
        "dairy <- c(\"milk\", \"butter\", \"cheese\")\n",
        "shopping <- c(\"bread\", \"butter\", \"apple\", \"cheese\", \"orange\")\n",
        "intersect(fruits, shopping)\n",
        "\n",
        "intersect(bakery, shopping)"
      ],
      "metadata": {
        "colab": {
          "base_uri": "https://localhost:8080/",
          "height": 52
        },
        "id": "OfpRJ6waDVUo",
        "outputId": "02ce221a-e39f-4ab9-c2e7-644870a629d4"
      },
      "execution_count": 76,
      "outputs": [
        {
          "output_type": "display_data",
          "data": {
            "text/html": [
              "<style>\n",
              ".list-inline {list-style: none; margin:0; padding: 0}\n",
              ".list-inline>li {display: inline-block}\n",
              ".list-inline>li:not(:last-child)::after {content: \"\\00b7\"; padding: 0 .5ex}\n",
              "</style>\n",
              "<ol class=list-inline><li>'apple'</li><li>'orange'</li></ol>\n"
            ],
            "text/markdown": "1. 'apple'\n2. 'orange'\n\n\n",
            "text/latex": "\\begin{enumerate*}\n\\item 'apple'\n\\item 'orange'\n\\end{enumerate*}\n",
            "text/plain": [
              "[1] \"apple\"  \"orange\""
            ]
          },
          "metadata": {}
        },
        {
          "output_type": "display_data",
          "data": {
            "text/html": [
              "'bread'"
            ],
            "text/markdown": "'bread'",
            "text/latex": "'bread'",
            "text/plain": [
              "[1] \"bread\""
            ]
          },
          "metadata": {}
        }
      ]
    },
    {
      "cell_type": "code",
      "source": [
        "intersect(dairy, shopping)\n",
        "\n",
        "\"lemon\" %in% dairy\n",
        "\n",
        "\"lemon\" %in% fruits\n",
        "\n",
        "setdiff(union(bakery, dairy), shopping)"
      ],
      "metadata": {
        "colab": {
          "base_uri": "https://localhost:8080/",
          "height": 86
        },
        "id": "tqcQ74EmDaBt",
        "outputId": "1d0ce9ba-51c4-44fe-b31d-35a1a5b349d0"
      },
      "execution_count": 77,
      "outputs": [
        {
          "output_type": "display_data",
          "data": {
            "text/html": [
              "<style>\n",
              ".list-inline {list-style: none; margin:0; padding: 0}\n",
              ".list-inline>li {display: inline-block}\n",
              ".list-inline>li:not(:last-child)::after {content: \"\\00b7\"; padding: 0 .5ex}\n",
              "</style>\n",
              "<ol class=list-inline><li>'butter'</li><li>'cheese'</li></ol>\n"
            ],
            "text/markdown": "1. 'butter'\n2. 'cheese'\n\n\n",
            "text/latex": "\\begin{enumerate*}\n\\item 'butter'\n\\item 'cheese'\n\\end{enumerate*}\n",
            "text/plain": [
              "[1] \"butter\" \"cheese\""
            ]
          },
          "metadata": {}
        },
        {
          "output_type": "display_data",
          "data": {
            "text/html": [
              "FALSE"
            ],
            "text/markdown": "FALSE",
            "text/latex": "FALSE",
            "text/plain": [
              "[1] FALSE"
            ]
          },
          "metadata": {}
        },
        {
          "output_type": "display_data",
          "data": {
            "text/html": [
              "TRUE"
            ],
            "text/markdown": "TRUE",
            "text/latex": "TRUE",
            "text/plain": [
              "[1] TRUE"
            ]
          },
          "metadata": {}
        },
        {
          "output_type": "display_data",
          "data": {
            "text/html": [
              "<style>\n",
              ".list-inline {list-style: none; margin:0; padding: 0}\n",
              ".list-inline>li {display: inline-block}\n",
              ".list-inline>li:not(:last-child)::after {content: \"\\00b7\"; padding: 0 .5ex}\n",
              "</style>\n",
              "<ol class=list-inline><li>'buns'</li><li>'cake'</li><li>'cookies'</li><li>'milk'</li></ol>\n"
            ],
            "text/markdown": "1. 'buns'\n2. 'cake'\n3. 'cookies'\n4. 'milk'\n\n\n",
            "text/latex": "\\begin{enumerate*}\n\\item 'buns'\n\\item 'cake'\n\\item 'cookies'\n\\item 'milk'\n\\end{enumerate*}\n",
            "text/plain": [
              "[1] \"buns\"    \"cake\"    \"cookies\" \"milk\"   "
            ]
          },
          "metadata": {}
        }
      ]
    },
    {
      "cell_type": "code",
      "source": [
        "my.set <- c(\"a\", \"b\", \"c\", \"b\")"
      ],
      "metadata": {
        "id": "LpVT1al_Ddt5"
      },
      "execution_count": 78,
      "outputs": []
    },
    {
      "cell_type": "code",
      "source": [
        "\"a\" %in% my.set\n",
        "\n",
        "c(\"a\", \"a\", \"z\") %in% my.set"
      ],
      "metadata": {
        "colab": {
          "base_uri": "https://localhost:8080/",
          "height": 52
        },
        "id": "rA8sFLc-DgD-",
        "outputId": "d2c57f55-4a8e-49c5-8f1d-f44aced88e2b"
      },
      "execution_count": 79,
      "outputs": [
        {
          "output_type": "display_data",
          "data": {
            "text/html": [
              "TRUE"
            ],
            "text/markdown": "TRUE",
            "text/latex": "TRUE",
            "text/plain": [
              "[1] TRUE"
            ]
          },
          "metadata": {}
        },
        {
          "output_type": "display_data",
          "data": {
            "text/html": [
              "<style>\n",
              ".list-inline {list-style: none; margin:0; padding: 0}\n",
              ".list-inline>li {display: inline-block}\n",
              ".list-inline>li:not(:last-child)::after {content: \"\\00b7\"; padding: 0 .5ex}\n",
              "</style>\n",
              "<ol class=list-inline><li>TRUE</li><li>TRUE</li><li>FALSE</li></ol>\n"
            ],
            "text/markdown": "1. TRUE\n2. TRUE\n3. FALSE\n\n\n",
            "text/latex": "\\begin{enumerate*}\n\\item TRUE\n\\item TRUE\n\\item FALSE\n\\end{enumerate*}\n",
            "text/plain": [
              "[1]  TRUE  TRUE FALSE"
            ]
          },
          "metadata": {}
        }
      ]
    },
    {
      "cell_type": "code",
      "source": [
        "!\"a\" %in% my.set\n",
        "\n",
        "!c(\"a\", \"a\", \"z\") %in% my.set"
      ],
      "metadata": {
        "colab": {
          "base_uri": "https://localhost:8080/",
          "height": 52
        },
        "id": "NCY4gra9DisL",
        "outputId": "cdb93d75-7a5c-4c06-ce56-686c8957eee9"
      },
      "execution_count": 80,
      "outputs": [
        {
          "output_type": "display_data",
          "data": {
            "text/html": [
              "FALSE"
            ],
            "text/markdown": "FALSE",
            "text/latex": "FALSE",
            "text/plain": [
              "[1] FALSE"
            ]
          },
          "metadata": {}
        },
        {
          "output_type": "display_data",
          "data": {
            "text/html": [
              "<style>\n",
              ".list-inline {list-style: none; margin:0; padding: 0}\n",
              ".list-inline>li {display: inline-block}\n",
              ".list-inline>li:not(:last-child)::after {content: \"\\00b7\"; padding: 0 .5ex}\n",
              "</style>\n",
              "<ol class=list-inline><li>FALSE</li><li>FALSE</li><li>TRUE</li></ol>\n"
            ],
            "text/markdown": "1. FALSE\n2. FALSE\n3. TRUE\n\n\n",
            "text/latex": "\\begin{enumerate*}\n\\item FALSE\n\\item FALSE\n\\item TRUE\n\\end{enumerate*}\n",
            "text/plain": [
              "[1] FALSE FALSE  TRUE"
            ]
          },
          "metadata": {}
        }
      ]
    },
    {
      "cell_type": "code",
      "source": [
        "unique(my.set)\n",
        "\n",
        "c(\"a\", \"a\", \"z\") %in% unique(my.set)"
      ],
      "metadata": {
        "colab": {
          "base_uri": "https://localhost:8080/",
          "height": 52
        },
        "id": "Gcgaoia0Dpr1",
        "outputId": "92147fae-bc23-4a27-c7bf-1299179f59db"
      },
      "execution_count": 81,
      "outputs": [
        {
          "output_type": "display_data",
          "data": {
            "text/html": [
              "<style>\n",
              ".list-inline {list-style: none; margin:0; padding: 0}\n",
              ".list-inline>li {display: inline-block}\n",
              ".list-inline>li:not(:last-child)::after {content: \"\\00b7\"; padding: 0 .5ex}\n",
              "</style>\n",
              "<ol class=list-inline><li>'a'</li><li>'b'</li><li>'c'</li></ol>\n"
            ],
            "text/markdown": "1. 'a'\n2. 'b'\n3. 'c'\n\n\n",
            "text/latex": "\\begin{enumerate*}\n\\item 'a'\n\\item 'b'\n\\item 'c'\n\\end{enumerate*}\n",
            "text/plain": [
              "[1] \"a\" \"b\" \"c\""
            ]
          },
          "metadata": {}
        },
        {
          "output_type": "display_data",
          "data": {
            "text/html": [
              "<style>\n",
              ".list-inline {list-style: none; margin:0; padding: 0}\n",
              ".list-inline>li {display: inline-block}\n",
              ".list-inline>li:not(:last-child)::after {content: \"\\00b7\"; padding: 0 .5ex}\n",
              "</style>\n",
              "<ol class=list-inline><li>TRUE</li><li>TRUE</li><li>FALSE</li></ol>\n"
            ],
            "text/markdown": "1. TRUE\n2. TRUE\n3. FALSE\n\n\n",
            "text/latex": "\\begin{enumerate*}\n\\item TRUE\n\\item TRUE\n\\item FALSE\n\\end{enumerate*}\n",
            "text/plain": [
              "[1]  TRUE  TRUE FALSE"
            ]
          },
          "metadata": {}
        }
      ]
    },
    {
      "cell_type": "code",
      "source": [
        "union(c(\"a\", \"a\", \"z\"), my.set)"
      ],
      "metadata": {
        "colab": {
          "base_uri": "https://localhost:8080/",
          "height": 34
        },
        "id": "r9TwWjY4DrxJ",
        "outputId": "d12aea39-3a59-47b4-b413-d79e3898ac83"
      },
      "execution_count": 82,
      "outputs": [
        {
          "output_type": "display_data",
          "data": {
            "text/html": [
              "<style>\n",
              ".list-inline {list-style: none; margin:0; padding: 0}\n",
              ".list-inline>li {display: inline-block}\n",
              ".list-inline>li:not(:last-child)::after {content: \"\\00b7\"; padding: 0 .5ex}\n",
              "</style>\n",
              "<ol class=list-inline><li>'a'</li><li>'z'</li><li>'b'</li><li>'c'</li></ol>\n"
            ],
            "text/markdown": "1. 'a'\n2. 'z'\n3. 'b'\n4. 'c'\n\n\n",
            "text/latex": "\\begin{enumerate*}\n\\item 'a'\n\\item 'z'\n\\item 'b'\n\\item 'c'\n\\end{enumerate*}\n",
            "text/plain": [
              "[1] \"a\" \"z\" \"b\" \"c\""
            ]
          },
          "metadata": {}
        }
      ]
    },
    {
      "cell_type": "code",
      "source": [
        "intersect(c(\"a\", \"a\", \"z\"), my.set)"
      ],
      "metadata": {
        "colab": {
          "base_uri": "https://localhost:8080/",
          "height": 34
        },
        "id": "mGzz3Gm8Dyrs",
        "outputId": "17cf274b-8f4b-4906-950d-f7da3a5e0389"
      },
      "execution_count": 83,
      "outputs": [
        {
          "output_type": "display_data",
          "data": {
            "text/html": [
              "'a'"
            ],
            "text/markdown": "'a'",
            "text/latex": "'a'",
            "text/plain": [
              "[1] \"a\""
            ]
          },
          "metadata": {}
        }
      ]
    },
    {
      "cell_type": "markdown",
      "source": [
        "Valores de caracteres"
      ],
      "metadata": {
        "id": "VewjfCQ4EMnT"
      }
    },
    {
      "cell_type": "code",
      "source": [
        "a <- \"A\"\n",
        "a\n",
        "b <- 'A'\n",
        "b\n",
        "\n",
        "a == b"
      ],
      "metadata": {
        "colab": {
          "base_uri": "https://localhost:8080/",
          "height": 69
        },
        "id": "hadjQEHTESE4",
        "outputId": "a98ae674-50a3-47d5-8338-9537e3488cfb"
      },
      "execution_count": 86,
      "outputs": [
        {
          "output_type": "display_data",
          "data": {
            "text/html": [
              "'A'"
            ],
            "text/markdown": "'A'",
            "text/latex": "'A'",
            "text/plain": [
              "[1] \"A\""
            ]
          },
          "metadata": {}
        },
        {
          "output_type": "display_data",
          "data": {
            "text/html": [
              "'A'"
            ],
            "text/markdown": "'A'",
            "text/latex": "'A'",
            "text/plain": [
              "[1] \"A\""
            ]
          },
          "metadata": {}
        },
        {
          "output_type": "display_data",
          "data": {
            "text/html": [
              "TRUE"
            ],
            "text/markdown": "TRUE",
            "text/latex": "TRUE",
            "text/plain": [
              "[1] TRUE"
            ]
          },
          "metadata": {}
        }
      ]
    },
    {
      "cell_type": "code",
      "source": [
        "a <- 'A'\n",
        "b <- \"bcdefg\"\n",
        "c <- \"123\"\n",
        "d <- c(a, b, c)\n",
        "d"
      ],
      "metadata": {
        "colab": {
          "base_uri": "https://localhost:8080/",
          "height": 34
        },
        "id": "7ZrlwJSzEXV6",
        "outputId": "2b0388d5-c0c4-4250-b809-aeef3e7fb991"
      },
      "execution_count": 87,
      "outputs": [
        {
          "output_type": "display_data",
          "data": {
            "text/html": [
              "<style>\n",
              ".list-inline {list-style: none; margin:0; padding: 0}\n",
              ".list-inline>li {display: inline-block}\n",
              ".list-inline>li:not(:last-child)::after {content: \"\\00b7\"; padding: 0 .5ex}\n",
              "</style>\n",
              "<ol class=list-inline><li>'A'</li><li>'bcdefg'</li><li>'123'</li></ol>\n"
            ],
            "text/markdown": "1. 'A'\n2. 'bcdefg'\n3. '123'\n\n\n",
            "text/latex": "\\begin{enumerate*}\n\\item 'A'\n\\item 'bcdefg'\n\\item '123'\n\\end{enumerate*}\n",
            "text/plain": [
              "[1] \"A\"      \"bcdefg\" \"123\"   "
            ]
          },
          "metadata": {}
        }
      ]
    },
    {
      "cell_type": "code",
      "source": [
        "a <- \"He said 'hello' when he came in\"\n",
        "a\n",
        "\n",
        "b <- 'He said \"hello\" when he came in'\n",
        "b"
      ],
      "metadata": {
        "colab": {
          "base_uri": "https://localhost:8080/",
          "height": 52
        },
        "id": "kRVgYpU7EaVy",
        "outputId": "694f2e0e-6013-4f24-8313-2159f5e7fe48"
      },
      "execution_count": 88,
      "outputs": [
        {
          "output_type": "display_data",
          "data": {
            "text/html": [
              "'He said \\'hello\\' when he came in'"
            ],
            "text/markdown": "'He said \\'hello\\' when he came in'",
            "text/latex": "'He said \\textbackslash{}'hello\\textbackslash{}' when he came in'",
            "text/plain": [
              "[1] \"He said 'hello' when he came in\""
            ]
          },
          "metadata": {}
        },
        {
          "output_type": "display_data",
          "data": {
            "text/html": [
              "'He said \"hello\" when he came in'"
            ],
            "text/markdown": "'He said \"hello\" when he came in'",
            "text/latex": "'He said \"hello\" when he came in'",
            "text/plain": [
              "[1] \"He said \\\"hello\\\" when he came in\""
            ]
          },
          "metadata": {}
        }
      ]
    },
    {
      "cell_type": "code",
      "source": [
        "c <- \"abc\\ndef\\tx\\\"yz\\\"\\\\\\tm\"\n",
        "print(c)\n",
        "\n",
        "cat(c)"
      ],
      "metadata": {
        "colab": {
          "base_uri": "https://localhost:8080/"
        },
        "id": "JEvPa5opEdlr",
        "outputId": "b0be4869-bd5d-407a-dc8e-aa8b7c538708"
      },
      "execution_count": 89,
      "outputs": [
        {
          "output_type": "stream",
          "name": "stdout",
          "text": [
            "[1] \"abc\\ndef\\tx\\\"yz\\\"\\\\\\tm\"\n",
            "abc\n",
            "def\tx\"yz\"\\\tm"
          ]
        }
      ]
    },
    {
      "cell_type": "code",
      "source": [
        "my_var <- 1:5\n",
        "mode(my_var) # sin distinción de número entero o doble\n",
        "\n",
        "typeof(my_var)\n",
        "\n",
        "is.numeric(my_var) # sin distinción de número entero o doble\n",
        "\n",
        "is.double(my_var)\n",
        "\n",
        "is.integer(my_var)\n",
        "\n",
        "is.logical(my_var)\n",
        "\n",
        "is.character(my_var)\n",
        "\n",
        "my_var <- \"abc\"\n",
        "mode(my_var)"
      ],
      "metadata": {
        "colab": {
          "base_uri": "https://localhost:8080/",
          "height": 156
        },
        "id": "M36ejfviEh5e",
        "outputId": "8e7ab646-a16b-476f-d4db-4bddf279d767"
      },
      "execution_count": 90,
      "outputs": [
        {
          "output_type": "display_data",
          "data": {
            "text/html": [
              "'numeric'"
            ],
            "text/markdown": "'numeric'",
            "text/latex": "'numeric'",
            "text/plain": [
              "[1] \"numeric\""
            ]
          },
          "metadata": {}
        },
        {
          "output_type": "display_data",
          "data": {
            "text/html": [
              "'integer'"
            ],
            "text/markdown": "'integer'",
            "text/latex": "'integer'",
            "text/plain": [
              "[1] \"integer\""
            ]
          },
          "metadata": {}
        },
        {
          "output_type": "display_data",
          "data": {
            "text/html": [
              "TRUE"
            ],
            "text/markdown": "TRUE",
            "text/latex": "TRUE",
            "text/plain": [
              "[1] TRUE"
            ]
          },
          "metadata": {}
        },
        {
          "output_type": "display_data",
          "data": {
            "text/html": [
              "FALSE"
            ],
            "text/markdown": "FALSE",
            "text/latex": "FALSE",
            "text/plain": [
              "[1] FALSE"
            ]
          },
          "metadata": {}
        },
        {
          "output_type": "display_data",
          "data": {
            "text/html": [
              "TRUE"
            ],
            "text/markdown": "TRUE",
            "text/latex": "TRUE",
            "text/plain": [
              "[1] TRUE"
            ]
          },
          "metadata": {}
        },
        {
          "output_type": "display_data",
          "data": {
            "text/html": [
              "FALSE"
            ],
            "text/markdown": "FALSE",
            "text/latex": "FALSE",
            "text/plain": [
              "[1] FALSE"
            ]
          },
          "metadata": {}
        },
        {
          "output_type": "display_data",
          "data": {
            "text/html": [
              "FALSE"
            ],
            "text/markdown": "FALSE",
            "text/latex": "FALSE",
            "text/plain": [
              "[1] FALSE"
            ]
          },
          "metadata": {}
        },
        {
          "output_type": "display_data",
          "data": {
            "text/html": [
              "'character'"
            ],
            "text/markdown": "'character'",
            "text/latex": "'character'",
            "text/plain": [
              "[1] \"character\""
            ]
          },
          "metadata": {}
        }
      ]
    },
    {
      "cell_type": "code",
      "source": [
        "class(my_var)\n",
        "\n",
        "inherits(my_var, \"character\")\n",
        "\n",
        "inherits(my_var, \"numeric\")"
      ],
      "metadata": {
        "colab": {
          "base_uri": "https://localhost:8080/",
          "height": 69
        },
        "id": "YVFplcuCEqzf",
        "outputId": "251363c1-cc67-4b7b-ef9b-ce683fd131dd"
      },
      "execution_count": 91,
      "outputs": [
        {
          "output_type": "display_data",
          "data": {
            "text/html": [
              "'character'"
            ],
            "text/markdown": "'character'",
            "text/latex": "'character'",
            "text/plain": [
              "[1] \"character\""
            ]
          },
          "metadata": {}
        },
        {
          "output_type": "display_data",
          "data": {
            "text/html": [
              "TRUE"
            ],
            "text/markdown": "TRUE",
            "text/latex": "TRUE",
            "text/plain": [
              "[1] TRUE"
            ]
          },
          "metadata": {}
        },
        {
          "output_type": "display_data",
          "data": {
            "text/html": [
              "FALSE"
            ],
            "text/markdown": "FALSE",
            "text/latex": "FALSE",
            "text/plain": [
              "[1] FALSE"
            ]
          },
          "metadata": {}
        }
      ]
    },
    {
      "cell_type": "markdown",
      "source": [
        "Conversiones de 'tipo'"
      ],
      "metadata": {
        "id": "hW4eOteUEvsO"
      }
    },
    {
      "cell_type": "code",
      "source": [
        "as.character(1)\n",
        "\n",
        "as.numeric(\"1\")\n",
        "\n",
        "as.logical(\"TRUE\")\n",
        "\n",
        "as.logical(\"NA\")"
      ],
      "metadata": {
        "id": "Aq-XqF8ZExO7"
      },
      "execution_count": null,
      "outputs": []
    },
    {
      "cell_type": "code",
      "source": [
        "TRUE + 10\n",
        "\n",
        "1 || 0\n",
        "\n",
        "FALSE | -2:2"
      ],
      "metadata": {
        "colab": {
          "base_uri": "https://localhost:8080/",
          "height": 69
        },
        "id": "5BzFXxh8E2VY",
        "outputId": "ef73252e-a0fa-4b01-dafe-f4f69f37cc93"
      },
      "execution_count": 92,
      "outputs": [
        {
          "output_type": "display_data",
          "data": {
            "text/html": [
              "11"
            ],
            "text/markdown": "11",
            "text/latex": "11",
            "text/plain": [
              "[1] 11"
            ]
          },
          "metadata": {}
        },
        {
          "output_type": "display_data",
          "data": {
            "text/html": [
              "TRUE"
            ],
            "text/markdown": "TRUE",
            "text/latex": "TRUE",
            "text/plain": [
              "[1] TRUE"
            ]
          },
          "metadata": {}
        },
        {
          "output_type": "display_data",
          "data": {
            "text/html": [
              "<style>\n",
              ".list-inline {list-style: none; margin:0; padding: 0}\n",
              ".list-inline>li {display: inline-block}\n",
              ".list-inline>li:not(:last-child)::after {content: \"\\00b7\"; padding: 0 .5ex}\n",
              "</style>\n",
              "<ol class=list-inline><li>TRUE</li><li>TRUE</li><li>FALSE</li><li>TRUE</li><li>TRUE</li></ol>\n"
            ],
            "text/markdown": "1. TRUE\n2. TRUE\n3. FALSE\n4. TRUE\n5. TRUE\n\n\n",
            "text/latex": "\\begin{enumerate*}\n\\item TRUE\n\\item TRUE\n\\item FALSE\n\\item TRUE\n\\item TRUE\n\\end{enumerate*}\n",
            "text/plain": [
              "[1]  TRUE  TRUE FALSE  TRUE  TRUE"
            ]
          },
          "metadata": {}
        }
      ]
    },
    {
      "cell_type": "code",
      "source": [
        "x = c(123.4567890, 1.0)\n",
        "format(x) # usando valores predeterminados\n",
        "\n",
        "format(x[1]) # usando valores predeterminados\n",
        "\n",
        "format(x[2]) # usando valores predeterminados\n",
        "\n",
        "format(x, digits = 3, nsmall = 1)\n",
        "\n",
        "format(x[1], digits = 3, nsmall = 1)\n",
        "\n",
        "format(x[2], digits = 3, nsmall = 1)\n",
        "\n",
        "format(x, digits = 3, scientific = TRUE)"
      ],
      "metadata": {
        "colab": {
          "base_uri": "https://localhost:8080/",
          "height": 138
        },
        "id": "fbQNbRTCFCzd",
        "outputId": "148534c7-5fee-4128-ac1c-4b0f3b649724"
      },
      "execution_count": 93,
      "outputs": [
        {
          "output_type": "display_data",
          "data": {
            "text/html": [
              "<style>\n",
              ".list-inline {list-style: none; margin:0; padding: 0}\n",
              ".list-inline>li {display: inline-block}\n",
              ".list-inline>li:not(:last-child)::after {content: \"\\00b7\"; padding: 0 .5ex}\n",
              "</style>\n",
              "<ol class=list-inline><li>'123.4568'</li><li><span style=white-space:pre-wrap>'  1.0000'</span></li></ol>\n"
            ],
            "text/markdown": "1. '123.4568'\n2. <span style=white-space:pre-wrap>'  1.0000'</span>\n\n\n",
            "text/latex": "\\begin{enumerate*}\n\\item '123.4568'\n\\item '  1.0000'\n\\end{enumerate*}\n",
            "text/plain": [
              "[1] \"123.4568\" \"  1.0000\""
            ]
          },
          "metadata": {}
        },
        {
          "output_type": "display_data",
          "data": {
            "text/html": [
              "'123.4568'"
            ],
            "text/markdown": "'123.4568'",
            "text/latex": "'123.4568'",
            "text/plain": [
              "[1] \"123.4568\""
            ]
          },
          "metadata": {}
        },
        {
          "output_type": "display_data",
          "data": {
            "text/html": [
              "'1'"
            ],
            "text/markdown": "'1'",
            "text/latex": "'1'",
            "text/plain": [
              "[1] \"1\""
            ]
          },
          "metadata": {}
        },
        {
          "output_type": "display_data",
          "data": {
            "text/html": [
              "<style>\n",
              ".list-inline {list-style: none; margin:0; padding: 0}\n",
              ".list-inline>li {display: inline-block}\n",
              ".list-inline>li:not(:last-child)::after {content: \"\\00b7\"; padding: 0 .5ex}\n",
              "</style>\n",
              "<ol class=list-inline><li>'123.5'</li><li><span style=white-space:pre-wrap>'  1.0'</span></li></ol>\n"
            ],
            "text/markdown": "1. '123.5'\n2. <span style=white-space:pre-wrap>'  1.0'</span>\n\n\n",
            "text/latex": "\\begin{enumerate*}\n\\item '123.5'\n\\item '  1.0'\n\\end{enumerate*}\n",
            "text/plain": [
              "[1] \"123.5\" \"  1.0\""
            ]
          },
          "metadata": {}
        },
        {
          "output_type": "display_data",
          "data": {
            "text/html": [
              "'123.5'"
            ],
            "text/markdown": "'123.5'",
            "text/latex": "'123.5'",
            "text/plain": [
              "[1] \"123.5\""
            ]
          },
          "metadata": {}
        },
        {
          "output_type": "display_data",
          "data": {
            "text/html": [
              "'1.0'"
            ],
            "text/markdown": "'1.0'",
            "text/latex": "'1.0'",
            "text/plain": [
              "[1] \"1.0\""
            ]
          },
          "metadata": {}
        },
        {
          "output_type": "display_data",
          "data": {
            "text/html": [
              "<style>\n",
              ".list-inline {list-style: none; margin:0; padding: 0}\n",
              ".list-inline>li {display: inline-block}\n",
              ".list-inline>li:not(:last-child)::after {content: \"\\00b7\"; padding: 0 .5ex}\n",
              "</style>\n",
              "<ol class=list-inline><li>'1.23e+02'</li><li>'1.00e+00'</li></ol>\n"
            ],
            "text/markdown": "1. '1.23e+02'\n2. '1.00e+00'\n\n\n",
            "text/latex": "\\begin{enumerate*}\n\\item '1.23e+02'\n\\item '1.00e+00'\n\\end{enumerate*}\n",
            "text/plain": [
              "[1] \"1.23e+02\" \"1.00e+00\""
            ]
          },
          "metadata": {}
        }
      ]
    },
    {
      "cell_type": "markdown",
      "source": [
        "Manipulación de vectores"
      ],
      "metadata": {
        "id": "KVteOPMmFLPf"
      }
    },
    {
      "cell_type": "code",
      "source": [
        "a <- letters[1:10]\n",
        "a\n",
        "\n",
        "a[2]"
      ],
      "metadata": {
        "colab": {
          "base_uri": "https://localhost:8080/",
          "height": 52
        },
        "id": "Ht_gd7rAFMiV",
        "outputId": "4aef3075-48e9-42b2-c24f-09ad632b5a68"
      },
      "execution_count": 94,
      "outputs": [
        {
          "output_type": "display_data",
          "data": {
            "text/html": [
              "<style>\n",
              ".list-inline {list-style: none; margin:0; padding: 0}\n",
              ".list-inline>li {display: inline-block}\n",
              ".list-inline>li:not(:last-child)::after {content: \"\\00b7\"; padding: 0 .5ex}\n",
              "</style>\n",
              "<ol class=list-inline><li>'a'</li><li>'b'</li><li>'c'</li><li>'d'</li><li>'e'</li><li>'f'</li><li>'g'</li><li>'h'</li><li>'i'</li><li>'j'</li></ol>\n"
            ],
            "text/markdown": "1. 'a'\n2. 'b'\n3. 'c'\n4. 'd'\n5. 'e'\n6. 'f'\n7. 'g'\n8. 'h'\n9. 'i'\n10. 'j'\n\n\n",
            "text/latex": "\\begin{enumerate*}\n\\item 'a'\n\\item 'b'\n\\item 'c'\n\\item 'd'\n\\item 'e'\n\\item 'f'\n\\item 'g'\n\\item 'h'\n\\item 'i'\n\\item 'j'\n\\end{enumerate*}\n",
            "text/plain": [
              " [1] \"a\" \"b\" \"c\" \"d\" \"e\" \"f\" \"g\" \"h\" \"i\" \"j\""
            ]
          },
          "metadata": {}
        },
        {
          "output_type": "display_data",
          "data": {
            "text/html": [
              "'b'"
            ],
            "text/markdown": "'b'",
            "text/latex": "'b'",
            "text/plain": [
              "[1] \"b\""
            ]
          },
          "metadata": {}
        }
      ]
    },
    {
      "cell_type": "code",
      "source": [
        "a[c(3,2)]\n",
        "\n",
        "a[10:1]"
      ],
      "metadata": {
        "colab": {
          "base_uri": "https://localhost:8080/",
          "height": 52
        },
        "id": "70x3a1pMFSi1",
        "outputId": "b98aec3e-d789-41be-a9f1-56d60464eded"
      },
      "execution_count": 95,
      "outputs": [
        {
          "output_type": "display_data",
          "data": {
            "text/html": [
              "<style>\n",
              ".list-inline {list-style: none; margin:0; padding: 0}\n",
              ".list-inline>li {display: inline-block}\n",
              ".list-inline>li:not(:last-child)::after {content: \"\\00b7\"; padding: 0 .5ex}\n",
              "</style>\n",
              "<ol class=list-inline><li>'c'</li><li>'b'</li></ol>\n"
            ],
            "text/markdown": "1. 'c'\n2. 'b'\n\n\n",
            "text/latex": "\\begin{enumerate*}\n\\item 'c'\n\\item 'b'\n\\end{enumerate*}\n",
            "text/plain": [
              "[1] \"c\" \"b\""
            ]
          },
          "metadata": {}
        },
        {
          "output_type": "display_data",
          "data": {
            "text/html": [
              "<style>\n",
              ".list-inline {list-style: none; margin:0; padding: 0}\n",
              ".list-inline>li {display: inline-block}\n",
              ".list-inline>li:not(:last-child)::after {content: \"\\00b7\"; padding: 0 .5ex}\n",
              "</style>\n",
              "<ol class=list-inline><li>'j'</li><li>'i'</li><li>'h'</li><li>'g'</li><li>'f'</li><li>'e'</li><li>'d'</li><li>'c'</li><li>'b'</li><li>'a'</li></ol>\n"
            ],
            "text/markdown": "1. 'j'\n2. 'i'\n3. 'h'\n4. 'g'\n5. 'f'\n6. 'e'\n7. 'd'\n8. 'c'\n9. 'b'\n10. 'a'\n\n\n",
            "text/latex": "\\begin{enumerate*}\n\\item 'j'\n\\item 'i'\n\\item 'h'\n\\item 'g'\n\\item 'f'\n\\item 'e'\n\\item 'd'\n\\item 'c'\n\\item 'b'\n\\item 'a'\n\\end{enumerate*}\n",
            "text/plain": [
              " [1] \"j\" \"i\" \"h\" \"g\" \"f\" \"e\" \"d\" \"c\" \"b\" \"a\""
            ]
          },
          "metadata": {}
        }
      ]
    },
    {
      "cell_type": "code",
      "source": [
        "a[-2]\n",
        "\n",
        "a[-c(3,2)]\n",
        "\n",
        "a[-3:-2]"
      ],
      "metadata": {
        "colab": {
          "base_uri": "https://localhost:8080/",
          "height": 69
        },
        "id": "FRq_uKbjFVh5",
        "outputId": "566ac0a2-4a55-4e4c-a54f-4e5bd6069174"
      },
      "execution_count": 96,
      "outputs": [
        {
          "output_type": "display_data",
          "data": {
            "text/html": [
              "<style>\n",
              ".list-inline {list-style: none; margin:0; padding: 0}\n",
              ".list-inline>li {display: inline-block}\n",
              ".list-inline>li:not(:last-child)::after {content: \"\\00b7\"; padding: 0 .5ex}\n",
              "</style>\n",
              "<ol class=list-inline><li>'a'</li><li>'c'</li><li>'d'</li><li>'e'</li><li>'f'</li><li>'g'</li><li>'h'</li><li>'i'</li><li>'j'</li></ol>\n"
            ],
            "text/markdown": "1. 'a'\n2. 'c'\n3. 'd'\n4. 'e'\n5. 'f'\n6. 'g'\n7. 'h'\n8. 'i'\n9. 'j'\n\n\n",
            "text/latex": "\\begin{enumerate*}\n\\item 'a'\n\\item 'c'\n\\item 'd'\n\\item 'e'\n\\item 'f'\n\\item 'g'\n\\item 'h'\n\\item 'i'\n\\item 'j'\n\\end{enumerate*}\n",
            "text/plain": [
              "[1] \"a\" \"c\" \"d\" \"e\" \"f\" \"g\" \"h\" \"i\" \"j\""
            ]
          },
          "metadata": {}
        },
        {
          "output_type": "display_data",
          "data": {
            "text/html": [
              "<style>\n",
              ".list-inline {list-style: none; margin:0; padding: 0}\n",
              ".list-inline>li {display: inline-block}\n",
              ".list-inline>li:not(:last-child)::after {content: \"\\00b7\"; padding: 0 .5ex}\n",
              "</style>\n",
              "<ol class=list-inline><li>'a'</li><li>'d'</li><li>'e'</li><li>'f'</li><li>'g'</li><li>'h'</li><li>'i'</li><li>'j'</li></ol>\n"
            ],
            "text/markdown": "1. 'a'\n2. 'd'\n3. 'e'\n4. 'f'\n5. 'g'\n6. 'h'\n7. 'i'\n8. 'j'\n\n\n",
            "text/latex": "\\begin{enumerate*}\n\\item 'a'\n\\item 'd'\n\\item 'e'\n\\item 'f'\n\\item 'g'\n\\item 'h'\n\\item 'i'\n\\item 'j'\n\\end{enumerate*}\n",
            "text/plain": [
              "[1] \"a\" \"d\" \"e\" \"f\" \"g\" \"h\" \"i\" \"j\""
            ]
          },
          "metadata": {}
        },
        {
          "output_type": "display_data",
          "data": {
            "text/html": [
              "<style>\n",
              ".list-inline {list-style: none; margin:0; padding: 0}\n",
              ".list-inline>li {display: inline-block}\n",
              ".list-inline>li:not(:last-child)::after {content: \"\\00b7\"; padding: 0 .5ex}\n",
              "</style>\n",
              "<ol class=list-inline><li>'a'</li><li>'d'</li><li>'e'</li><li>'f'</li><li>'g'</li><li>'h'</li><li>'i'</li><li>'j'</li></ol>\n"
            ],
            "text/markdown": "1. 'a'\n2. 'd'\n3. 'e'\n4. 'f'\n5. 'g'\n6. 'h'\n7. 'i'\n8. 'j'\n\n\n",
            "text/latex": "\\begin{enumerate*}\n\\item 'a'\n\\item 'd'\n\\item 'e'\n\\item 'f'\n\\item 'g'\n\\item 'h'\n\\item 'i'\n\\item 'j'\n\\end{enumerate*}\n",
            "text/plain": [
              "[1] \"a\" \"d\" \"e\" \"f\" \"g\" \"h\" \"i\" \"j\""
            ]
          },
          "metadata": {}
        }
      ]
    },
    {
      "cell_type": "code",
      "source": [
        "a[TRUE]\n",
        "\n",
        "a[FALSE]\n",
        "\n",
        "a[c(TRUE, FALSE)]\n",
        "\n",
        "a[c(FALSE, TRUE)]\n",
        "\n",
        "a > \"c\"\n",
        "\n",
        "a[a > \"c\"]"
      ],
      "metadata": {
        "colab": {
          "base_uri": "https://localhost:8080/",
          "height": 104
        },
        "id": "OS9EbDKYFbzA",
        "outputId": "edeb9e97-bcb7-4184-f794-b44bd5d10f62"
      },
      "execution_count": 97,
      "outputs": [
        {
          "output_type": "display_data",
          "data": {
            "text/html": [
              "<style>\n",
              ".list-inline {list-style: none; margin:0; padding: 0}\n",
              ".list-inline>li {display: inline-block}\n",
              ".list-inline>li:not(:last-child)::after {content: \"\\00b7\"; padding: 0 .5ex}\n",
              "</style>\n",
              "<ol class=list-inline><li>'a'</li><li>'b'</li><li>'c'</li><li>'d'</li><li>'e'</li><li>'f'</li><li>'g'</li><li>'h'</li><li>'i'</li><li>'j'</li></ol>\n"
            ],
            "text/markdown": "1. 'a'\n2. 'b'\n3. 'c'\n4. 'd'\n5. 'e'\n6. 'f'\n7. 'g'\n8. 'h'\n9. 'i'\n10. 'j'\n\n\n",
            "text/latex": "\\begin{enumerate*}\n\\item 'a'\n\\item 'b'\n\\item 'c'\n\\item 'd'\n\\item 'e'\n\\item 'f'\n\\item 'g'\n\\item 'h'\n\\item 'i'\n\\item 'j'\n\\end{enumerate*}\n",
            "text/plain": [
              " [1] \"a\" \"b\" \"c\" \"d\" \"e\" \"f\" \"g\" \"h\" \"i\" \"j\""
            ]
          },
          "metadata": {}
        },
        {
          "output_type": "display_data",
          "data": {
            "text/html": [],
            "text/markdown": "",
            "text/latex": "",
            "text/plain": [
              "character(0)"
            ]
          },
          "metadata": {}
        },
        {
          "output_type": "display_data",
          "data": {
            "text/html": [
              "<style>\n",
              ".list-inline {list-style: none; margin:0; padding: 0}\n",
              ".list-inline>li {display: inline-block}\n",
              ".list-inline>li:not(:last-child)::after {content: \"\\00b7\"; padding: 0 .5ex}\n",
              "</style>\n",
              "<ol class=list-inline><li>'a'</li><li>'c'</li><li>'e'</li><li>'g'</li><li>'i'</li></ol>\n"
            ],
            "text/markdown": "1. 'a'\n2. 'c'\n3. 'e'\n4. 'g'\n5. 'i'\n\n\n",
            "text/latex": "\\begin{enumerate*}\n\\item 'a'\n\\item 'c'\n\\item 'e'\n\\item 'g'\n\\item 'i'\n\\end{enumerate*}\n",
            "text/plain": [
              "[1] \"a\" \"c\" \"e\" \"g\" \"i\""
            ]
          },
          "metadata": {}
        },
        {
          "output_type": "display_data",
          "data": {
            "text/html": [
              "<style>\n",
              ".list-inline {list-style: none; margin:0; padding: 0}\n",
              ".list-inline>li {display: inline-block}\n",
              ".list-inline>li:not(:last-child)::after {content: \"\\00b7\"; padding: 0 .5ex}\n",
              "</style>\n",
              "<ol class=list-inline><li>'b'</li><li>'d'</li><li>'f'</li><li>'h'</li><li>'j'</li></ol>\n"
            ],
            "text/markdown": "1. 'b'\n2. 'd'\n3. 'f'\n4. 'h'\n5. 'j'\n\n\n",
            "text/latex": "\\begin{enumerate*}\n\\item 'b'\n\\item 'd'\n\\item 'f'\n\\item 'h'\n\\item 'j'\n\\end{enumerate*}\n",
            "text/plain": [
              "[1] \"b\" \"d\" \"f\" \"h\" \"j\""
            ]
          },
          "metadata": {}
        },
        {
          "output_type": "display_data",
          "data": {
            "text/html": [
              "<style>\n",
              ".list-inline {list-style: none; margin:0; padding: 0}\n",
              ".list-inline>li {display: inline-block}\n",
              ".list-inline>li:not(:last-child)::after {content: \"\\00b7\"; padding: 0 .5ex}\n",
              "</style>\n",
              "<ol class=list-inline><li>FALSE</li><li>FALSE</li><li>FALSE</li><li>TRUE</li><li>TRUE</li><li>TRUE</li><li>TRUE</li><li>TRUE</li><li>TRUE</li><li>TRUE</li></ol>\n"
            ],
            "text/markdown": "1. FALSE\n2. FALSE\n3. FALSE\n4. TRUE\n5. TRUE\n6. TRUE\n7. TRUE\n8. TRUE\n9. TRUE\n10. TRUE\n\n\n",
            "text/latex": "\\begin{enumerate*}\n\\item FALSE\n\\item FALSE\n\\item FALSE\n\\item TRUE\n\\item TRUE\n\\item TRUE\n\\item TRUE\n\\item TRUE\n\\item TRUE\n\\item TRUE\n\\end{enumerate*}\n",
            "text/plain": [
              " [1] FALSE FALSE FALSE  TRUE  TRUE  TRUE  TRUE  TRUE  TRUE  TRUE"
            ]
          },
          "metadata": {}
        },
        {
          "output_type": "display_data",
          "data": {
            "text/html": [
              "<style>\n",
              ".list-inline {list-style: none; margin:0; padding: 0}\n",
              ".list-inline>li {display: inline-block}\n",
              ".list-inline>li:not(:last-child)::after {content: \"\\00b7\"; padding: 0 .5ex}\n",
              "</style>\n",
              "<ol class=list-inline><li>'d'</li><li>'e'</li><li>'f'</li><li>'g'</li><li>'h'</li><li>'i'</li><li>'j'</li></ol>\n"
            ],
            "text/markdown": "1. 'd'\n2. 'e'\n3. 'f'\n4. 'g'\n5. 'h'\n6. 'i'\n7. 'j'\n\n\n",
            "text/latex": "\\begin{enumerate*}\n\\item 'd'\n\\item 'e'\n\\item 'f'\n\\item 'g'\n\\item 'h'\n\\item 'i'\n\\item 'j'\n\\end{enumerate*}\n",
            "text/plain": [
              "[1] \"d\" \"e\" \"f\" \"g\" \"h\" \"i\" \"j\""
            ]
          },
          "metadata": {}
        }
      ]
    },
    {
      "cell_type": "code",
      "source": [
        "a <- 1:10\n",
        "a\n",
        "\n",
        "a[1] <- 99\n",
        "a\n",
        "\n",
        "b <- 1:10\n",
        "b[c(2,4)] <- -99 # reciclaje\n",
        "b\n",
        "\n",
        "c <- 1:10\n",
        "c[c(2,4)] <- c(-99, 99)\n",
        "c\n",
        "\n",
        "d <- 1:10\n",
        "d[TRUE] <- 1 # reciclaje\n",
        "d\n",
        "\n",
        "e <- 1:10\n",
        "e <- 1 # no reciclaje\n",
        "e"
      ],
      "metadata": {
        "colab": {
          "base_uri": "https://localhost:8080/",
          "height": 121
        },
        "id": "uKrbijHvFkd5",
        "outputId": "9b3a74e4-aabc-4791-c95c-9423bb4c5ad2"
      },
      "execution_count": 99,
      "outputs": [
        {
          "output_type": "display_data",
          "data": {
            "text/html": [
              "<style>\n",
              ".list-inline {list-style: none; margin:0; padding: 0}\n",
              ".list-inline>li {display: inline-block}\n",
              ".list-inline>li:not(:last-child)::after {content: \"\\00b7\"; padding: 0 .5ex}\n",
              "</style>\n",
              "<ol class=list-inline><li>1</li><li>2</li><li>3</li><li>4</li><li>5</li><li>6</li><li>7</li><li>8</li><li>9</li><li>10</li></ol>\n"
            ],
            "text/markdown": "1. 1\n2. 2\n3. 3\n4. 4\n5. 5\n6. 6\n7. 7\n8. 8\n9. 9\n10. 10\n\n\n",
            "text/latex": "\\begin{enumerate*}\n\\item 1\n\\item 2\n\\item 3\n\\item 4\n\\item 5\n\\item 6\n\\item 7\n\\item 8\n\\item 9\n\\item 10\n\\end{enumerate*}\n",
            "text/plain": [
              " [1]  1  2  3  4  5  6  7  8  9 10"
            ]
          },
          "metadata": {}
        },
        {
          "output_type": "display_data",
          "data": {
            "text/html": [
              "<style>\n",
              ".list-inline {list-style: none; margin:0; padding: 0}\n",
              ".list-inline>li {display: inline-block}\n",
              ".list-inline>li:not(:last-child)::after {content: \"\\00b7\"; padding: 0 .5ex}\n",
              "</style>\n",
              "<ol class=list-inline><li>99</li><li>2</li><li>3</li><li>4</li><li>5</li><li>6</li><li>7</li><li>8</li><li>9</li><li>10</li></ol>\n"
            ],
            "text/markdown": "1. 99\n2. 2\n3. 3\n4. 4\n5. 5\n6. 6\n7. 7\n8. 8\n9. 9\n10. 10\n\n\n",
            "text/latex": "\\begin{enumerate*}\n\\item 99\n\\item 2\n\\item 3\n\\item 4\n\\item 5\n\\item 6\n\\item 7\n\\item 8\n\\item 9\n\\item 10\n\\end{enumerate*}\n",
            "text/plain": [
              " [1] 99  2  3  4  5  6  7  8  9 10"
            ]
          },
          "metadata": {}
        },
        {
          "output_type": "display_data",
          "data": {
            "text/html": [
              "<style>\n",
              ".list-inline {list-style: none; margin:0; padding: 0}\n",
              ".list-inline>li {display: inline-block}\n",
              ".list-inline>li:not(:last-child)::after {content: \"\\00b7\"; padding: 0 .5ex}\n",
              "</style>\n",
              "<ol class=list-inline><li>1</li><li>-99</li><li>3</li><li>-99</li><li>5</li><li>6</li><li>7</li><li>8</li><li>9</li><li>10</li></ol>\n"
            ],
            "text/markdown": "1. 1\n2. -99\n3. 3\n4. -99\n5. 5\n6. 6\n7. 7\n8. 8\n9. 9\n10. 10\n\n\n",
            "text/latex": "\\begin{enumerate*}\n\\item 1\n\\item -99\n\\item 3\n\\item -99\n\\item 5\n\\item 6\n\\item 7\n\\item 8\n\\item 9\n\\item 10\n\\end{enumerate*}\n",
            "text/plain": [
              " [1]   1 -99   3 -99   5   6   7   8   9  10"
            ]
          },
          "metadata": {}
        },
        {
          "output_type": "display_data",
          "data": {
            "text/html": [
              "<style>\n",
              ".list-inline {list-style: none; margin:0; padding: 0}\n",
              ".list-inline>li {display: inline-block}\n",
              ".list-inline>li:not(:last-child)::after {content: \"\\00b7\"; padding: 0 .5ex}\n",
              "</style>\n",
              "<ol class=list-inline><li>1</li><li>-99</li><li>3</li><li>99</li><li>5</li><li>6</li><li>7</li><li>8</li><li>9</li><li>10</li></ol>\n"
            ],
            "text/markdown": "1. 1\n2. -99\n3. 3\n4. 99\n5. 5\n6. 6\n7. 7\n8. 8\n9. 9\n10. 10\n\n\n",
            "text/latex": "\\begin{enumerate*}\n\\item 1\n\\item -99\n\\item 3\n\\item 99\n\\item 5\n\\item 6\n\\item 7\n\\item 8\n\\item 9\n\\item 10\n\\end{enumerate*}\n",
            "text/plain": [
              " [1]   1 -99   3  99   5   6   7   8   9  10"
            ]
          },
          "metadata": {}
        },
        {
          "output_type": "display_data",
          "data": {
            "text/html": [
              "<style>\n",
              ".list-inline {list-style: none; margin:0; padding: 0}\n",
              ".list-inline>li {display: inline-block}\n",
              ".list-inline>li:not(:last-child)::after {content: \"\\00b7\"; padding: 0 .5ex}\n",
              "</style>\n",
              "<ol class=list-inline><li>1</li><li>1</li><li>1</li><li>1</li><li>1</li><li>1</li><li>1</li><li>1</li><li>1</li><li>1</li></ol>\n"
            ],
            "text/markdown": "1. 1\n2. 1\n3. 1\n4. 1\n5. 1\n6. 1\n7. 1\n8. 1\n9. 1\n10. 1\n\n\n",
            "text/latex": "\\begin{enumerate*}\n\\item 1\n\\item 1\n\\item 1\n\\item 1\n\\item 1\n\\item 1\n\\item 1\n\\item 1\n\\item 1\n\\item 1\n\\end{enumerate*}\n",
            "text/plain": [
              " [1] 1 1 1 1 1 1 1 1 1 1"
            ]
          },
          "metadata": {}
        },
        {
          "output_type": "display_data",
          "data": {
            "text/html": [
              "1"
            ],
            "text/markdown": "1",
            "text/latex": "1",
            "text/plain": [
              "[1] 1"
            ]
          },
          "metadata": {}
        }
      ]
    },
    {
      "cell_type": "code",
      "source": [
        "a <- letters[1:10]\n",
        "a[1:2] <- a[2:1]\n",
        "a"
      ],
      "metadata": {
        "id": "PHnzYgO7Fs-I"
      },
      "execution_count": null,
      "outputs": []
    },
    {
      "cell_type": "code",
      "source": [
        "my.vector <- c(10, 4, 22, 1, 4)\n",
        "sort(my.vector)\n",
        "\n",
        "sort(my.vector, decreasing = TRUE)"
      ],
      "metadata": {
        "colab": {
          "base_uri": "https://localhost:8080/",
          "height": 52
        },
        "id": "ZKcDa5j0FvFU",
        "outputId": "de181a79-d254-46f8-b488-a8bde664ba96"
      },
      "execution_count": 100,
      "outputs": [
        {
          "output_type": "display_data",
          "data": {
            "text/html": [
              "<style>\n",
              ".list-inline {list-style: none; margin:0; padding: 0}\n",
              ".list-inline>li {display: inline-block}\n",
              ".list-inline>li:not(:last-child)::after {content: \"\\00b7\"; padding: 0 .5ex}\n",
              "</style>\n",
              "<ol class=list-inline><li>1</li><li>4</li><li>4</li><li>10</li><li>22</li></ol>\n"
            ],
            "text/markdown": "1. 1\n2. 4\n3. 4\n4. 10\n5. 22\n\n\n",
            "text/latex": "\\begin{enumerate*}\n\\item 1\n\\item 4\n\\item 4\n\\item 10\n\\item 22\n\\end{enumerate*}\n",
            "text/plain": [
              "[1]  1  4  4 10 22"
            ]
          },
          "metadata": {}
        },
        {
          "output_type": "display_data",
          "data": {
            "text/html": [
              "<style>\n",
              ".list-inline {list-style: none; margin:0; padding: 0}\n",
              ".list-inline>li {display: inline-block}\n",
              ".list-inline>li:not(:last-child)::after {content: \"\\00b7\"; padding: 0 .5ex}\n",
              "</style>\n",
              "<ol class=list-inline><li>22</li><li>10</li><li>4</li><li>4</li><li>1</li></ol>\n"
            ],
            "text/markdown": "1. 22\n2. 10\n3. 4\n4. 4\n5. 1\n\n\n",
            "text/latex": "\\begin{enumerate*}\n\\item 22\n\\item 10\n\\item 4\n\\item 4\n\\item 1\n\\end{enumerate*}\n",
            "text/plain": [
              "[1] 22 10  4  4  1"
            ]
          },
          "metadata": {}
        }
      ]
    },
    {
      "cell_type": "code",
      "source": [
        "order(my.vector)"
      ],
      "metadata": {
        "colab": {
          "base_uri": "https://localhost:8080/",
          "height": 34
        },
        "id": "3a_0huQCFxjP",
        "outputId": "4365ba09-1179-49bb-d331-439d8e8a6969"
      },
      "execution_count": 101,
      "outputs": [
        {
          "output_type": "display_data",
          "data": {
            "text/html": [
              "<style>\n",
              ".list-inline {list-style: none; margin:0; padding: 0}\n",
              ".list-inline>li {display: inline-block}\n",
              ".list-inline>li:not(:last-child)::after {content: \"\\00b7\"; padding: 0 .5ex}\n",
              "</style>\n",
              "<ol class=list-inline><li>4</li><li>2</li><li>5</li><li>1</li><li>3</li></ol>\n"
            ],
            "text/markdown": "1. 4\n2. 2\n3. 5\n4. 1\n5. 3\n\n\n",
            "text/latex": "\\begin{enumerate*}\n\\item 4\n\\item 2\n\\item 5\n\\item 1\n\\item 3\n\\end{enumerate*}\n",
            "text/plain": [
              "[1] 4 2 5 1 3"
            ]
          },
          "metadata": {}
        }
      ]
    },
    {
      "cell_type": "code",
      "source": [
        "my.vector[order(my.vector)]\n",
        "\n",
        "another.vector <- c(\"ab\", \"aa\", \"c\", \"zy\", \"e\")\n",
        "another.vector[order(my.vector)]"
      ],
      "metadata": {
        "colab": {
          "base_uri": "https://localhost:8080/",
          "height": 52
        },
        "id": "bKkqeBWjF0DL",
        "outputId": "f1928c3f-8b4d-4a47-9fc4-7e5064d9f255"
      },
      "execution_count": 102,
      "outputs": [
        {
          "output_type": "display_data",
          "data": {
            "text/html": [
              "<style>\n",
              ".list-inline {list-style: none; margin:0; padding: 0}\n",
              ".list-inline>li {display: inline-block}\n",
              ".list-inline>li:not(:last-child)::after {content: \"\\00b7\"; padding: 0 .5ex}\n",
              "</style>\n",
              "<ol class=list-inline><li>1</li><li>4</li><li>4</li><li>10</li><li>22</li></ol>\n"
            ],
            "text/markdown": "1. 1\n2. 4\n3. 4\n4. 10\n5. 22\n\n\n",
            "text/latex": "\\begin{enumerate*}\n\\item 1\n\\item 4\n\\item 4\n\\item 10\n\\item 22\n\\end{enumerate*}\n",
            "text/plain": [
              "[1]  1  4  4 10 22"
            ]
          },
          "metadata": {}
        },
        {
          "output_type": "display_data",
          "data": {
            "text/html": [
              "<style>\n",
              ".list-inline {list-style: none; margin:0; padding: 0}\n",
              ".list-inline>li {display: inline-block}\n",
              ".list-inline>li:not(:last-child)::after {content: \"\\00b7\"; padding: 0 .5ex}\n",
              "</style>\n",
              "<ol class=list-inline><li>'zy'</li><li>'aa'</li><li>'e'</li><li>'ab'</li><li>'c'</li></ol>\n"
            ],
            "text/markdown": "1. 'zy'\n2. 'aa'\n3. 'e'\n4. 'ab'\n5. 'c'\n\n\n",
            "text/latex": "\\begin{enumerate*}\n\\item 'zy'\n\\item 'aa'\n\\item 'e'\n\\item 'ab'\n\\item 'c'\n\\end{enumerate*}\n",
            "text/plain": [
              "[1] \"zy\" \"aa\" \"e\"  \"ab\" \"c\" "
            ]
          },
          "metadata": {}
        }
      ]
    },
    {
      "cell_type": "markdown",
      "source": [
        "Matrices y arreglos multidimensionales."
      ],
      "metadata": {
        "id": "lY8y4DTdF9Qy"
      }
    },
    {
      "cell_type": "code",
      "source": [
        "matrix(1:15, ncol = 3)\n",
        "matrix(1:15, nrow = 3)"
      ],
      "metadata": {
        "colab": {
          "base_uri": "https://localhost:8080/",
          "height": 337
        },
        "id": "EetWuzuhF3qv",
        "outputId": "90308d22-9fb4-4bec-c767-b95bfe820066"
      },
      "execution_count": 103,
      "outputs": [
        {
          "output_type": "display_data",
          "data": {
            "text/html": [
              "<table class=\"dataframe\">\n",
              "<caption>A matrix: 5 × 3 of type int</caption>\n",
              "<tbody>\n",
              "\t<tr><td>1</td><td> 6</td><td>11</td></tr>\n",
              "\t<tr><td>2</td><td> 7</td><td>12</td></tr>\n",
              "\t<tr><td>3</td><td> 8</td><td>13</td></tr>\n",
              "\t<tr><td>4</td><td> 9</td><td>14</td></tr>\n",
              "\t<tr><td>5</td><td>10</td><td>15</td></tr>\n",
              "</tbody>\n",
              "</table>\n"
            ],
            "text/markdown": "\nA matrix: 5 × 3 of type int\n\n| 1 |  6 | 11 |\n| 2 |  7 | 12 |\n| 3 |  8 | 13 |\n| 4 |  9 | 14 |\n| 5 | 10 | 15 |\n\n",
            "text/latex": "A matrix: 5 × 3 of type int\n\\begin{tabular}{lll}\n\t 1 &  6 & 11\\\\\n\t 2 &  7 & 12\\\\\n\t 3 &  8 & 13\\\\\n\t 4 &  9 & 14\\\\\n\t 5 & 10 & 15\\\\\n\\end{tabular}\n",
            "text/plain": [
              "     [,1] [,2] [,3]\n",
              "[1,] 1     6   11  \n",
              "[2,] 2     7   12  \n",
              "[3,] 3     8   13  \n",
              "[4,] 4     9   14  \n",
              "[5,] 5    10   15  "
            ]
          },
          "metadata": {}
        },
        {
          "output_type": "display_data",
          "data": {
            "text/html": [
              "<table class=\"dataframe\">\n",
              "<caption>A matrix: 3 × 5 of type int</caption>\n",
              "<tbody>\n",
              "\t<tr><td>1</td><td>4</td><td>7</td><td>10</td><td>13</td></tr>\n",
              "\t<tr><td>2</td><td>5</td><td>8</td><td>11</td><td>14</td></tr>\n",
              "\t<tr><td>3</td><td>6</td><td>9</td><td>12</td><td>15</td></tr>\n",
              "</tbody>\n",
              "</table>\n"
            ],
            "text/markdown": "\nA matrix: 3 × 5 of type int\n\n| 1 | 4 | 7 | 10 | 13 |\n| 2 | 5 | 8 | 11 | 14 |\n| 3 | 6 | 9 | 12 | 15 |\n\n",
            "text/latex": "A matrix: 3 × 5 of type int\n\\begin{tabular}{lllll}\n\t 1 & 4 & 7 & 10 & 13\\\\\n\t 2 & 5 & 8 & 11 & 14\\\\\n\t 3 & 6 & 9 & 12 & 15\\\\\n\\end{tabular}\n",
            "text/plain": [
              "     [,1] [,2] [,3] [,4] [,5]\n",
              "[1,] 1    4    7    10   13  \n",
              "[2,] 2    5    8    11   14  \n",
              "[3,] 3    6    9    12   15  "
            ]
          },
          "metadata": {}
        }
      ]
    },
    {
      "cell_type": "markdown",
      "source": [
        "Factores"
      ],
      "metadata": {
        "id": "6z05Rw_lGDUq"
      }
    },
    {
      "cell_type": "code",
      "source": [
        "my.vector <- c(\"treated\", \"treated\", \"control\", \"control\", \"control\", \"treated\")\n",
        "my.factor <- factor(my.vector)\n",
        "my.factor\n",
        "\n",
        "my.factor <- factor(x = my.vector, levels = c(\"treated\", \"control\"))\n",
        "my.factor"
      ],
      "metadata": {
        "colab": {
          "base_uri": "https://localhost:8080/",
          "height": 86
        },
        "id": "ZLQ299fiGEOU",
        "outputId": "3eec214a-0fe9-443e-f485-07459a358384"
      },
      "execution_count": 104,
      "outputs": [
        {
          "output_type": "display_data",
          "data": {
            "text/html": [
              "<style>\n",
              ".list-inline {list-style: none; margin:0; padding: 0}\n",
              ".list-inline>li {display: inline-block}\n",
              ".list-inline>li:not(:last-child)::after {content: \"\\00b7\"; padding: 0 .5ex}\n",
              "</style>\n",
              "<ol class=list-inline><li>treated</li><li>treated</li><li>control</li><li>control</li><li>control</li><li>treated</li></ol>\n",
              "\n",
              "<details>\n",
              "\t<summary style=display:list-item;cursor:pointer>\n",
              "\t\t<strong>Levels</strong>:\n",
              "\t</summary>\n",
              "\t<style>\n",
              "\t.list-inline {list-style: none; margin:0; padding: 0}\n",
              "\t.list-inline>li {display: inline-block}\n",
              "\t.list-inline>li:not(:last-child)::after {content: \"\\00b7\"; padding: 0 .5ex}\n",
              "\t</style>\n",
              "\t<ol class=list-inline><li>'control'</li><li>'treated'</li></ol>\n",
              "</details>"
            ],
            "text/markdown": "1. treated\n2. treated\n3. control\n4. control\n5. control\n6. treated\n\n\n\n**Levels**: 1. 'control'\n2. 'treated'\n\n\n",
            "text/latex": "\\begin{enumerate*}\n\\item treated\n\\item treated\n\\item control\n\\item control\n\\item control\n\\item treated\n\\end{enumerate*}\n\n\\emph{Levels}: \\begin{enumerate*}\n\\item 'control'\n\\item 'treated'\n\\end{enumerate*}\n",
            "text/plain": [
              "[1] treated treated control control control treated\n",
              "Levels: control treated"
            ]
          },
          "metadata": {}
        },
        {
          "output_type": "display_data",
          "data": {
            "text/html": [
              "<style>\n",
              ".list-inline {list-style: none; margin:0; padding: 0}\n",
              ".list-inline>li {display: inline-block}\n",
              ".list-inline>li:not(:last-child)::after {content: \"\\00b7\"; padding: 0 .5ex}\n",
              "</style>\n",
              "<ol class=list-inline><li>treated</li><li>treated</li><li>control</li><li>control</li><li>control</li><li>treated</li></ol>\n",
              "\n",
              "<details>\n",
              "\t<summary style=display:list-item;cursor:pointer>\n",
              "\t\t<strong>Levels</strong>:\n",
              "\t</summary>\n",
              "\t<style>\n",
              "\t.list-inline {list-style: none; margin:0; padding: 0}\n",
              "\t.list-inline>li {display: inline-block}\n",
              "\t.list-inline>li:not(:last-child)::after {content: \"\\00b7\"; padding: 0 .5ex}\n",
              "\t</style>\n",
              "\t<ol class=list-inline><li>'treated'</li><li>'control'</li></ol>\n",
              "</details>"
            ],
            "text/markdown": "1. treated\n2. treated\n3. control\n4. control\n5. control\n6. treated\n\n\n\n**Levels**: 1. 'treated'\n2. 'control'\n\n\n",
            "text/latex": "\\begin{enumerate*}\n\\item treated\n\\item treated\n\\item control\n\\item control\n\\item control\n\\item treated\n\\end{enumerate*}\n\n\\emph{Levels}: \\begin{enumerate*}\n\\item 'treated'\n\\item 'control'\n\\end{enumerate*}\n",
            "text/plain": [
              "[1] treated treated control control control treated\n",
              "Levels: treated control"
            ]
          },
          "metadata": {}
        }
      ]
    },
    {
      "cell_type": "markdown",
      "source": [
        "Listas"
      ],
      "metadata": {
        "id": "A6CXxLc4GREI"
      }
    },
    {
      "cell_type": "code",
      "source": [
        "a.list <- list(x = 1:6, y = \"a\", z = c(TRUE, FALSE))\n",
        "a.list"
      ],
      "metadata": {
        "colab": {
          "base_uri": "https://localhost:8080/",
          "height": 149
        },
        "id": "mwZpphp8GRyB",
        "outputId": "356e44ec-2f9b-4de5-d2ca-882e6290532a"
      },
      "execution_count": 105,
      "outputs": [
        {
          "output_type": "display_data",
          "data": {
            "text/html": [
              "<dl>\n",
              "\t<dt>$x</dt>\n",
              "\t\t<dd><style>\n",
              ".list-inline {list-style: none; margin:0; padding: 0}\n",
              ".list-inline>li {display: inline-block}\n",
              ".list-inline>li:not(:last-child)::after {content: \"\\00b7\"; padding: 0 .5ex}\n",
              "</style>\n",
              "<ol class=list-inline><li>1</li><li>2</li><li>3</li><li>4</li><li>5</li><li>6</li></ol>\n",
              "</dd>\n",
              "\t<dt>$y</dt>\n",
              "\t\t<dd>'a'</dd>\n",
              "\t<dt>$z</dt>\n",
              "\t\t<dd><style>\n",
              ".list-inline {list-style: none; margin:0; padding: 0}\n",
              ".list-inline>li {display: inline-block}\n",
              ".list-inline>li:not(:last-child)::after {content: \"\\00b7\"; padding: 0 .5ex}\n",
              "</style>\n",
              "<ol class=list-inline><li>TRUE</li><li>FALSE</li></ol>\n",
              "</dd>\n",
              "</dl>\n"
            ],
            "text/markdown": "$x\n:   1. 1\n2. 2\n3. 3\n4. 4\n5. 5\n6. 6\n\n\n\n$y\n:   'a'\n$z\n:   1. TRUE\n2. FALSE\n\n\n\n\n\n",
            "text/latex": "\\begin{description}\n\\item[\\$x] \\begin{enumerate*}\n\\item 1\n\\item 2\n\\item 3\n\\item 4\n\\item 5\n\\item 6\n\\end{enumerate*}\n\n\\item[\\$y] 'a'\n\\item[\\$z] \\begin{enumerate*}\n\\item TRUE\n\\item FALSE\n\\end{enumerate*}\n\n\\end{description}\n",
            "text/plain": [
              "$x\n",
              "[1] 1 2 3 4 5 6\n",
              "\n",
              "$y\n",
              "[1] \"a\"\n",
              "\n",
              "$z\n",
              "[1]  TRUE FALSE\n"
            ]
          },
          "metadata": {}
        }
      ]
    },
    {
      "cell_type": "markdown",
      "source": [
        "Extracción y subconjunto de miembros"
      ],
      "metadata": {
        "id": "IyVfFStzGUcp"
      }
    },
    {
      "cell_type": "code",
      "source": [
        "a.list$x\n",
        "\n",
        "a.list[[\"x\"]]\n",
        "\n",
        "a.list[[1]]\n",
        "\n",
        "a.list[\"x\"]\n",
        "\n",
        "a.list[1]\n",
        "\n",
        "a.list[c(1,3)]\n",
        "\n",
        "try(a.list[[c(1,3)]])"
      ],
      "metadata": {
        "colab": {
          "base_uri": "https://localhost:8080/",
          "height": 253
        },
        "id": "VSaYK4dcGWDA",
        "outputId": "8d841680-1197-41d3-c6db-260dabfed65f"
      },
      "execution_count": 106,
      "outputs": [
        {
          "output_type": "display_data",
          "data": {
            "text/html": [
              "<style>\n",
              ".list-inline {list-style: none; margin:0; padding: 0}\n",
              ".list-inline>li {display: inline-block}\n",
              ".list-inline>li:not(:last-child)::after {content: \"\\00b7\"; padding: 0 .5ex}\n",
              "</style>\n",
              "<ol class=list-inline><li>1</li><li>2</li><li>3</li><li>4</li><li>5</li><li>6</li></ol>\n"
            ],
            "text/markdown": "1. 1\n2. 2\n3. 3\n4. 4\n5. 5\n6. 6\n\n\n",
            "text/latex": "\\begin{enumerate*}\n\\item 1\n\\item 2\n\\item 3\n\\item 4\n\\item 5\n\\item 6\n\\end{enumerate*}\n",
            "text/plain": [
              "[1] 1 2 3 4 5 6"
            ]
          },
          "metadata": {}
        },
        {
          "output_type": "display_data",
          "data": {
            "text/html": [
              "<style>\n",
              ".list-inline {list-style: none; margin:0; padding: 0}\n",
              ".list-inline>li {display: inline-block}\n",
              ".list-inline>li:not(:last-child)::after {content: \"\\00b7\"; padding: 0 .5ex}\n",
              "</style>\n",
              "<ol class=list-inline><li>1</li><li>2</li><li>3</li><li>4</li><li>5</li><li>6</li></ol>\n"
            ],
            "text/markdown": "1. 1\n2. 2\n3. 3\n4. 4\n5. 5\n6. 6\n\n\n",
            "text/latex": "\\begin{enumerate*}\n\\item 1\n\\item 2\n\\item 3\n\\item 4\n\\item 5\n\\item 6\n\\end{enumerate*}\n",
            "text/plain": [
              "[1] 1 2 3 4 5 6"
            ]
          },
          "metadata": {}
        },
        {
          "output_type": "display_data",
          "data": {
            "text/html": [
              "<style>\n",
              ".list-inline {list-style: none; margin:0; padding: 0}\n",
              ".list-inline>li {display: inline-block}\n",
              ".list-inline>li:not(:last-child)::after {content: \"\\00b7\"; padding: 0 .5ex}\n",
              "</style>\n",
              "<ol class=list-inline><li>1</li><li>2</li><li>3</li><li>4</li><li>5</li><li>6</li></ol>\n"
            ],
            "text/markdown": "1. 1\n2. 2\n3. 3\n4. 4\n5. 5\n6. 6\n\n\n",
            "text/latex": "\\begin{enumerate*}\n\\item 1\n\\item 2\n\\item 3\n\\item 4\n\\item 5\n\\item 6\n\\end{enumerate*}\n",
            "text/plain": [
              "[1] 1 2 3 4 5 6"
            ]
          },
          "metadata": {}
        },
        {
          "output_type": "display_data",
          "data": {
            "text/html": [
              "<strong>$x</strong> = <style>\n",
              ".list-inline {list-style: none; margin:0; padding: 0}\n",
              ".list-inline>li {display: inline-block}\n",
              ".list-inline>li:not(:last-child)::after {content: \"\\00b7\"; padding: 0 .5ex}\n",
              "</style>\n",
              "<ol class=list-inline><li>1</li><li>2</li><li>3</li><li>4</li><li>5</li><li>6</li></ol>\n"
            ],
            "text/markdown": "**$x** = 1. 1\n2. 2\n3. 3\n4. 4\n5. 5\n6. 6\n\n\n",
            "text/latex": "\\textbf{\\$x} = \\begin{enumerate*}\n\\item 1\n\\item 2\n\\item 3\n\\item 4\n\\item 5\n\\item 6\n\\end{enumerate*}\n",
            "text/plain": [
              "$x\n",
              "[1] 1 2 3 4 5 6\n"
            ]
          },
          "metadata": {}
        },
        {
          "output_type": "display_data",
          "data": {
            "text/html": [
              "<strong>$x</strong> = <style>\n",
              ".list-inline {list-style: none; margin:0; padding: 0}\n",
              ".list-inline>li {display: inline-block}\n",
              ".list-inline>li:not(:last-child)::after {content: \"\\00b7\"; padding: 0 .5ex}\n",
              "</style>\n",
              "<ol class=list-inline><li>1</li><li>2</li><li>3</li><li>4</li><li>5</li><li>6</li></ol>\n"
            ],
            "text/markdown": "**$x** = 1. 1\n2. 2\n3. 3\n4. 4\n5. 5\n6. 6\n\n\n",
            "text/latex": "\\textbf{\\$x} = \\begin{enumerate*}\n\\item 1\n\\item 2\n\\item 3\n\\item 4\n\\item 5\n\\item 6\n\\end{enumerate*}\n",
            "text/plain": [
              "$x\n",
              "[1] 1 2 3 4 5 6\n"
            ]
          },
          "metadata": {}
        },
        {
          "output_type": "display_data",
          "data": {
            "text/html": [
              "<dl>\n",
              "\t<dt>$x</dt>\n",
              "\t\t<dd><style>\n",
              ".list-inline {list-style: none; margin:0; padding: 0}\n",
              ".list-inline>li {display: inline-block}\n",
              ".list-inline>li:not(:last-child)::after {content: \"\\00b7\"; padding: 0 .5ex}\n",
              "</style>\n",
              "<ol class=list-inline><li>1</li><li>2</li><li>3</li><li>4</li><li>5</li><li>6</li></ol>\n",
              "</dd>\n",
              "\t<dt>$z</dt>\n",
              "\t\t<dd><style>\n",
              ".list-inline {list-style: none; margin:0; padding: 0}\n",
              ".list-inline>li {display: inline-block}\n",
              ".list-inline>li:not(:last-child)::after {content: \"\\00b7\"; padding: 0 .5ex}\n",
              "</style>\n",
              "<ol class=list-inline><li>TRUE</li><li>FALSE</li></ol>\n",
              "</dd>\n",
              "</dl>\n"
            ],
            "text/markdown": "$x\n:   1. 1\n2. 2\n3. 3\n4. 4\n5. 5\n6. 6\n\n\n\n$z\n:   1. TRUE\n2. FALSE\n\n\n\n\n\n",
            "text/latex": "\\begin{description}\n\\item[\\$x] \\begin{enumerate*}\n\\item 1\n\\item 2\n\\item 3\n\\item 4\n\\item 5\n\\item 6\n\\end{enumerate*}\n\n\\item[\\$z] \\begin{enumerate*}\n\\item TRUE\n\\item FALSE\n\\end{enumerate*}\n\n\\end{description}\n",
            "text/plain": [
              "$x\n",
              "[1] 1 2 3 4 5 6\n",
              "\n",
              "$z\n",
              "[1]  TRUE FALSE\n"
            ]
          },
          "metadata": {}
        },
        {
          "output_type": "display_data",
          "data": {
            "text/html": [
              "3"
            ],
            "text/markdown": "3",
            "text/latex": "3",
            "text/plain": [
              "[1] 3"
            ]
          },
          "metadata": {}
        }
      ]
    },
    {
      "cell_type": "markdown",
      "source": [
        "Listas anidadas"
      ],
      "metadata": {
        "id": "dsYgUwgIGeNd"
      }
    },
    {
      "cell_type": "code",
      "source": [
        "nested.list <- list(A = list(\"a\", \"aa\", \"aaa\"), B = list(\"b\", \"bb\"))\n",
        "str(nested.list)"
      ],
      "metadata": {
        "colab": {
          "base_uri": "https://localhost:8080/"
        },
        "id": "lpLTnzWuGfkQ",
        "outputId": "5ff732b2-44e4-4a38-d6d5-af8ba0a5f4d3"
      },
      "execution_count": 107,
      "outputs": [
        {
          "output_type": "stream",
          "name": "stdout",
          "text": [
            "List of 2\n",
            " $ A:List of 3\n",
            "  ..$ : chr \"a\"\n",
            "  ..$ : chr \"aa\"\n",
            "  ..$ : chr \"aaa\"\n",
            " $ B:List of 2\n",
            "  ..$ : chr \"b\"\n",
            "  ..$ : chr \"bb\"\n"
          ]
        }
      ]
    },
    {
      "cell_type": "markdown",
      "source": [
        "Data frames"
      ],
      "metadata": {
        "id": "S5oUakJ6Gh_4"
      }
    },
    {
      "cell_type": "code",
      "source": [
        "a.df <- data.frame(x = 1:6, y = \"a\", z = c(TRUE, FALSE))\n",
        "a.df\n",
        "\n",
        "str(a.df)\n",
        "class(a.df)\n",
        "\n",
        "mode(a.df)\n",
        "\n",
        "is.data.frame(a.df)\n",
        "\n",
        "is.list(a.df)"
      ],
      "metadata": {
        "colab": {
          "base_uri": "https://localhost:8080/",
          "height": 425
        },
        "id": "SXNildlQGikb",
        "outputId": "30d1eda4-2644-4745-bab1-4336b49f286a"
      },
      "execution_count": 109,
      "outputs": [
        {
          "output_type": "display_data",
          "data": {
            "text/html": [
              "<table class=\"dataframe\">\n",
              "<caption>A data.frame: 6 × 3</caption>\n",
              "<thead>\n",
              "\t<tr><th scope=col>x</th><th scope=col>y</th><th scope=col>z</th></tr>\n",
              "\t<tr><th scope=col>&lt;int&gt;</th><th scope=col>&lt;chr&gt;</th><th scope=col>&lt;lgl&gt;</th></tr>\n",
              "</thead>\n",
              "<tbody>\n",
              "\t<tr><td>1</td><td>a</td><td> TRUE</td></tr>\n",
              "\t<tr><td>2</td><td>a</td><td>FALSE</td></tr>\n",
              "\t<tr><td>3</td><td>a</td><td> TRUE</td></tr>\n",
              "\t<tr><td>4</td><td>a</td><td>FALSE</td></tr>\n",
              "\t<tr><td>5</td><td>a</td><td> TRUE</td></tr>\n",
              "\t<tr><td>6</td><td>a</td><td>FALSE</td></tr>\n",
              "</tbody>\n",
              "</table>\n"
            ],
            "text/markdown": "\nA data.frame: 6 × 3\n\n| x &lt;int&gt; | y &lt;chr&gt; | z &lt;lgl&gt; |\n|---|---|---|\n| 1 | a |  TRUE |\n| 2 | a | FALSE |\n| 3 | a |  TRUE |\n| 4 | a | FALSE |\n| 5 | a |  TRUE |\n| 6 | a | FALSE |\n\n",
            "text/latex": "A data.frame: 6 × 3\n\\begin{tabular}{lll}\n x & y & z\\\\\n <int> & <chr> & <lgl>\\\\\n\\hline\n\t 1 & a &  TRUE\\\\\n\t 2 & a & FALSE\\\\\n\t 3 & a &  TRUE\\\\\n\t 4 & a & FALSE\\\\\n\t 5 & a &  TRUE\\\\\n\t 6 & a & FALSE\\\\\n\\end{tabular}\n",
            "text/plain": [
              "  x y z    \n",
              "1 1 a  TRUE\n",
              "2 2 a FALSE\n",
              "3 3 a  TRUE\n",
              "4 4 a FALSE\n",
              "5 5 a  TRUE\n",
              "6 6 a FALSE"
            ]
          },
          "metadata": {}
        },
        {
          "output_type": "stream",
          "name": "stdout",
          "text": [
            "'data.frame':\t6 obs. of  3 variables:\n",
            " $ x: int  1 2 3 4 5 6\n",
            " $ y: chr  \"a\" \"a\" \"a\" \"a\" ...\n",
            " $ z: logi  TRUE FALSE TRUE FALSE TRUE FALSE\n"
          ]
        },
        {
          "output_type": "display_data",
          "data": {
            "text/html": [
              "'data.frame'"
            ],
            "text/markdown": "'data.frame'",
            "text/latex": "'data.frame'",
            "text/plain": [
              "[1] \"data.frame\""
            ]
          },
          "metadata": {}
        },
        {
          "output_type": "display_data",
          "data": {
            "text/html": [
              "'list'"
            ],
            "text/markdown": "'list'",
            "text/latex": "'list'",
            "text/plain": [
              "[1] \"list\""
            ]
          },
          "metadata": {}
        },
        {
          "output_type": "display_data",
          "data": {
            "text/html": [
              "TRUE"
            ],
            "text/markdown": "TRUE",
            "text/latex": "TRUE",
            "text/plain": [
              "[1] TRUE"
            ]
          },
          "metadata": {}
        },
        {
          "output_type": "display_data",
          "data": {
            "text/html": [
              "TRUE"
            ],
            "text/markdown": "TRUE",
            "text/latex": "TRUE",
            "text/plain": [
              "[1] TRUE"
            ]
          },
          "metadata": {}
        }
      ]
    },
    {
      "cell_type": "markdown",
      "source": [
        "Operando dentro de marcos de datos"
      ],
      "metadata": {
        "id": "fmGxmb6WGwnp"
      }
    },
    {
      "cell_type": "code",
      "source": [
        "a.df <- data.frame(x = 1:6, y = \"a\", z = c(TRUE, FALSE))\n",
        "subset(a.df, x > 3)"
      ],
      "metadata": {
        "colab": {
          "base_uri": "https://localhost:8080/",
          "height": 192
        },
        "id": "DDoI1o4pGpKd",
        "outputId": "63e520c5-05d3-487a-9852-07e2e0d42a70"
      },
      "execution_count": 111,
      "outputs": [
        {
          "output_type": "display_data",
          "data": {
            "text/html": [
              "<table class=\"dataframe\">\n",
              "<caption>A data.frame: 3 × 3</caption>\n",
              "<thead>\n",
              "\t<tr><th></th><th scope=col>x</th><th scope=col>y</th><th scope=col>z</th></tr>\n",
              "\t<tr><th></th><th scope=col>&lt;int&gt;</th><th scope=col>&lt;chr&gt;</th><th scope=col>&lt;lgl&gt;</th></tr>\n",
              "</thead>\n",
              "<tbody>\n",
              "\t<tr><th scope=row>4</th><td>4</td><td>a</td><td>FALSE</td></tr>\n",
              "\t<tr><th scope=row>5</th><td>5</td><td>a</td><td> TRUE</td></tr>\n",
              "\t<tr><th scope=row>6</th><td>6</td><td>a</td><td>FALSE</td></tr>\n",
              "</tbody>\n",
              "</table>\n"
            ],
            "text/markdown": "\nA data.frame: 3 × 3\n\n| <!--/--> | x &lt;int&gt; | y &lt;chr&gt; | z &lt;lgl&gt; |\n|---|---|---|---|\n| 4 | 4 | a | FALSE |\n| 5 | 5 | a |  TRUE |\n| 6 | 6 | a | FALSE |\n\n",
            "text/latex": "A data.frame: 3 × 3\n\\begin{tabular}{r|lll}\n  & x & y & z\\\\\n  & <int> & <chr> & <lgl>\\\\\n\\hline\n\t4 & 4 & a & FALSE\\\\\n\t5 & 5 & a &  TRUE\\\\\n\t6 & 6 & a & FALSE\\\\\n\\end{tabular}\n",
            "text/plain": [
              "  x y z    \n",
              "4 4 a FALSE\n",
              "5 5 a  TRUE\n",
              "6 6 a FALSE"
            ]
          },
          "metadata": {}
        }
      ]
    },
    {
      "cell_type": "code",
      "source": [
        "subset(a.df, x > 3)[ , -3]\n",
        "subset(a.df, x > 3)$x"
      ],
      "metadata": {
        "colab": {
          "base_uri": "https://localhost:8080/",
          "height": 209
        },
        "id": "mm8sFNGfG0OI",
        "outputId": "f6b09475-c3ae-4a08-f7fa-79aa19b7f185"
      },
      "execution_count": 112,
      "outputs": [
        {
          "output_type": "display_data",
          "data": {
            "text/html": [
              "<table class=\"dataframe\">\n",
              "<caption>A data.frame: 3 × 2</caption>\n",
              "<thead>\n",
              "\t<tr><th></th><th scope=col>x</th><th scope=col>y</th></tr>\n",
              "\t<tr><th></th><th scope=col>&lt;int&gt;</th><th scope=col>&lt;chr&gt;</th></tr>\n",
              "</thead>\n",
              "<tbody>\n",
              "\t<tr><th scope=row>4</th><td>4</td><td>a</td></tr>\n",
              "\t<tr><th scope=row>5</th><td>5</td><td>a</td></tr>\n",
              "\t<tr><th scope=row>6</th><td>6</td><td>a</td></tr>\n",
              "</tbody>\n",
              "</table>\n"
            ],
            "text/markdown": "\nA data.frame: 3 × 2\n\n| <!--/--> | x &lt;int&gt; | y &lt;chr&gt; |\n|---|---|---|\n| 4 | 4 | a |\n| 5 | 5 | a |\n| 6 | 6 | a |\n\n",
            "text/latex": "A data.frame: 3 × 2\n\\begin{tabular}{r|ll}\n  & x & y\\\\\n  & <int> & <chr>\\\\\n\\hline\n\t4 & 4 & a\\\\\n\t5 & 5 & a\\\\\n\t6 & 6 & a\\\\\n\\end{tabular}\n",
            "text/plain": [
              "  x y\n",
              "4 4 a\n",
              "5 5 a\n",
              "6 6 a"
            ]
          },
          "metadata": {}
        },
        {
          "output_type": "display_data",
          "data": {
            "text/html": [
              "<style>\n",
              ".list-inline {list-style: none; margin:0; padding: 0}\n",
              ".list-inline>li {display: inline-block}\n",
              ".list-inline>li:not(:last-child)::after {content: \"\\00b7\"; padding: 0 .5ex}\n",
              "</style>\n",
              "<ol class=list-inline><li>4</li><li>5</li><li>6</li></ol>\n"
            ],
            "text/markdown": "1. 4\n2. 5\n3. 6\n\n\n",
            "text/latex": "\\begin{enumerate*}\n\\item 4\n\\item 5\n\\item 6\n\\end{enumerate*}\n",
            "text/plain": [
              "[1] 4 5 6"
            ]
          },
          "metadata": {}
        }
      ]
    },
    {
      "cell_type": "markdown",
      "source": [
        "Reorganizar columnas y filas"
      ],
      "metadata": {
        "id": "X0__aFWsG7L3"
      }
    },
    {
      "cell_type": "code",
      "source": [
        "my_data_frame.df <- data.frame(A = 1:10, B = 3)\n",
        "head(my_data_frame.df, 2)\n",
        "\n",
        "my_data_frame.df[ , 1:2] <- my_data_frame.df[ , 2:1]\n",
        "head(my_data_frame.df, 2)\n",
        "\n",
        "colnames(my_data_frame.df)[1:2] <- colnames(my_data_frame.df)[2:1]\n",
        "head(my_data_frame.df, 2)"
      ],
      "metadata": {
        "colab": {
          "base_uri": "https://localhost:8080/",
          "height": 448
        },
        "id": "Y6b3ISCgG8va",
        "outputId": "4a2a3363-8b42-480f-e692-bad1af9577a2"
      },
      "execution_count": 114,
      "outputs": [
        {
          "output_type": "display_data",
          "data": {
            "text/html": [
              "<table class=\"dataframe\">\n",
              "<caption>A data.frame: 2 × 2</caption>\n",
              "<thead>\n",
              "\t<tr><th></th><th scope=col>A</th><th scope=col>B</th></tr>\n",
              "\t<tr><th></th><th scope=col>&lt;int&gt;</th><th scope=col>&lt;dbl&gt;</th></tr>\n",
              "</thead>\n",
              "<tbody>\n",
              "\t<tr><th scope=row>1</th><td>1</td><td>3</td></tr>\n",
              "\t<tr><th scope=row>2</th><td>2</td><td>3</td></tr>\n",
              "</tbody>\n",
              "</table>\n"
            ],
            "text/markdown": "\nA data.frame: 2 × 2\n\n| <!--/--> | A &lt;int&gt; | B &lt;dbl&gt; |\n|---|---|---|\n| 1 | 1 | 3 |\n| 2 | 2 | 3 |\n\n",
            "text/latex": "A data.frame: 2 × 2\n\\begin{tabular}{r|ll}\n  & A & B\\\\\n  & <int> & <dbl>\\\\\n\\hline\n\t1 & 1 & 3\\\\\n\t2 & 2 & 3\\\\\n\\end{tabular}\n",
            "text/plain": [
              "  A B\n",
              "1 1 3\n",
              "2 2 3"
            ]
          },
          "metadata": {}
        },
        {
          "output_type": "display_data",
          "data": {
            "text/html": [
              "<table class=\"dataframe\">\n",
              "<caption>A data.frame: 2 × 2</caption>\n",
              "<thead>\n",
              "\t<tr><th></th><th scope=col>A</th><th scope=col>B</th></tr>\n",
              "\t<tr><th></th><th scope=col>&lt;dbl&gt;</th><th scope=col>&lt;int&gt;</th></tr>\n",
              "</thead>\n",
              "<tbody>\n",
              "\t<tr><th scope=row>1</th><td>3</td><td>1</td></tr>\n",
              "\t<tr><th scope=row>2</th><td>3</td><td>2</td></tr>\n",
              "</tbody>\n",
              "</table>\n"
            ],
            "text/markdown": "\nA data.frame: 2 × 2\n\n| <!--/--> | A &lt;dbl&gt; | B &lt;int&gt; |\n|---|---|---|\n| 1 | 3 | 1 |\n| 2 | 3 | 2 |\n\n",
            "text/latex": "A data.frame: 2 × 2\n\\begin{tabular}{r|ll}\n  & A & B\\\\\n  & <dbl> & <int>\\\\\n\\hline\n\t1 & 3 & 1\\\\\n\t2 & 3 & 2\\\\\n\\end{tabular}\n",
            "text/plain": [
              "  A B\n",
              "1 3 1\n",
              "2 3 2"
            ]
          },
          "metadata": {}
        },
        {
          "output_type": "display_data",
          "data": {
            "text/html": [
              "<table class=\"dataframe\">\n",
              "<caption>A data.frame: 2 × 2</caption>\n",
              "<thead>\n",
              "\t<tr><th></th><th scope=col>B</th><th scope=col>A</th></tr>\n",
              "\t<tr><th></th><th scope=col>&lt;dbl&gt;</th><th scope=col>&lt;int&gt;</th></tr>\n",
              "</thead>\n",
              "<tbody>\n",
              "\t<tr><th scope=row>1</th><td>3</td><td>1</td></tr>\n",
              "\t<tr><th scope=row>2</th><td>3</td><td>2</td></tr>\n",
              "</tbody>\n",
              "</table>\n"
            ],
            "text/markdown": "\nA data.frame: 2 × 2\n\n| <!--/--> | B &lt;dbl&gt; | A &lt;int&gt; |\n|---|---|---|\n| 1 | 3 | 1 |\n| 2 | 3 | 2 |\n\n",
            "text/latex": "A data.frame: 2 × 2\n\\begin{tabular}{r|ll}\n  & B & A\\\\\n  & <dbl> & <int>\\\\\n\\hline\n\t1 & 3 & 1\\\\\n\t2 & 3 & 2\\\\\n\\end{tabular}\n",
            "text/plain": [
              "  B A\n",
              "1 3 1\n",
              "2 3 2"
            ]
          },
          "metadata": {}
        }
      ]
    },
    {
      "cell_type": "markdown",
      "source": [
        "Atributos de los objetos R"
      ],
      "metadata": {
        "id": "I4AV4Ac4HDSG"
      }
    },
    {
      "cell_type": "code",
      "source": [
        "a.df <- data.frame(x = 1:6, y = \"a\", z = c(TRUE, FALSE))\n",
        "comment(a.df)\n",
        "\n",
        "comment(a.df) <- \"this is stored as a comment\"\n",
        "comment(a.df)"
      ],
      "metadata": {
        "colab": {
          "base_uri": "https://localhost:8080/",
          "height": 52
        },
        "id": "vAfQbO-mHD2P",
        "outputId": "4dbc496f-dafd-4730-865a-99be442cca6f"
      },
      "execution_count": 115,
      "outputs": [
        {
          "output_type": "display_data",
          "data": {
            "text/plain": [
              "NULL"
            ]
          },
          "metadata": {}
        },
        {
          "output_type": "display_data",
          "data": {
            "text/html": [
              "'this is stored as a comment'"
            ],
            "text/markdown": "'this is stored as a comment'",
            "text/latex": "'this is stored as a comment'",
            "text/plain": [
              "[1] \"this is stored as a comment\""
            ]
          },
          "metadata": {}
        }
      ]
    },
    {
      "cell_type": "markdown",
      "source": [
        "Conjuntos de datos en R y paquetes."
      ],
      "metadata": {
        "id": "sntfWAGJHs55"
      }
    },
    {
      "cell_type": "code",
      "source": [
        "data(cars)"
      ],
      "metadata": {
        "id": "18i54n0tHyWn"
      },
      "execution_count": null,
      "outputs": []
    },
    {
      "cell_type": "markdown",
      "source": [
        ".rda files"
      ],
      "metadata": {
        "id": "hCVefHwtH0BF"
      }
    },
    {
      "cell_type": "code",
      "source": [
        "my.df <- data.frame(x = 1:5, y = 5:1)\n",
        "my.df\n",
        "\n",
        "save(my.df, file = \"my-df.rda\")\n"
      ],
      "metadata": {
        "colab": {
          "base_uri": "https://localhost:8080/",
          "height": 272
        },
        "id": "lqBvVDexH2eD",
        "outputId": "2ab64014-9c6f-40d7-f970-bcde9bfc76a0"
      },
      "execution_count": 116,
      "outputs": [
        {
          "output_type": "display_data",
          "data": {
            "text/html": [
              "<table class=\"dataframe\">\n",
              "<caption>A data.frame: 5 × 2</caption>\n",
              "<thead>\n",
              "\t<tr><th scope=col>x</th><th scope=col>y</th></tr>\n",
              "\t<tr><th scope=col>&lt;int&gt;</th><th scope=col>&lt;int&gt;</th></tr>\n",
              "</thead>\n",
              "<tbody>\n",
              "\t<tr><td>1</td><td>5</td></tr>\n",
              "\t<tr><td>2</td><td>4</td></tr>\n",
              "\t<tr><td>3</td><td>3</td></tr>\n",
              "\t<tr><td>4</td><td>2</td></tr>\n",
              "\t<tr><td>5</td><td>1</td></tr>\n",
              "</tbody>\n",
              "</table>\n"
            ],
            "text/markdown": "\nA data.frame: 5 × 2\n\n| x &lt;int&gt; | y &lt;int&gt; |\n|---|---|\n| 1 | 5 |\n| 2 | 4 |\n| 3 | 3 |\n| 4 | 2 |\n| 5 | 1 |\n\n",
            "text/latex": "A data.frame: 5 × 2\n\\begin{tabular}{ll}\n x & y\\\\\n <int> & <int>\\\\\n\\hline\n\t 1 & 5\\\\\n\t 2 & 4\\\\\n\t 3 & 3\\\\\n\t 4 & 2\\\\\n\t 5 & 1\\\\\n\\end{tabular}\n",
            "text/plain": [
              "  x y\n",
              "1 1 5\n",
              "2 2 4\n",
              "3 3 3\n",
              "4 4 2\n",
              "5 5 1"
            ]
          },
          "metadata": {}
        }
      ]
    },
    {
      "cell_type": "markdown",
      "source": [
        ".rds files"
      ],
      "metadata": {
        "id": "rdaLiw6fH6aM"
      }
    },
    {
      "cell_type": "code",
      "source": [
        "saveRDS(my.df, \"my-df.rds\")\n",
        "readRDS(\"my-df.rds\")"
      ],
      "metadata": {
        "colab": {
          "base_uri": "https://localhost:8080/",
          "height": 272
        },
        "id": "5lS8DpRvH6z9",
        "outputId": "4be61bf7-762c-4ccf-fd84-49364ece0f6e"
      },
      "execution_count": 117,
      "outputs": [
        {
          "output_type": "display_data",
          "data": {
            "text/html": [
              "<table class=\"dataframe\">\n",
              "<caption>A data.frame: 5 × 2</caption>\n",
              "<thead>\n",
              "\t<tr><th scope=col>x</th><th scope=col>y</th></tr>\n",
              "\t<tr><th scope=col>&lt;int&gt;</th><th scope=col>&lt;int&gt;</th></tr>\n",
              "</thead>\n",
              "<tbody>\n",
              "\t<tr><td>1</td><td>5</td></tr>\n",
              "\t<tr><td>2</td><td>4</td></tr>\n",
              "\t<tr><td>3</td><td>3</td></tr>\n",
              "\t<tr><td>4</td><td>2</td></tr>\n",
              "\t<tr><td>5</td><td>1</td></tr>\n",
              "</tbody>\n",
              "</table>\n"
            ],
            "text/markdown": "\nA data.frame: 5 × 2\n\n| x &lt;int&gt; | y &lt;int&gt; |\n|---|---|\n| 1 | 5 |\n| 2 | 4 |\n| 3 | 3 |\n| 4 | 2 |\n| 5 | 1 |\n\n",
            "text/latex": "A data.frame: 5 × 2\n\\begin{tabular}{ll}\n x & y\\\\\n <int> & <int>\\\\\n\\hline\n\t 1 & 5\\\\\n\t 2 & 4\\\\\n\t 3 & 3\\\\\n\t 4 & 2\\\\\n\t 5 & 1\\\\\n\\end{tabular}\n",
            "text/plain": [
              "  x y\n",
              "1 1 5\n",
              "2 2 4\n",
              "3 3 3\n",
              "4 4 2\n",
              "5 5 1"
            ]
          },
          "metadata": {}
        }
      ]
    },
    {
      "cell_type": "markdown",
      "source": [
        "Mirando datos"
      ],
      "metadata": {
        "id": "--wP-5ByH_Y-"
      }
    },
    {
      "cell_type": "code",
      "source": [
        "class(cars)\n",
        "\n",
        "nrow(cars)\n",
        "\n",
        "ncol(cars)\n",
        "\n",
        "names(cars)\n",
        "\n",
        "head(cars)\n",
        "\n",
        "tail(cars)\n",
        "\n",
        "str(cars)"
      ],
      "metadata": {
        "colab": {
          "base_uri": "https://localhost:8080/",
          "height": 676
        },
        "id": "SJuPLZDzH_66",
        "outputId": "12aac6a1-03cc-4337-afec-3eb099658e70"
      },
      "execution_count": 118,
      "outputs": [
        {
          "output_type": "display_data",
          "data": {
            "text/html": [
              "'data.frame'"
            ],
            "text/markdown": "'data.frame'",
            "text/latex": "'data.frame'",
            "text/plain": [
              "[1] \"data.frame\""
            ]
          },
          "metadata": {}
        },
        {
          "output_type": "display_data",
          "data": {
            "text/html": [
              "50"
            ],
            "text/markdown": "50",
            "text/latex": "50",
            "text/plain": [
              "[1] 50"
            ]
          },
          "metadata": {}
        },
        {
          "output_type": "display_data",
          "data": {
            "text/html": [
              "2"
            ],
            "text/markdown": "2",
            "text/latex": "2",
            "text/plain": [
              "[1] 2"
            ]
          },
          "metadata": {}
        },
        {
          "output_type": "display_data",
          "data": {
            "text/html": [
              "<style>\n",
              ".list-inline {list-style: none; margin:0; padding: 0}\n",
              ".list-inline>li {display: inline-block}\n",
              ".list-inline>li:not(:last-child)::after {content: \"\\00b7\"; padding: 0 .5ex}\n",
              "</style>\n",
              "<ol class=list-inline><li>'speed'</li><li>'dist'</li></ol>\n"
            ],
            "text/markdown": "1. 'speed'\n2. 'dist'\n\n\n",
            "text/latex": "\\begin{enumerate*}\n\\item 'speed'\n\\item 'dist'\n\\end{enumerate*}\n",
            "text/plain": [
              "[1] \"speed\" \"dist\" "
            ]
          },
          "metadata": {}
        },
        {
          "output_type": "display_data",
          "data": {
            "text/html": [
              "<table class=\"dataframe\">\n",
              "<caption>A data.frame: 6 × 2</caption>\n",
              "<thead>\n",
              "\t<tr><th></th><th scope=col>speed</th><th scope=col>dist</th></tr>\n",
              "\t<tr><th></th><th scope=col>&lt;dbl&gt;</th><th scope=col>&lt;dbl&gt;</th></tr>\n",
              "</thead>\n",
              "<tbody>\n",
              "\t<tr><th scope=row>1</th><td>4</td><td> 2</td></tr>\n",
              "\t<tr><th scope=row>2</th><td>4</td><td>10</td></tr>\n",
              "\t<tr><th scope=row>3</th><td>7</td><td> 4</td></tr>\n",
              "\t<tr><th scope=row>4</th><td>7</td><td>22</td></tr>\n",
              "\t<tr><th scope=row>5</th><td>8</td><td>16</td></tr>\n",
              "\t<tr><th scope=row>6</th><td>9</td><td>10</td></tr>\n",
              "</tbody>\n",
              "</table>\n"
            ],
            "text/markdown": "\nA data.frame: 6 × 2\n\n| <!--/--> | speed &lt;dbl&gt; | dist &lt;dbl&gt; |\n|---|---|---|\n| 1 | 4 |  2 |\n| 2 | 4 | 10 |\n| 3 | 7 |  4 |\n| 4 | 7 | 22 |\n| 5 | 8 | 16 |\n| 6 | 9 | 10 |\n\n",
            "text/latex": "A data.frame: 6 × 2\n\\begin{tabular}{r|ll}\n  & speed & dist\\\\\n  & <dbl> & <dbl>\\\\\n\\hline\n\t1 & 4 &  2\\\\\n\t2 & 4 & 10\\\\\n\t3 & 7 &  4\\\\\n\t4 & 7 & 22\\\\\n\t5 & 8 & 16\\\\\n\t6 & 9 & 10\\\\\n\\end{tabular}\n",
            "text/plain": [
              "  speed dist\n",
              "1 4      2  \n",
              "2 4     10  \n",
              "3 7      4  \n",
              "4 7     22  \n",
              "5 8     16  \n",
              "6 9     10  "
            ]
          },
          "metadata": {}
        },
        {
          "output_type": "display_data",
          "data": {
            "text/html": [
              "<table class=\"dataframe\">\n",
              "<caption>A data.frame: 6 × 2</caption>\n",
              "<thead>\n",
              "\t<tr><th></th><th scope=col>speed</th><th scope=col>dist</th></tr>\n",
              "\t<tr><th></th><th scope=col>&lt;dbl&gt;</th><th scope=col>&lt;dbl&gt;</th></tr>\n",
              "</thead>\n",
              "<tbody>\n",
              "\t<tr><th scope=row>45</th><td>23</td><td> 54</td></tr>\n",
              "\t<tr><th scope=row>46</th><td>24</td><td> 70</td></tr>\n",
              "\t<tr><th scope=row>47</th><td>24</td><td> 92</td></tr>\n",
              "\t<tr><th scope=row>48</th><td>24</td><td> 93</td></tr>\n",
              "\t<tr><th scope=row>49</th><td>24</td><td>120</td></tr>\n",
              "\t<tr><th scope=row>50</th><td>25</td><td> 85</td></tr>\n",
              "</tbody>\n",
              "</table>\n"
            ],
            "text/markdown": "\nA data.frame: 6 × 2\n\n| <!--/--> | speed &lt;dbl&gt; | dist &lt;dbl&gt; |\n|---|---|---|\n| 45 | 23 |  54 |\n| 46 | 24 |  70 |\n| 47 | 24 |  92 |\n| 48 | 24 |  93 |\n| 49 | 24 | 120 |\n| 50 | 25 |  85 |\n\n",
            "text/latex": "A data.frame: 6 × 2\n\\begin{tabular}{r|ll}\n  & speed & dist\\\\\n  & <dbl> & <dbl>\\\\\n\\hline\n\t45 & 23 &  54\\\\\n\t46 & 24 &  70\\\\\n\t47 & 24 &  92\\\\\n\t48 & 24 &  93\\\\\n\t49 & 24 & 120\\\\\n\t50 & 25 &  85\\\\\n\\end{tabular}\n",
            "text/plain": [
              "   speed dist\n",
              "45 23     54 \n",
              "46 24     70 \n",
              "47 24     92 \n",
              "48 24     93 \n",
              "49 24    120 \n",
              "50 25     85 "
            ]
          },
          "metadata": {}
        },
        {
          "output_type": "stream",
          "name": "stdout",
          "text": [
            "'data.frame':\t50 obs. of  2 variables:\n",
            " $ speed: num  4 4 7 7 8 9 10 10 10 11 ...\n",
            " $ dist : num  2 10 4 22 16 10 18 26 34 17 ...\n"
          ]
        }
      ]
    },
    {
      "cell_type": "markdown",
      "source": [
        "Graficos"
      ],
      "metadata": {
        "id": "s5q43PaxIJLw"
      }
    },
    {
      "cell_type": "code",
      "source": [
        "plot(x = cars$speed, y = cars$dist)"
      ],
      "metadata": {
        "colab": {
          "base_uri": "https://localhost:8080/",
          "height": 437
        },
        "id": "u2jOwDjCIKwi",
        "outputId": "cd8cbc18-d88d-4578-c93a-9207f2b2a4d6"
      },
      "execution_count": 119,
      "outputs": [
        {
          "output_type": "display_data",
          "data": {
            "text/plain": [
              "plot without title"
            ],
            "image/png": "[encoded data removed]"
          },
          "metadata": {
            "image/png": {
              "width": 420,
              "height": 420
            }
          }
        }
      ]
    },
    {
      "cell_type": "markdown",
      "source": [
        "Otras lecturas"
      ],
      "metadata": {
        "id": "KGJWHZbyIuMm"
      }
    },
    {
      "cell_type": "code",
      "source": [
        "a <- 1\n",
        "if (a < 0.0) {\n",
        "print(\"'a' is negative\")\n",
        "} else {\n",
        "print(\"'a' is not negative\")\n",
        "}"
      ],
      "metadata": {
        "colab": {
          "base_uri": "https://localhost:8080/"
        },
        "id": "L9xaPqvFI1z_",
        "outputId": "0160b67f-e0a7-43ad-95b3-dc06d0a06694"
      },
      "execution_count": 121,
      "outputs": [
        {
          "output_type": "stream",
          "name": "stdout",
          "text": [
            "[1] \"'a' is not negative\"\n"
          ]
        }
      ]
    },
    {
      "cell_type": "code",
      "source": [
        "my.object <- \"two\"\n",
        "b <- switch(my.object,\n",
        "one = 1,\n",
        "two = 1 / 2,\n",
        "three = 1 / 4,\n",
        "0\n",
        "\n",
        ")\n",
        "b"
      ],
      "metadata": {
        "colab": {
          "base_uri": "https://localhost:8080/",
          "height": 34
        },
        "id": "Tt4ThXBuI5S2",
        "outputId": "ec9ee048-a320-454c-ec74-640dd6699018"
      },
      "execution_count": 122,
      "outputs": [
        {
          "output_type": "display_data",
          "data": {
            "text/html": [
              "0.5"
            ],
            "text/markdown": "0.5",
            "text/latex": "0.5",
            "text/plain": [
              "[1] 0.5"
            ]
          },
          "metadata": {}
        }
      ]
    },
    {
      "cell_type": "markdown",
      "source": [
        "Iteracion\n",
        "for loops"
      ],
      "metadata": {
        "id": "14Wa2oxEI8hK"
      }
    },
    {
      "cell_type": "code",
      "source": [
        "b <- 0\n",
        "for (a in 1:5) b <- b + a\n",
        "b\n",
        "\n",
        "b <- sum(1:5) # built-in function (faster)\n",
        "b"
      ],
      "metadata": {
        "colab": {
          "base_uri": "https://localhost:8080/",
          "height": 52
        },
        "id": "cspLnxUIJBAY",
        "outputId": "5b6bc9cd-317b-40eb-84d5-68ff8367fe15"
      },
      "execution_count": 123,
      "outputs": [
        {
          "output_type": "display_data",
          "data": {
            "text/html": [
              "15"
            ],
            "text/markdown": "15",
            "text/latex": "15",
            "text/plain": [
              "[1] 15"
            ]
          },
          "metadata": {}
        },
        {
          "output_type": "display_data",
          "data": {
            "text/html": [
              "15"
            ],
            "text/markdown": "15",
            "text/latex": "15",
            "text/plain": [
              "[1] 15"
            ]
          },
          "metadata": {}
        }
      ]
    },
    {
      "cell_type": "markdown",
      "source": [
        "Iteracion while loops"
      ],
      "metadata": {
        "id": "YhbHAi1wJGiX"
      }
    },
    {
      "cell_type": "code",
      "source": [
        "a <- 2\n",
        "while (a < 50) {\n",
        "print(a)\n",
        "a <- a^2\n",
        "}\n",
        "\n",
        "print(a)"
      ],
      "metadata": {
        "colab": {
          "base_uri": "https://localhost:8080/"
        },
        "id": "tszMot_GJK30",
        "outputId": "e1c570fb-7638-4922-a6fe-73651461cdf8"
      },
      "execution_count": 124,
      "outputs": [
        {
          "output_type": "stream",
          "name": "stdout",
          "text": [
            "[1] 2\n",
            "[1] 4\n",
            "[1] 16\n",
            "[1] 256\n"
          ]
        }
      ]
    },
    {
      "cell_type": "markdown",
      "source": [
        "Nombres de objetos y cadenas de caracteres."
      ],
      "metadata": {
        "id": "f6QUHjoSJRov"
      }
    },
    {
      "cell_type": "code",
      "source": [
        "assign(\"a\", 9.99)\n",
        "a\n",
        "name.of.var <- \"b\"\n",
        "assign(name.of.var, 9.99)\n",
        "b"
      ],
      "metadata": {
        "colab": {
          "base_uri": "https://localhost:8080/",
          "height": 52
        },
        "id": "vj5iMroBJTS8",
        "outputId": "e7dbf869-100a-4d18-ca27-9f9c94b49a27"
      },
      "execution_count": 125,
      "outputs": [
        {
          "output_type": "display_data",
          "data": {
            "text/html": [
              "9.99"
            ],
            "text/markdown": "9.99",
            "text/latex": "9.99",
            "text/plain": [
              "[1] 9.99"
            ]
          },
          "metadata": {}
        },
        {
          "output_type": "display_data",
          "data": {
            "text/html": [
              "9.99"
            ],
            "text/markdown": "9.99",
            "text/latex": "9.99",
            "text/plain": [
              "[1] 9.99"
            ]
          },
          "metadata": {}
        }
      ]
    }
  ]
}