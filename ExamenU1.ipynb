{
  "nbformat": 4,
  "nbformat_minor": 0,
  "metadata": {
    "colab": {
      "provenance": [],
      "authorship_tag": "ABX9TyPSD2sTrf+VU1RZtTEqGJAA",
      "include_colab_link": true
    },
    "kernelspec": {
      "name": "python3",
      "display_name": "Python 3"
    },
    "language_info": {
      "name": "python"
    }
  },
  "cells": [
    {
      "cell_type": "markdown",
      "metadata": {
        "id": "view-in-github",
        "colab_type": "text"
      },
      "source": [
        "<a href=\"https://colab.research.google.com/github/madelavi/Proteccion_de_Datos/blob/main/ExamenU1.ipynb\" target=\"_parent\"><img src=\"https://colab.research.google.com/assets/colab-badge.svg\" alt=\"Open In Colab\"/></a>"
      ]
    },
    {
      "cell_type": "code",
      "execution_count": 23,
      "metadata": {
        "id": "EduWKte5fGD6"
      },
      "outputs": [],
      "source": [
        "import math\n",
        "import random\n",
        "import string\n"
      ]
    },
    {
      "cell_type": "code",
      "source": [
        "def primo(n):\n",
        "  if n < 2:\n",
        "    return False\n",
        "  for i in range (2,int(n**0.5)+1,2):\n",
        "    if n % i ==0:\n",
        "      return False\n",
        "  return True\n",
        "\n",
        "if __name__=='__main__':\n",
        "  valor=int(input('Introduce un numero entero:'))\n",
        "  if primo(valor):\n",
        "    print(f'VERDADERO, {valor} es numero primo')\n",
        "  else:\n",
        "    print(f'FALSO, {valor} no es numero primo')"
      ],
      "metadata": {
        "colab": {
          "base_uri": "https://localhost:8080/"
        },
        "id": "4qVUPmN9-8SB",
        "outputId": "ff50db04-5ac1-4ecd-d59c-6f28e457d3b5"
      },
      "execution_count": 13,
      "outputs": [
        {
          "output_type": "stream",
          "name": "stdout",
          "text": [
            "Introduce un numero entero:3\n",
            "VERDADERO, 3 es numero primo\n"
          ]
        }
      ]
    },
    {
      "cell_type": "code",
      "source": [
        "def next_primo(n):\n",
        "    sig_primo = n + 1\n",
        "    while True:\n",
        "        if primo(sig_primo):\n",
        "            return sig_primo\n",
        "        sig_primo += 1\n",
        "\n",
        "if __name__=='__main__':\n",
        "  valor = int(input(\"Ingrese un número entero: \"))\n",
        "  siguiente_primo = next_primo(valor)\n",
        "  print(f\"El primer número primo mayor que {valor} es: {siguiente_primo}\")\n"
      ],
      "metadata": {
        "colab": {
          "base_uri": "https://localhost:8080/"
        },
        "id": "mMhXcCyOJwlr",
        "outputId": "20aacc28-d34c-4c18-f811-f59fe0df9271"
      },
      "execution_count": 20,
      "outputs": [
        {
          "output_type": "stream",
          "name": "stdout",
          "text": [
            "Ingrese un número entero: 9\n",
            "El primer número primo mayor que 9 es: 11\n"
          ]
        }
      ]
    },
    {
      "cell_type": "code",
      "source": [
        "def mediana(a,b,c):\n",
        "   valores = [a,b,c]\n",
        "   valores.sort()\n",
        "   return valores[1]\n",
        "\n",
        "if __name__=='__main__':\n",
        "    a = float(input(\"Ingrese el primer número: \"))\n",
        "    b = float(input(\"Ingrese el segundo número: \"))\n",
        "    c = float(input(\"Ingrese el tercer número: \"))\n",
        "\n",
        "    mediana = mediana(a,b,c)\n",
        "    print(f\"La mediana de los números ingresados es: {mediana}\")\n"
      ],
      "metadata": {
        "colab": {
          "base_uri": "https://localhost:8080/"
        },
        "id": "zUE8KotrLmYc",
        "outputId": "85886f6b-2831-45c8-a273-4d5bffa5eaa0"
      },
      "execution_count": 36,
      "outputs": [
        {
          "output_type": "stream",
          "name": "stdout",
          "text": [
            "Ingrese el primer número: 7\n",
            "Ingrese el segundo número: 8\n",
            "Ingrese el tercer número: 9\n",
            "La mediana de los números ingresados es: 8.0\n"
          ]
        }
      ]
    },
    {
      "cell_type": "code",
      "source": [
        "def Contrasena():\n",
        "    longitud = random.randint(7, 10)\n",
        "    contrasena = \"\"\n",
        "    for _ in range(longitud):\n",
        "        caracter = chr(random.randint(33, 126))\n",
        "        contrasena += caracter\n",
        "    return contrasena\n",
        "\n",
        "if __name__ == \"__main__\":\n",
        "    password_generada = Contrasena()\n",
        "    print(f\"La contraseña generada es: {password_generada}\")"
      ],
      "metadata": {
        "colab": {
          "base_uri": "https://localhost:8080/"
        },
        "id": "Qfrbq7N2OMMN",
        "outputId": "7b81774e-0b0f-49a9-a3ca-0f876879b22b"
      },
      "execution_count": 41,
      "outputs": [
        {
          "output_type": "stream",
          "name": "stdout",
          "text": [
            "La contraseña generada es: \\R^|}Dy*E\n"
          ]
        }
      ]
    },
    {
      "cell_type": "code",
      "source": [
        "def calc_hipotenusa(a,b):\n",
        "    hipotenusa = math.sqrt(a**2 + b**2)\n",
        "    return hipotenusa\n",
        "\n",
        "if __name__=='__main__':\n",
        "  lado_a = float(input(\"Ingrese la longitud del lado a: \"))\n",
        "  lado_b = float(input(\"Ingrese la longitud del lado b: \"))\n",
        "\n",
        "  hip = calc_hipotenusa(lado_a, lado_b)\n",
        "  print(f\"La longitud de la hipotenusa es: {hip}\")"
      ],
      "metadata": {
        "colab": {
          "base_uri": "https://localhost:8080/"
        },
        "id": "TXIIQdJROql2",
        "outputId": "bbc031d9-5906-4a1b-f387-d8f974f56380"
      },
      "execution_count": 43,
      "outputs": [
        {
          "output_type": "stream",
          "name": "stdout",
          "text": [
            "Ingrese la longitud del lado a: 8\n",
            "Ingrese la longitud del lado b: 12\n",
            "La longitud de la hipotenusa es: 14.422205101855956\n"
          ]
        }
      ]
    }
  ]
}