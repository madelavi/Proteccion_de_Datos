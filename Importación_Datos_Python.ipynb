{
  "nbformat": 4,
  "nbformat_minor": 0,
  "metadata": {
    "colab": {
      "provenance": [],
      "authorship_tag": "ABX9TyOuMveCr7pmMjLb6OmDCLFl",
      "include_colab_link": true
    },
    "kernelspec": {
      "name": "python3",
      "display_name": "Python 3"
    },
    "language_info": {
      "name": "python"
    }
  },
  "cells": [
    {
      "cell_type": "markdown",
      "metadata": {
        "id": "view-in-github",
        "colab_type": "text"
      },
      "source": [
        "<a href=\"https://colab.research.google.com/github/madelavi/Proteccion_de_Datos/blob/main/Importaci%C3%B3n_Datos_Python.ipynb\" target=\"_parent\"><img src=\"https://colab.research.google.com/assets/colab-badge.svg\" alt=\"Open In Colab\"/></a>"
      ]
    },
    {
      "cell_type": "markdown",
      "source": [
        "# Ejercicio 1\n",
        "### Abrir archivos"
      ],
      "metadata": {
        "id": "eNIb-jiLOvQY"
      }
    },
    {
      "cell_type": "markdown",
      "source": [
        "Abrir un archivo en Python es muy simple. Solo necesitamos usar la función open()."
      ],
      "metadata": {
        "id": "5P_GmEmUgyDq"
      }
    },
    {
      "cell_type": "code",
      "source": [
        "# abrir_archivos.py\n",
        "fh = open('fear.txt', 'rt') # r: leer, t: texto\n",
        "\n",
        "for line in fh.readlines():\n",
        "  print(line.strip()) # eliminar espacios en blanco e imprimir\n",
        "\n",
        "fh.close()"
      ],
      "metadata": {
        "colab": {
          "base_uri": "https://localhost:8080/"
        },
        "id": "qZmmJUvDO1DP",
        "outputId": "5e296e88-e71e-44f1-90f5-01d2a51bd539"
      },
      "execution_count": null,
      "outputs": [
        {
          "output_type": "stream",
          "name": "stdout",
          "text": [
            "An excerpt from Fear - By Thich Nhat Hanh\n",
            "\n",
            "The Present Is Free from Fear\n",
            "\n",
            "When we are not fully present, we are not really living. We’re not really there, either for our loved ones or for ourselves. If we’re not there, then where are we? We are running, running, running, even during our sleep. We run because we’re trying to escape from our fear.\n",
            "\n",
            "We cannot enjoy life if we spend our time and energy worrying about what happened yesterday and what will happen tomorrow. If we’re afraid all the time, we miss out on the wonderful fact that we’re alive and can be happy right now. In everyday life, we tend to believe that happiness is only possible in the future. We’re always looking for the “right” conditions that we don’t yet have to make us happy. We ignore what is happening right in front of us. We look for something that will make us feel more solid, more safe, more secure. But we’re afraid all the time of what the future will bring—afraid we’ll lose our jobs, our possessions, the people around us whom we love. So we wait and hope for that magical moment—always sometime in the future—when everything will be as we want it to be. We forget that life is available only in the present moment. The Buddha said, “It is possible to live happily in the present moment. It is the only moment we have.”\n"
          ]
        }
      ]
    },
    {
      "cell_type": "markdown",
      "source": [
        "En el código anterior llamamos a open(), pasándole el nombre del archivo, e indicando a open() que queremos leerlo en modo texto. No hay información de ruta antes del nombre del archivo; por lo tanto, open() asumirá que el archivo está en la misma carpeta desde donde se ejecuta el script. Esto significa que si ejecutamos este script desde fuera de la carpeta de archivos, entonces fear.txt no será encontrado.\n",
        "\n",
        "Una vez que el archivo ha sido abierto, obtenemos de vuelta un objeto de archivo, fh, que podemos utilizar para trabajar en el contenido del archivo. En este caso, utilizamos el método readlines() para iterar sobre todas las líneas en el archivo y luego imprimirlas. Llamamos a strip() en cada línea para eliminar cualquier espacio adicional alrededor del contenido, incluido el carácter de terminación de línea al final, ya que print ya agregará uno por nosotros.\n",
        "\n",
        "\n",
        "\n",
        "Podemos simplificar aún más el ejemplo anterior de la siguiente manera:"
      ],
      "metadata": {
        "id": "ccbQ3uitg95u"
      }
    },
    {
      "cell_type": "code",
      "source": [
        "# abrir_archivos_2.py\n",
        "fh = open('fear.txt') # rt esta predeterminado\n",
        "try:\n",
        "  for line in fh: # podemos iterar directamente en fh\n",
        "    print(line.strip())\n",
        "finally:\n",
        "  fh.close()"
      ],
      "metadata": {
        "colab": {
          "base_uri": "https://localhost:8080/"
        },
        "id": "Csla2a1NRi1Y",
        "outputId": "3265f66a-deee-43e8-d152-2be28afa68ad"
      },
      "execution_count": null,
      "outputs": [
        {
          "output_type": "stream",
          "name": "stdout",
          "text": [
            "An excerpt from Fear - By Thich Nhat Hanh\n",
            "\n",
            "The Present Is Free from Fear\n",
            "\n",
            "When we are not fully present, we are not really living. We’re not really there, either for our loved ones or for ourselves. If we’re not there, then where are we? We are running, running, running, even during our sleep. We run because we’re trying to escape from our fear.\n",
            "\n",
            "We cannot enjoy life if we spend our time and energy worrying about what happened yesterday and what will happen tomorrow. If we’re afraid all the time, we miss out on the wonderful fact that we’re alive and can be happy right now. In everyday life, we tend to believe that happiness is only possible in the future. We’re always looking for the “right” conditions that we don’t yet have to make us happy. We ignore what is happening right in front of us. We look for something that will make us feel more solid, more safe, more secure. But we’re afraid all the time of what the future will bring—afraid we’ll lose our jobs, our possessions, the people around us whom we love. So we wait and hope for that magical moment—always sometime in the future—when everything will be as we want it to be. We forget that life is available only in the present moment. The Buddha said, “It is possible to live happily in the present moment. It is the only moment we have.”\n"
          ]
        }
      ]
    },
    {
      "cell_type": "markdown",
      "source": [
        "# Ejercicio 2\n",
        "### Leer y escribir en un archivo"
      ],
      "metadata": {
        "id": "ohB-pyOgRWnq"
      }
    },
    {
      "cell_type": "code",
      "source": [
        "# leer/escribir_archivos.py\n",
        "with open('fear.txt') as f:\n",
        "  lines = [line.rstrip() for line in f]\n",
        "with open('fear_copy.txt', 'w') as fw:\n",
        "  fw.write('\\n'.join(lines))"
      ],
      "metadata": {
        "id": "NHNvps_WS7H1"
      },
      "execution_count": null,
      "outputs": []
    },
    {
      "cell_type": "markdown",
      "source": [
        "En este ejemplo, primero abrimos el archivo fear.txt y recopilamos su contenido en una lista, línea por línea. Observa que esta vez, estamos usando un método diferente, rstrip(), como ejemplo, para asegurarnos de que solo eliminamos los espacios en blanco del lado derecho de cada línea.\n",
        "\n",
        "En la segunda parte del fragmento, creamos un nuevo archivo, fear_copy.txt, y escribimos en él todas las líneas del archivo original, unidas por un salto de línea, \\n."
      ],
      "metadata": {
        "id": "6z9F685jhsGM"
      }
    },
    {
      "cell_type": "markdown",
      "source": [
        "# Ejercicio 3\n",
        "### Manipulación de archivos y directorios."
      ],
      "metadata": {
        "id": "O3Mf_k0xTWJJ"
      }
    },
    {
      "cell_type": "code",
      "source": [
        "# manipulación_archivos_directorios.py\n",
        "from collections import Counter\n",
        "from string import ascii_letters\n",
        "chars = ascii_letters + ' '\n",
        "def sanitize(s, chars):\n",
        "  return ''.join(c for c in s if c in chars)\n",
        "def reverse(s):\n",
        "  return s[::-1]\n",
        "with open('fear.txt') as stream:\n",
        "  lines = [line.rstrip() for line in stream]\n",
        "# escribamos la versión reflejada del archivo\n",
        "with open('raef.txt', 'w') as stream:\n",
        "  stream.write('\\n'.join(reverse(line) for line in lines))\n",
        "# ahora podemos calcular algunas estadísticas\n",
        "lines = [sanitize(line, chars) for line in lines]\n",
        "whole = ' '.join(lines)\n",
        "# Realizamos comparaciones en la versión en minúsculas de 'todo'.\n",
        "cnt = Counter(whole.lower().split())\n",
        "# podemos imprimir las N palabras más comunes\n",
        "print(cnt.most_common(3))"
      ],
      "metadata": {
        "colab": {
          "base_uri": "https://localhost:8080/"
        },
        "id": "cJTigFNQTVVT",
        "outputId": "ec8df079-0b70-475f-ec20-9b862ff276e6"
      },
      "execution_count": null,
      "outputs": [
        {
          "output_type": "stream",
          "name": "stdout",
          "text": [
            "[('we', 17), ('the', 13), ('were', 7)]\n"
          ]
        }
      ]
    },
    {
      "cell_type": "markdown",
      "source": [
        "Este ejemplo define dos funciones: sanitize() y reverse(). Son funciones simples cuyo propósito es eliminar cualquier cosa que no sea una letra o un espacio de una cadena, y producir una copia invertida de una cadena, respectivamente.\n",
        "\n",
        "Abrimos fear.txt y leemos su contenido en una lista. Luego creamos un nuevo archivo, raef.txt, que contendrá la versión reflejada horizontalmente del original. Escribimos todo el contenido de las líneas con una sola operación, utilizando join con un carácter de salto de línea. Quizás lo más interesante es la parte al final. Primero, reasignamos lines a una versión sanitizada de sí misma mediante una comprensión de lista. Luego juntamos las líneas en la cadena completa y, finalmente, pasamos el resultado a un objeto Counter. Observa que dividimos la versión en minúsculas de la cadena en una lista de palabras. De esta manera, cada palabra se contará correctamente, independientemente de su caso, y gracias a split(), no necesitamos preocuparnos por espacios adicionales en ninguna parte. Cuando imprimimos las tres palabras más comunes, nos damos cuenta de que, realmente, el enfoque de Thich Nhat Hanh está en los demás, ya que \"we\" (nosotros) es la palabra más común en el texto.\n",
        "\n",
        "\n",
        "\n",
        "\n",
        "\n"
      ],
      "metadata": {
        "id": "Qg-DMCwzvVFk"
      }
    },
    {
      "cell_type": "markdown",
      "source": [
        "# Ejercicio 4\n",
        "### Manipular nombres de rutas"
      ],
      "metadata": {
        "id": "7kxY6MlFUm57"
      }
    },
    {
      "cell_type": "code",
      "source": [
        "# manipular_nombres_rutas.py\n",
        "from pathlib import Path\n",
        "\n",
        "p = Path('fear.txt')\n",
        "\n",
        "print(p.absolute())\n",
        "print(p.name)\n",
        "print(p.parent.absolute())\n",
        "print(p.suffix)\n",
        "\n",
        "print(p.parts)\n",
        "print(p.absolute().parts)\n",
        "\n",
        "readme_path = p.parent / '..' / '..' / 'README.rst'\n",
        "print(readme_path.absolute())\n",
        "print(readme_path.resolve())"
      ],
      "metadata": {
        "colab": {
          "base_uri": "https://localhost:8080/"
        },
        "id": "lHi7Od3HUpxz",
        "outputId": "153f6c0a-62b2-4c63-a0bb-4b103fad30bf"
      },
      "execution_count": null,
      "outputs": [
        {
          "output_type": "stream",
          "name": "stdout",
          "text": [
            "/content/fear.txt\n",
            "fear.txt\n",
            "/content\n",
            ".txt\n",
            "('fear.txt',)\n",
            "('/', 'content', 'fear.txt')\n",
            "/content/../../README.rst\n",
            "/README.rst\n"
          ]
        }
      ]
    },
    {
      "cell_type": "markdown",
      "source": [
        "Observa cómo, en las dos últimas líneas, tenemos dos representaciones diferentes del mismo camino. La primera (readme_path.absolute()) muestra dos '..', de los cuales, en términos de ruta, uno indica cambiar al directorio padre. Entonces, al cambiar al directorio padre dos veces seguidas, desde .../lpp3e/ch08/files/ regresamos a .../lpp3e/. Esto se confirma con la última línea del ejemplo, que muestra la salida de readme_path.resolve()."
      ],
      "metadata": {
        "id": "lezdjaP9wBB4"
      }
    },
    {
      "cell_type": "markdown",
      "source": [
        "# Ejercicio 5\n",
        "### Trabaja con JSON"
      ],
      "metadata": {
        "id": "f1OEWnxMWngJ"
      }
    },
    {
      "cell_type": "markdown",
      "source": [
        "JSON se basa en dos estructuras: una colección de pares de nombre/valor, y una lista ordenada de valores. Es bastante sencillo darse cuenta de que estos dos objetos se mapean a los tipos de datos dict y list en Python, respectivamente."
      ],
      "metadata": {
        "id": "ykSNLoFhwoL2"
      }
    },
    {
      "cell_type": "code",
      "source": [
        "# JSON.py\n",
        "import sys\n",
        "import json\n",
        "data = {\n",
        "'big_number': 2 ** 3141,\n",
        "'max_float': sys.float_info.max,\n",
        "'a_list': [2, 3, 5, 7],\n",
        "}\n",
        "json_data = json.dumps(data)\n",
        "data_out = json.loads(json_data)\n",
        "assert data == data_out # json y viceversa, los datos coinciden"
      ],
      "metadata": {
        "id": "E6hd7vMiWrbb"
      },
      "execution_count": null,
      "outputs": []
    },
    {
      "cell_type": "markdown",
      "source": [
        "Comenzamos importando los módulos sys y json. Luego creamos un diccionario simple con algunos números y una lista. Queríamos probar la serialización y deserialización utilizando números muy grandes, tanto enteros como de punto flotante, así que colocamos 23141 y el número de punto flotante más grande que nuestro sistema pueda manejar.\n",
        "\n",
        "Serializamos con json.dumps(), que toma los datos y los convierte en una cadena con formato JSON. Luego, esa cadena de datos se introduce en json.loads(), que hace lo contrario: a partir de una cadena con formato JSON, reconstruye los datos en Python. En la última línea, nos aseguramos de que los datos originales y el resultado de la serialización/deserialización a través de JSON coincidan."
      ],
      "metadata": {
        "id": "pf-WI0OqD2gV"
      }
    },
    {
      "cell_type": "markdown",
      "source": [
        "Veamos cómo se verían los datos JSON si los imprimiésemos:"
      ],
      "metadata": {
        "id": "yjnJFvegXRKK"
      }
    },
    {
      "cell_type": "code",
      "source": [
        "#JSON.2.py\n",
        "import json\n",
        "info = {\n",
        "'full_name': 'Sherlock Holmes',\n",
        "'address': {\n",
        "'street': '221B Baker St',\n",
        "'zip': 'NW1 6XE',\n",
        "'city': 'London',\n",
        "'country': 'UK',\n",
        "}\n",
        "}\n",
        "print(json.dumps(info, indent=2, sort_keys=True))"
      ],
      "metadata": {
        "colab": {
          "base_uri": "https://localhost:8080/"
        },
        "id": "ZI01T7awXM-q",
        "outputId": "16981f26-3ad5-44eb-f7dd-3d354a75c8fe"
      },
      "execution_count": null,
      "outputs": [
        {
          "output_type": "stream",
          "name": "stdout",
          "text": [
            "{\n",
            "  \"address\": {\n",
            "    \"city\": \"London\",\n",
            "    \"country\": \"UK\",\n",
            "    \"street\": \"221B Baker St\",\n",
            "    \"zip\": \"NW1 6XE\"\n",
            "  },\n",
            "  \"full_name\": \"Sherlock Holmes\"\n",
            "}\n"
          ]
        }
      ]
    },
    {
      "cell_type": "markdown",
      "source": [
        "# Ejercicio 6\n",
        "## Codificación/decodificación personalizada con JSON"
      ],
      "metadata": {
        "id": "Ys7nhf0gXaFm"
      }
    },
    {
      "cell_type": "markdown",
      "source": [
        "Términos como codificación/decodificación, básicamente, significan transformar hacia y desde JSON.\n",
        "\n",
        "En el siguiente ejemplo, vamos a aprender cómo codificar números complejos, que por defecto no son serializables a JSON, escribiendo un codificador personalizado:"
      ],
      "metadata": {
        "id": "C2Os0CjuD-TB"
      }
    },
    {
      "cell_type": "code",
      "source": [
        "# codificacion/ decodificacion_JSON.py\n",
        "import json\n",
        "class ComplexEncoder(json.JSONEncoder):\n",
        "  def default(self, obj):\n",
        "\n",
        "      print(f\"ComplexEncoder.default: {obj=}\")\n",
        "      if isinstance(obj, complex):\n",
        "         return {\n",
        "              '_meta': '_complex',\n",
        "              'num': [obj.real, obj.imag],\n",
        "}\n",
        "      return super().default(obj)\n",
        "\n",
        "data = {\n",
        "    'an_int': 42,\n",
        "    'a_float': 3.14159265,\n",
        "    'a_complex': 3 + 4j,\n",
        "}\n",
        "\n",
        "json_data = json.dumps(data, cls=ComplexEncoder)\n",
        "print(json_data)\n",
        "\n",
        "def object_hook(obj):\n",
        "    print(f\"object_hook: {obj=}\")\n",
        "    try:\n",
        "        if obj['_meta'] == '_complex':\n",
        "            return complex(*obj['num'])\n",
        "    except KeyError:\n",
        "        return obj\n",
        "\n",
        "data_out = json.loads(json_data, object_hook=object_hook)\n",
        "print(data_out)"
      ],
      "metadata": {
        "colab": {
          "base_uri": "https://localhost:8080/"
        },
        "id": "BCRKaP81Xe5S",
        "outputId": "bd0f9fa6-80a6-4039-aed9-5b6505b3cbe7"
      },
      "execution_count": null,
      "outputs": [
        {
          "output_type": "stream",
          "name": "stdout",
          "text": [
            "ComplexEncoder.default: obj=(3+4j)\n",
            "{\"an_int\": 42, \"a_float\": 3.14159265, \"a_complex\": {\"_meta\": \"_complex\", \"num\": [3.0, 4.0]}}\n",
            "object_hook: obj={'_meta': '_complex', 'num': [3.0, 4.0]}\n",
            "object_hook: obj={'an_int': 42, 'a_float': 3.14159265, 'a_complex': (3+4j)}\n",
            "{'an_int': 42, 'a_float': 3.14159265, 'a_complex': (3+4j)}\n"
          ]
        }
      ]
    },
    {
      "cell_type": "markdown",
      "source": [
        "Comenzamos definiendo una clase ComplexEncoder como una subclase de la clase JSONEncoder. Nuestra clase anula el método default. Este método se llama cada vez que el codificador encuentra un objeto que no puede codificar y se espera que devuelva una representación codificable de ese objeto.\n",
        "\n",
        "\n",
        "Nuestro método default() verifica si su argumento es un objeto complejo, en cuyo caso devuelve un diccionario con alguna información meta personalizada y una lista que contiene tanto la parte real como la imaginaria del número. Eso es todo lo que necesitamos hacer para evitar perder información para un número complejo. Si recibimos algo que no sea una instancia de complejo, llamamos al método default() de la clase padre, que simplemente genera un TypeError. Luego llamamos a json.dumps(), pero esta vez usamos el argumento cls para especificar nuestro codificador personalizado."
      ],
      "metadata": {
        "id": "ZH5x5sj5EMbV"
      }
    },
    {
      "cell_type": "markdown",
      "source": [
        "# Ejercicio 7\n",
        "### Usando un flujo en memoria"
      ],
      "metadata": {
        "id": "W4-CFVP0xU-l"
      }
    },
    {
      "cell_type": "markdown",
      "source": [
        "Los objetos en memoria pueden ser útiles en una multitud de situaciones. La memoria es mucho más rápida que un disco, está siempre disponible y para pequeñas cantidades de datos puede ser la elección perfecta."
      ],
      "metadata": {
        "id": "H48nIqTgx8JP"
      }
    },
    {
      "cell_type": "code",
      "source": [
        "# flujo_memoria.py\n",
        "import io\n",
        "stream = io.StringIO()\n",
        "stream.write('Learning Python Programming.\\n')\n",
        "print('Become a Python ninja!', file=stream)\n",
        "contents = stream.getvalue()\n",
        "print(contents)\n",
        "stream.close()"
      ],
      "metadata": {
        "colab": {
          "base_uri": "https://localhost:8080/"
        },
        "id": "YgiF_fbpxnE_",
        "outputId": "a663aa9a-65f9-4dce-b42f-bd3750539449"
      },
      "execution_count": null,
      "outputs": [
        {
          "output_type": "stream",
          "name": "stdout",
          "text": [
            "Learning Python Programming.\n",
            "Become a Python ninja!\n",
            "\n"
          ]
        }
      ]
    },
    {
      "cell_type": "markdown",
      "source": [
        "En el fragmento de código anterior, importamos el módulo io de la biblioteca estándar. Este es un módulo muy interesante que cuenta con muchas herramientas relacionadas con flujos de datos y entrada/salida. Uno de ellos es StringIO, que es un búfer en memoria en el que vamos a escribir dos oraciones, utilizando dos métodos diferentes, como hicimos con archivos en los primeros ejemplos de este capítulo. Podemos llamar a StringIO.write() o podemos usar print, indicándole que dirija los datos a nuestro flujo.\n",
        "\n",
        "Al llamar a getvalue(), podemos obtener el contenido del flujo. Luego procedemos a imprimirlo y, finalmente, lo cerramos. La llamada a close() hace que el búfer de texto se descarte inmediatamente."
      ],
      "metadata": {
        "id": "F0I9BtQ1yPkB"
      }
    },
    {
      "cell_type": "markdown",
      "source": [
        "# Ejercicio 8\n",
        "### Realizar solicitudes HTTP"
      ],
      "metadata": {
        "id": "arxX01yIZ1zx"
      }
    },
    {
      "cell_type": "markdown",
      "source": [
        "Vamos a realizar solicitudes HTTP contra la API de httpbin.org (http://httpbin.org/),"
      ],
      "metadata": {
        "id": "7WfWL_WjElOj"
      }
    },
    {
      "cell_type": "code",
      "source": [
        "# solicitudes_HTTP.py\n",
        "import requests\n",
        "urls = {\n",
        "    \"get\": \"https://httpbin.org/get?t=learn+python+programming\",\n",
        "    \"headers\": \"https://httpbin.org/headers\",\n",
        "    \"ip\": \"https://httpbin.org/ip\",\n",
        "    \"user-agent\": \"https://httpbin.org/user-agent\",\n",
        "    \"UUID\": \"https://httpbin.org/uuid\",\n",
        "    \"JSON\": \"https://httpbin.org/json\",\n",
        "}\n",
        "\n",
        "def get_content(title, url):\n",
        "    resp = requests.get(url)\n",
        "    print(f\"Response for {title}\")\n",
        "    print(resp.json())\n",
        "\n",
        "for title, url in urls.items():\n",
        "    get_content(title, url)\n",
        "    print(\"-\" * 40)"
      ],
      "metadata": {
        "colab": {
          "base_uri": "https://localhost:8080/"
        },
        "id": "ZUMcpe5XZ8w2",
        "outputId": "032357e0-0378-48d9-f671-f60819f8fc29"
      },
      "execution_count": null,
      "outputs": [
        {
          "output_type": "stream",
          "name": "stdout",
          "text": [
            "Response for get\n",
            "{'args': {'t': 'learn python programming'}, 'headers': {'Accept': '*/*', 'Accept-Encoding': 'gzip, deflate', 'Host': 'httpbin.org', 'User-Agent': 'python-requests/2.31.0', 'X-Amzn-Trace-Id': 'Root=1-6501629e-30b42b966b23c85335913758'}, 'origin': '35.201.243.28', 'url': 'https://httpbin.org/get?t=learn+python+programming'}\n",
            "----------------------------------------\n",
            "Response for headers\n",
            "{'headers': {'Accept': '*/*', 'Accept-Encoding': 'gzip, deflate', 'Host': 'httpbin.org', 'User-Agent': 'python-requests/2.31.0', 'X-Amzn-Trace-Id': 'Root=1-6501629f-75729d602e3068bb3d377b54'}}\n",
            "----------------------------------------\n",
            "Response for ip\n",
            "{'origin': '35.201.243.28'}\n",
            "----------------------------------------\n",
            "Response for user-agent\n",
            "{'user-agent': 'python-requests/2.31.0'}\n",
            "----------------------------------------\n",
            "Response for UUID\n",
            "{'uuid': 'd0041a31-5729-4326-82a1-88012aa7098c'}\n",
            "----------------------------------------\n",
            "Response for JSON\n",
            "{'slideshow': {'author': 'Yours Truly', 'date': 'date of publication', 'slides': [{'title': 'Wake up to WonderWidgets!', 'type': 'all'}, {'items': ['Why <em>WonderWidgets</em> are great', 'Who <em>buys</em> WonderWidgets'], 'title': 'Overview', 'type': 'all'}], 'title': 'Sample Slide Show'}}\n",
            "----------------------------------------\n"
          ]
        }
      ]
    },
    {
      "cell_type": "markdown",
      "source": [
        "Declaramos un diccionario de URLs contra las cuales queremos realizar solicitudes HTTP. Hemos encapsulado el código que realiza la solicitud en una pequeña función, get_content(). Como puedes ver, realizamos una solicitud GET (usando requests.get()) e imprimimos el título y la versión JSON decodificada del cuerpo de la respuesta.\n",
        "\n",
        "Al final, ejecutamos un bucle for y obtenemos todas las URL."
      ],
      "metadata": {
        "id": "QzpiBGwDEudG"
      }
    },
    {
      "cell_type": "markdown",
      "source": [
        "# Ejercicio 9\n",
        "### Serializar datos con pickle"
      ],
      "metadata": {
        "id": "PeOmkChGagnz"
      }
    },
    {
      "cell_type": "markdown",
      "source": [
        "Existen algunas preocupaciones de seguridad importantes que debes tener en cuenta si estás considerando usar pickle. Desempaquetar datos erróneos o maliciosos de una fuente no confiable puede ser peligroso, por lo que si decidimos adoptarlo en nuestra aplicación, necesitamos ser extremadamente cuidadosos."
      ],
      "metadata": {
        "id": "9KKktew9Guh3"
      }
    },
    {
      "cell_type": "code",
      "source": [
        "# serializar_datos_pickle.py\n",
        "import pickle\n",
        "from dataclasses import dataclass\n",
        "\n",
        "@dataclass\n",
        "class Person:\n",
        "      first_name: str\n",
        "      last_name: str\n",
        "      id: int\n",
        "\n",
        "      def greet(self):\n",
        "        print(f'Hi, I am {self.first_name} {self.last_name}'\n",
        "          f' and my ID is {self.id}')\n",
        "\n",
        "people = [\n",
        "    Person('Obi-Wan', 'Kenobi', 123),\n",
        "    Person('Anakin', 'Skywalker', 456),\n",
        "]\n",
        "\n",
        "# guardar datos en formato binario en un archivo\n",
        "with open('data.pickle', 'wb') as stream:\n",
        "    pickle.dump(people, stream)\n",
        "\n",
        "# cargar datos desde un archivo\n",
        "with open('data.pickle', 'rb') as stream:\n",
        "    peeps = pickle.load(stream)\n",
        "\n",
        "for person in peeps:\n",
        "  person.greet()"
      ],
      "metadata": {
        "colab": {
          "base_uri": "https://localhost:8080/"
        },
        "id": "s6JCPq4pamdM",
        "outputId": "9eb454aa-f689-42ba-d00c-a4578b9e51aa"
      },
      "execution_count": null,
      "outputs": [
        {
          "output_type": "stream",
          "name": "stdout",
          "text": [
            "Hi, I am Obi-Wan Kenobi and my ID is 123\n",
            "Hi, I am Anakin Skywalker and my ID is 456\n"
          ]
        }
      ]
    },
    {
      "cell_type": "markdown",
      "source": [
        "En este ejemplo, creamos una clase Person utilizando el decorador dataclass, La clase tiene tres atributos: first_name, last_name, e id. También expone un método greet(), que simplemente imprime un mensaje de saludo con los datos.\n",
        "\n",
        "Creamos una lista de instancias y la guardamos en un archivo. Para hacerlo, utilizamos pickle.dump(), a la cual le proporcionamos el contenido que queremos serializar, y el flujo en el cual queremos escribir. Inmediatamente después, leemos de ese mismo archivo, utilizando pickle.load() para convertir todo el contenido del flujo de vuelta en objetos de Python. Para asegurarnos de que los objetos se han convertido correctamente, llamamos al método greet() en ambos."
      ],
      "metadata": {
        "id": "0hH-UPvpFwUb"
      }
    },
    {
      "cell_type": "markdown",
      "source": [
        "# Ejercicio 10\n",
        "### Guardar datos con shelve"
      ],
      "metadata": {
        "id": "GJW39Bu9bcdU"
      }
    },
    {
      "cell_type": "markdown",
      "source": [
        "Un \"shelf\" es un objeto similar a un diccionario persistente. Lo interesante de esto es que los valores que guardas en un \"shelf\" pueden ser cualquier objeto que puedas serializar con pickle, por lo que no estás restringido como lo estarías si estuvieras utilizando una base de datos."
      ],
      "metadata": {
        "id": "KTPkauhIMo7N"
      }
    },
    {
      "cell_type": "code",
      "source": [
        "# guardar_datos_shelve.py\n",
        "import shelve\n",
        "class Person:\n",
        "    def __init__(self, name, id):\n",
        "        self.name = name\n",
        "        self.id = id\n",
        "\n",
        "with shelve.open('shelf1.shelve') as db:\n",
        "    db['obi1'] = Person('Obi-Wan', 123)\n",
        "    db['ani'] = Person('Anakin', 456)\n",
        "    db['a_list'] = [2, 3, 5]\n",
        "    db['delete_me'] = 'we will have to delete this one...'\n",
        "    print(list(db.keys())) # 'ani', 'delete_me', 'a_list', 'obi1']\n",
        "\n",
        "    del db['delete_me'] # eliminado!\n",
        "    print(list(db.keys())) # ['ani', 'a_list', 'obi1']\n",
        "    print('delete_me' in db) # Falso\n",
        "    print('ani' in db) # Verdadero\n",
        "\n",
        "    a_list = db['a_list']\n",
        "    a_list.append(7)\n",
        "    db['a_list'] = a_list\n",
        "    print(db['a_list']) # [2, 3, 5, 7]"
      ],
      "metadata": {
        "colab": {
          "base_uri": "https://localhost:8080/"
        },
        "id": "EDqUWBYHbif6",
        "outputId": "06cba61a-4ba3-48be-b97a-11193851bb98"
      },
      "execution_count": null,
      "outputs": [
        {
          "output_type": "stream",
          "name": "stdout",
          "text": [
            "['a_list', 'ani', 'delete_me', 'obi1']\n",
            "['a_list', 'ani', 'obi1']\n",
            "False\n",
            "True\n",
            "[2, 3, 5, 7]\n"
          ]
        }
      ]
    },
    {
      "cell_type": "markdown",
      "source": [
        "Creamos una simple clase Person y luego abrimos un archivo de \"shelf\" dentro de un gestor de contexto. Como puedes ver, usamos la sintaxis de diccionario para almacenar cuatro objetos: dos instancias de Person, una lista y una cadena. Si imprimimos las claves, obtenemos una lista que contiene las cuatro claves que utilizamos. Inmediatamente después de imprimirlo, eliminamos el par clave/valor (apropiadamente llamado) delete_me del \"shelf\". Imprimir las claves nuevamente muestra que la eliminación ha tenido éxito. Luego probamos un par de claves para ver si pertenecen y, finalmente, agregamos el número 7 a a_list. Observa cómo tenemos que extraer la lista del \"shelf\", modificarla y guardarla de nuevo.\n",
        "\n",
        "\n",
        "\n",
        "\n",
        "\n",
        "\n"
      ],
      "metadata": {
        "id": "nJ1UworgohM5"
      }
    }
  ]
}